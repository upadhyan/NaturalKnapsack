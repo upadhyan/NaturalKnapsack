{
 "cells": [
  {
   "cell_type": "code",
   "execution_count": 54,
   "id": "e94d8bd2",
   "metadata": {},
   "outputs": [
    {
     "name": "stdout",
     "output_type": "stream",
     "text": [
      "[28, 8, 24, 38, 26, 47, 46, 23, 18, 18, 34, 36, 12, 33, 32, 29, 35, 10, 2, 1, 37, 35, 12, 36, 33, 8, 34, 36, 2, 36, 3, 44, 42, 9, 7, 32, 12, 5, 4, 50, 48, 30, 39, 46, 26, 5, 44, 28, 21, 24, 45, 11, 20, 45, 21, 24, 37, 8, 7, 49, 25, 44, 16, 9, 37, 8, 1, 17, 42, 12, 32, 49, 20, 42, 48, 47, 11, 1, 9, 16, 3, 48, 27, 18, 23, 38, 30, 3, 48, 20, 36, 46, 20, 8, 16, 50, 32, 49, 12, 14]\n"
     ]
    }
   ],
   "source": [
    "import re\n",
    "import numpy as np\n",
    "np.set_printoptions(threshold=np.inf)\n",
    "\n",
    "# function to split a line into objects by whitespaces\n",
    "def ws_split(lst):\n",
    "    lst = re.split(r'\\s+', lst)\n",
    "    lst.pop()        #remove first empty character\n",
    "    lst.pop(0)       #remove last empty character\n",
    "    return lst\n",
    "\n",
    "def ws_split_int(lst):\n",
    "    lst = re.split(r'\\s+', lst)\n",
    "    lst.pop()        #remove first empty character\n",
    "    lst.pop(0)       #remove last empty character\n",
    "    lst = [int(x) for x in lst]\n",
    "    return lst\n",
    "\n",
    "def instance_read(instance):\n",
    "    with open(instance) as f:\n",
    "        lines = f.readlines()\n",
    "    d = dict();\n",
    "    d['ref'] = lines[0]\n",
    "    num_of_vars = d['num_of_vars'] = int(lines[1])\n",
    "    d['profits'] = ws_split_int(lines[2])\n",
    "    combinations = [ws_split_int(i) for i in lines[3:num_of_vars+2]]\n",
    "    combi_length = max(map(len, combinations))\n",
    "    d['combinations'] = np.array([[0]*(combi_length-len(xi))+xi for xi in combinations])\n",
    "    d['constraint_type'] = lines[int(num_of_vars)+3]\n",
    "    d['capacity'] = lines[int(num_of_vars)+4]\n",
    "    d['weights'] = ws_split_int(lines[num_of_vars+5])\n",
    "    \n",
    "    return d\n",
    "\n",
    "\n",
    "####\n",
    "# available keys: ref (instance reference) \n",
    "# num_of_vars (n)\n",
    "# profits (p_i)\n",
    "# combinations (p_ij)\n",
    "# constraint_type\n",
    "# capacity (C_k)\n",
    "# weights (w_i)\n",
    "####\n",
    "\n",
    "print(instance_read('jeu_100_25_1.txt').get(\"weights\"))"
   ]
  }
 ],
 "metadata": {
  "kernelspec": {
   "display_name": "Python 3",
   "language": "python",
   "name": "python3"
  },
  "language_info": {
   "codemirror_mode": {
    "name": "ipython",
    "version": 3
   },
   "file_extension": ".py",
   "mimetype": "text/x-python",
   "name": "python",
   "nbconvert_exporter": "python",
   "pygments_lexer": "ipython3",
   "version": "3.8.8"
  }
 },
 "nbformat": 4,
 "nbformat_minor": 5
}
