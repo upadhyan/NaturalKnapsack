{
 "cells": [
  {
   "cell_type": "code",
   "execution_count": 59,
   "id": "e94d8bd2",
   "metadata": {},
   "outputs": [
    {
     "name": "stdout",
     "output_type": "stream",
     "text": [
      "[ 0  0  0 57 60 52  0  0  0  0 98 70 88  0 84  0  0 68  0  0  0 92  0  0\n",
      " 94  0  0  0  0  0  0  0  0 86 26  0  0  0  0 25 78 54 24  0  0  0  0  0\n",
      "  0  0  0  0  0  0  0  0 38 37 88  0  0  0  0  0  0  0  0  0  0  0 24  0\n",
      " 27  0 87  0  0  0  0 61  0 40  0  0  0  0  0  0  0  0 91  0 84 96  0  0\n",
      "  0  0  0 52]\n"
     ]
    }
   ],
   "source": [
    "import re\n",
    "import numpy as np\n",
    "np.set_printoptions(threshold=np.inf)\n",
    "\n",
    "# function to split a line into objects by whitespaces\n",
    "def ws_split(lst):\n",
    "    lst = re.split(r'\\s+', lst)\n",
    "    lst.pop()        #remove first empty character\n",
    "    lst.pop(0)       #remove last empty character\n",
    "    return lst\n",
    "\n",
    "def ws_split_int(lst):\n",
    "    lst = re.split(r'\\s+', lst)\n",
    "    lst.pop()        #remove first empty character\n",
    "    lst.pop(0)       #remove last empty character\n",
    "    lst = [int(x) for x in lst]\n",
    "    return lst\n",
    "\n",
    "def instance_read(instance):\n",
    "    with open(instance) as f:\n",
    "        lines = f.readlines()\n",
    "    d = dict();\n",
    "    d['ref'] = lines[0]\n",
    "    num_of_vars = d['num_of_vars'] = int(lines[1])\n",
    "    d['profits'] = np.asarray(ws_split_int(lines[2]))\n",
    "    combinations = [ws_split_int(i) for i in lines[3:num_of_vars+2]]\n",
    "    combi_length = max(map(len, combinations))\n",
    "    d['combinations'] = np.array([[0]*(combi_length-len(xi))+xi for xi in combinations])\n",
    "    d['constraint_type'] = lines[int(num_of_vars)+3]\n",
    "    d['capacity'] = lines[int(num_of_vars)+4]\n",
    "    d['weights'] = np.asarray(ws_split_int(lines[num_of_vars+5]))\n",
    "    \n",
    "    return d\n",
    "\n",
    "\n",
    "####\n",
    "# available keys: ref (instance reference) \n",
    "# num_of_vars (n)\n",
    "# profits (p_i)\n",
    "# combinations (p_ij)\n",
    "# constraint_type\n",
    "# capacity (C_k)\n",
    "# weights (w_i)\n",
    "####\n",
    "\n",
    "print(instance_read('jeu_100_25_1.txt').get(\"profits\"))"
   ]
  }
 ],
 "metadata": {
  "kernelspec": {
   "display_name": "Python 3",
   "language": "python",
   "name": "python3"
  },
  "language_info": {
   "codemirror_mode": {
    "name": "ipython",
    "version": 3
   },
   "file_extension": ".py",
   "mimetype": "text/x-python",
   "name": "python",
   "nbconvert_exporter": "python",
   "pygments_lexer": "ipython3",
   "version": "3.8.8"
  }
 },
 "nbformat": 4,
 "nbformat_minor": 5
}
