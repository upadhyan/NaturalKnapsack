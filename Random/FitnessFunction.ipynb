{
 "cells": [
  {
   "cell_type": "code",
   "execution_count": 4,
   "metadata": {},
   "outputs": [],
   "source": [
    "import pandas as pd\n",
    "import numpy as np"
   ]
  },
  {
   "cell_type": "code",
   "execution_count": 5,
   "metadata": {},
   "outputs": [],
   "source": [
    "def row_profit(profit_matrix, row):\n",
    "    row.shape = [1, row.shape[0]]\n",
    "    combo = row.T @ row\n",
    "    result = profit_matrix * combo\n",
    "    return result.sum()\n",
    "def fitness_function(profit_matrix, solution):\n",
    "    def row_wrapper(row):\n",
    "        return row_profit(profit_matrix, row)\n",
    "    result = np.apply_along_axis(row_wrapper, axis = 1, arr = solution)\n",
    "    return result.sum()"
   ]
  },
  {
   "cell_type": "code",
   "execution_count": 60,
   "metadata": {},
   "outputs": [],
   "source": [
    "def feature_transform(integer_representation):\n",
    "    n = len(integer_representation)\n",
    "    m = max(integer_representation)\n",
    "    if min(integer_representation) < 0:\n",
    "        raise ValueError(\"One of the items is in a negative knapsack, which doesn't make sense\")\n",
    "    binary_matrix = np.zeros((m,n))\n",
    "    for i in range(n):\n",
    "        if not integer_representation[i] == 0:\n",
    "            binary_matrix[integer_representation[i]-1, i] = 1\n",
    "    idx = np.argwhere(np.all(binary_matrix[..., :] == 0, axis=1))\n",
    "    a2 = np.delete(binary_matrix, idx, axis=0)\n",
    "    return feature_revert(a2)\n",
    "def feature_revert(binary_matrix):\n",
    "    n = binary_matrix.shape[1]\n",
    "    m = binary_matrix.shape[0]\n",
    "    sol = [0] * binary_matrix.shape[1]\n",
    "    result = (binary_matrix.T @ np.arange(1,m+1)).astype(int)\n",
    "    return result.tolist()"
   ]
  },
  {
   "cell_type": "code",
   "execution_count": 62,
   "metadata": {},
   "outputs": [
    {
     "data": {
      "text/plain": [
       "[0, 1, 2, 3, 4, 5, 1, 1]"
      ]
     },
     "execution_count": 62,
     "metadata": {},
     "output_type": "execute_result"
    }
   ],
   "source": [
    "\"\"\"\n",
    "array([[0., 0., 0., 0., 0., 0.],\n",
    "       [0., 1., 0., 0., 0., 0.],\n",
    "       [0., 0., 1., 0., 0., 0.],\n",
    "       [0., 0., 0., 0., 0., 0.],\n",
    "       [0., 0., 0., 0., 0., 0.],\n",
    "       [0., 0., 0., 0., 0., 0.],\n",
    "       [0., 0., 0., 1., 0., 0.],\n",
    "       [0., 0., 0., 0., 1., 0.],\n",
    "       [0., 0., 0., 0., 0., 0.],\n",
    "       [0., 0., 0., 0., 0., 0.],\n",
    "       [0., 0., 0., 0., 0., 0.],\n",
    "       [0., 0., 0., 0., 0., 1.]])\n",
    "\"\"\"\n",
    "integer_rep = [0,2,3,7,8,12,2,2]\n",
    "\n",
    "feature_transform(integer_rep)\n"
   ]
  },
  {
   "cell_type": "code",
   "execution_count": 3,
   "metadata": {},
   "outputs": [
    {
     "data": {
      "text/plain": [
       "6"
      ]
     },
     "execution_count": 3,
     "metadata": {},
     "output_type": "execute_result"
    }
   ],
   "source": [
    "profit = np.array([[1,2,3],[0,1,2],[0,0,1]])\n",
    "row = np.array([[1,0,1], [0,1,0]])\n",
    "fitness_function(profit, row)"
   ]
  }
 ],
 "metadata": {
  "kernelspec": {
   "display_name": "Python 3",
   "language": "python",
   "name": "python3"
  },
  "language_info": {
   "codemirror_mode": {
    "name": "ipython",
    "version": 3
   },
   "file_extension": ".py",
   "mimetype": "text/x-python",
   "name": "python",
   "nbconvert_exporter": "python",
   "pygments_lexer": "ipython3",
   "version": "3.7.3"
  }
 },
 "nbformat": 4,
 "nbformat_minor": 2
}
