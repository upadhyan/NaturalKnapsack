{
 "cells": [
  {
   "cell_type": "markdown",
   "metadata": {
    "internals": {
     "slide_type": "subslide"
    },
    "slideshow": {
     "slide_type": "slide"
    }
   },
   "source": [
    "<div align='left' style=\"width:400px;height:120px;overflow:hidden;\">\n",
    "<a href='http://www.uff.br'>\n",
    "<img align='left' style='display: block;height: 92%' src='https://github.com/lmarti/jupyter_custom/raw/master/imgs/uff.png' alt='UFF logo' title='UFF logo'/>\n",
    "</a>\n",
    "<a href='http://www.ic.uff.br'>\n",
    "<img align='left' style='display: block;height: 100%' src='https://github.com/lmarti/jupyter_custom/raw/master/imgs/logo-ic.png' alt='IC logo' title='IC logo'/>\n",
    "</a>\n",
    "</div>"
   ]
  },
  {
   "cell_type": "markdown",
   "metadata": {
    "internals": {
     "slide_helper": "subslide_end"
    },
    "slide_helper": "subslide_end",
    "slideshow": {
     "slide_type": "-"
    }
   },
   "source": [
    "# Evolutionary Multi-Objective Optimization\n",
    "\n",
    "## Luis Martí, [IC](http://www.ic.uff.br)/[UFF](http://www.uff.br)\n",
    "\n",
    "[http://lmarti.com](http://lmarti.com); [lmarti@ic.uff.br](mailto:lmarti@ic.uff.br) \n",
    "\n",
    "[Advanced Evolutionary Computation: Theory and Practice](http://lmarti.com/aec-2014) "
   ]
  },
  {
   "cell_type": "markdown",
   "metadata": {
    "internals": {
     "slide_helper": "subslide_end",
     "slide_type": "subslide"
    },
    "slide_helper": "slide_end",
    "slideshow": {
     "slide_type": "subslide"
    }
   },
   "source": [
    "This notebook is better viewed rendered as slides. You can convert it to slides and view them by:\n",
    "- using [nbconvert](http://ipython.org/ipython-doc/1/interactive/nbconvert.html) with a command like:\n",
    "  ```bash\n",
    "  $ ipython nbconvert --to slides --post serve <this-notebook-name.ipynb>\n",
    "  ```\n",
    "- installing [Reveal.js - Jupyter/IPython Slideshow Extension](https://github.com/damianavila/live_reveal)\n",
    "- using the online [IPython notebook slide viewer](https://slideviewer.herokuapp.com/) (some slides of the notebook might not be properly rendered).\n",
    "\n",
    "This and other related IPython notebooks can be found at the course github repository:\n",
    "* [https://github.com/lmarti/evolutionary-computation-course](https://github.com/lmarti/evolutionary-computation-course)"
   ]
  },
  {
   "cell_type": "markdown",
   "metadata": {
    "internals": {
     "slide_helper": "subslide_end",
     "slide_type": "subslide"
    },
    "slide_helper": "slide_end",
    "slideshow": {
     "slide_type": "slide"
    }
   },
   "source": [
    "# In this notebook\n",
    "\n",
    "* Present the basic concepts related to evolutionary multi-objective optimization algorithms.\n",
    "* The Non-dominated Sorting Genetic Algorithm II (NSGA-II).\n",
    "* Benchmark test problems.\n",
    "* Experiment design and results comparison."
   ]
  },
  {
   "cell_type": "markdown",
   "metadata": {
    "internals": {
     "slide_helper": "subslide_end",
     "slide_type": "subslide"
    },
    "slide_helper": "slide_end",
    "slideshow": {
     "slide_type": "slide"
    }
   },
   "source": [
    "## How can we handle multiple conflicting objectives?\n",
    "\n",
    "Even choosing a fruit implies dealing with conflicting objectives.\n",
    "\n",
    "<div align='center'><img src='http://imgs.xkcd.com/comics/fuck_grapefruit.png' width='56%' align='center'/>\n",
    "taken from http://xkcd.com/388/</div>"
   ]
  },
  {
   "cell_type": "markdown",
   "metadata": {
    "internals": {
     "slide_helper": "subslide_end",
     "slide_type": "subslide"
    },
    "slide_helper": "slide_end",
    "slideshow": {
     "slide_type": "slide"
    }
   },
   "source": [
    "# [Multi-objective optimization](http://en.wikipedia.org/wiki/Multi-objective_optimization)\n",
    "\n",
    "* Most -*if not all*- optimization problems involve more than one objective function to be optimized simultaneously.\n",
    "* For example, you must optimize a given feature of an object while keeping under control the resources needed to elaborate that object.\n",
    "* Sometimes those other objectives are converted to constraints or fixed to default values, but that does not means that they are there.\n",
    "* Multi-objective optimization is also known as *multi-objective programming*, *vector optimization*, *multicriteria optimization*, *multiattribute optimization* or *Pareto optimization* (and probably by other names, depending on the field).\n",
    "* Multi-objective optimization has been applied in [many fields of science](http://en.wikipedia.org/wiki/Multi-objective_optimization#Examples_of_multi-objective_optimization_applications), including engineering, economics and logistics (see the section on applications for detailed examples) where optimal decisions need to be taken in the presence of trade-offs between two or more conflicting objectives."
   ]
  },
  {
   "cell_type": "markdown",
   "metadata": {
    "internals": {
     "slide_helper": "subslide_end",
     "slide_type": "subslide"
    },
    "slide_helper": "slide_end",
    "slideshow": {
     "slide_type": "slide"
    }
   },
   "source": [
    "## A Multi-objective Optimization Problem (MOP)\n",
    "\n",
    "$$\n",
    "\\renewcommand{\\vec}[1]{\\mathbf{#1}}\n",
    "\\newcommand{\\set}[1]{\\mathcal{#1}}\n",
    "\\newcommand{\\dom}{\\preccurlyeq}\n",
    "\\left.\n",
    "\\begin{array}{rl}\n",
    "\\mathrm{minimize}             & \\vec{F}(\\vec{x})=\\langle f_1(\\vec{x}),\\ldots,f_M(\\vec{x})\\rangle\\,,\\\\ \n",
    "\\mathrm{subject}\\ \\mathrm{to} & c_1(\\vec{x}),\\ldots,c_C(\\vec{x})\\le 0\\,,\\\\\n",
    "\t\t\t\t\t\t\t  & d_1(\\vec{x}),\\ldots,d_D(\\vec{x})= 0\\,,\\\\\n",
    "& \\text{with}\\ \\vec{x}\\in\\set{D}\\,,\n",
    "\\end{array}\\right\\}\n",
    "$$\n",
    "\n",
    "* $\\mathcal{D}$ is known as the *decision set* or *search set*.\n",
    "* functions $f_1(\\mathbf{x}),\\ldots,f_M(\\mathbf{x})$ are the *objective functions*. If $M=1$ the problem reduces to a single-objective optimization problem. \n",
    "* Image set, $\\set{O}$, result of the projection of $\\set{D}$ via $f_1(\\vec{x}),\\ldots,f_M(\\vec{x})$ is called *objective set* ($\\vec{F}:\\set{D}\\rightarrow\\set{O}$).\n",
    "* $c_1(\\vec{x}),\\ldots,c_C(\\vec{x})\\le 0$ and $d_1(\\vec{x}),\\ldots,d_D(\\vec{x})= 0$  express the constraints imposed on the values of $\\vec{x}$.\n",
    "\n",
    "*Note:* In case you are -still- wondering, a maximization problem can be posed as the minimization one: $\\min\\ -\\vec{F}(\\vec{x})$."
   ]
  },
  {
   "cell_type": "markdown",
   "metadata": {
    "internals": {
     "slide_helper": "subslide_end",
     "slide_type": "subslide"
    },
    "slide_helper": "slide_end",
    "slideshow": {
     "slide_type": "slide"
    }
   },
   "source": [
    "## Example: A two variables and two objectives MOP\n",
    "<img src='static/mop-2d.jpg' height='56%' align='center'/>"
   ]
  },
  {
   "cell_type": "markdown",
   "metadata": {
    "internals": {
     "slide_helper": "subslide_end",
     "slide_type": "subslide"
    },
    "slide_helper": "slide_end",
    "slideshow": {
     "slide_type": "slide"
    }
   },
   "source": [
    "## MOP (optimal) solutions\n",
    "\n",
    "Usually, there is not a unique solution that minimizes all objective functions simultaneously, but, instead, a set of equally good *trade-off* solutions.\n",
    "\n",
    "* *Optimality* can be defined in terms of the [*Pareto dominance*](https://en.wikipedia.org/wiki/Pareto_efficiency) relation. That is, having $\\vec{x},\\vec{y}\\in\\set{D}$, $\\vec{x}$ is said to dominate $\\vec{y}$ (expressed as $\\vec{x}\\dom\\vec{y}$) iff $\\forall f_j$, $f_j(\\vec{x})\\leq f_j(\\vec{y})$ and $\\exists f_i$ such that $f_i(\\vec{x})< f_i(\\vec{y})$.\n",
    "* Having the set $\\set{A}$. $\\set{A}^\\ast$, the *non-dominated subset* of $\\set{A}$, is defined as\n",
    "\n",
    "$$\n",
    "\\set{A}^\\ast=\\left\\{ \\vec{x}\\in\\set{A} \\left|\\not\\exists\\vec{y}\\in\\set{A}:\\vec{y}\\dom\\vec{x}\\right.\\right\\}.\n",
    "$$\n",
    "\n",
    "* The *Pareto-optimal set*, $\\set{D}^{\\ast}$, is the solution of the problem. It is the subset of non-dominated elements of $\\set{D}$. It is also known as the *efficient set*.\n",
    "* It consists of solutions that cannot be improved in any of the objectives without degrading at least one of the other objectives.\n",
    "* Its image in objective set is called the *Pareto-optimal front*, $\\set{O}^\\ast$.\n",
    "* Evolutionary algorithms generally yield a set of non-dominated solutions, $\\set{P}^\\ast$, that approximates $\\set{D}^{\\ast}$.\n"
   ]
  },
  {
   "cell_type": "markdown",
   "metadata": {
    "internals": {
     "slide_type": "subslide"
    },
    "slideshow": {
     "slide_type": "slide"
    }
   },
   "source": [
    "As usual, we need some initialization and configuration."
   ]
  },
  {
   "cell_type": "code",
   "execution_count": 42,
   "metadata": {
    "internals": {},
    "slideshow": {
     "slide_type": "-"
    }
   },
   "outputs": [],
   "source": [
    "import time, array, random, copy, math\n",
    "import numpy as np\n",
    "import pandas as pd"
   ]
  },
  {
   "cell_type": "code",
   "execution_count": 43,
   "metadata": {},
   "outputs": [],
   "source": [
    "import matplotlib.pyplot as plt\n",
    "%matplotlib inline\n",
    "%config InlineBackend.figure_format = 'retina'\n",
    "# plt.rc('text', usetex=True)\n",
    "# plt.rc('font', family='serif')\n",
    "# plt.rcParams['text.latex.preamble'] ='\\\\usepackage{libertine}\\n\\\\usepackage[utf8]{inputenc}'\n",
    "\n",
    "import seaborn\n",
    "seaborn.set(style='whitegrid')\n",
    "seaborn.set_context('notebook')"
   ]
  },
  {
   "cell_type": "code",
   "execution_count": 44,
   "metadata": {},
   "outputs": [],
   "source": [
    "from deap import algorithms, base, benchmarks, tools, creator"
   ]
  },
  {
   "cell_type": "markdown",
   "metadata": {
    "internals": {
     "frag_helper": "fragment_end",
     "frag_number": 11,
     "slide_type": "subslide"
    },
    "slideshow": {
     "slide_type": "subslide"
    }
   },
   "source": [
    "Planting a constant seed to always have the same results (and avoid surprises in class). -*you should not do this in a real-world case!*"
   ]
  },
  {
   "cell_type": "code",
   "execution_count": 45,
   "metadata": {
    "internals": {
     "frag_helper": "fragment_end",
     "frag_number": 11,
     "slide_helper": "subslide_end"
    },
    "slide_helper": "slide_end",
    "slideshow": {
     "slide_type": "-"
    }
   },
   "outputs": [],
   "source": [
    "random.seed(a=42)"
   ]
  },
  {
   "cell_type": "markdown",
   "metadata": {
    "internals": {
     "frag_helper": "fragment_end",
     "frag_number": 11,
     "slide_type": "subslide"
    },
    "slideshow": {
     "slide_type": "slide"
    }
   },
   "source": [
    "# Visualizing the Pareto dominance relation\n",
    "\n",
    "* To start, lets have a visual example of the Pareto dominance relationship in action.\n",
    "* In this notebook we will deal with two-objective problems in order to simplify visualization. \n",
    "* Therefore, we can create:"
   ]
  },
  {
   "cell_type": "code",
   "execution_count": 46,
   "metadata": {
    "internals": {
     "frag_helper": "fragment_end",
     "frag_number": 11,
     "slide_helper": "subslide_end"
    },
    "slide_helper": "slide_end",
    "slideshow": {
     "slide_type": "-"
    }
   },
   "outputs": [
    {
     "name": "stderr",
     "output_type": "stream",
     "text": [
      "/opt/anaconda3/lib/python3.8/site-packages/deap/creator.py:138: RuntimeWarning: A class named 'FitnessMin' has already been created and it will be overwritten. Consider deleting previous creation of that class or rename it.\n",
      "  warnings.warn(\"A class named '{0}' has already been created and it \"\n",
      "/opt/anaconda3/lib/python3.8/site-packages/deap/creator.py:138: RuntimeWarning: A class named 'Individual' has already been created and it will be overwritten. Consider deleting previous creation of that class or rename it.\n",
      "  warnings.warn(\"A class named '{0}' has already been created and it \"\n"
     ]
    }
   ],
   "source": [
    "creator.create(\"FitnessMin\", base.Fitness, weights=(-1.0,-1.0))\n",
    "creator.create(\"Individual\", array.array, typecode='d', \n",
    "               fitness=creator.FitnessMin)"
   ]
  },
  {
   "cell_type": "markdown",
   "metadata": {
    "internals": {
     "frag_helper": "fragment_end",
     "frag_number": 11,
     "slide_helper": "subslide_end",
     "slide_type": "subslide"
    },
    "slide_helper": "slide_end",
    "slideshow": {
     "slide_type": "slide"
    }
   },
   "source": [
    "## Let's use an illustrative MOP problem: Dent\n",
    "\n",
    "$$\n",
    "\\begin{array}{rl}\n",
    "\\text{minimize} & f_1(\\vec{x}),f_2(\\vec{x}) \\\\\n",
    "\\text{such that} & f_1(\\vec{x}) = \\frac{1}{2}\\left( \\sqrt{1 + (x_1 + x_2)^2} \\sqrt{1 + (x_1 - x_2)^2} + x_1 -x_2\\right) + d,\\\\\n",
    " & f_2(\\vec{x}) = \\frac{1}{2}\\left( \\sqrt{1 + (x_1 + x_2)^2} \\sqrt{1 + (x_1 - x_2)^2} - x_1 -x_2\\right) + d,\\\\\n",
    "\\text{with}& d = \\lambda e^{-\\left(x_1-x_2\\right)^2}\\ (\\text{generally }\\lambda=0.85) \\text{ and } \\vec{x}\\in \\left[-1.5,1.5\\right]^2.\n",
    "\\end{array}\n",
    "$$"
   ]
  },
  {
   "cell_type": "markdown",
   "metadata": {
    "internals": {
     "frag_helper": "fragment_end",
     "frag_number": 11,
     "slide_type": "subslide"
    },
    "slideshow": {
     "slide_type": "slide"
    }
   },
   "source": [
    "Implementing the Dent problem"
   ]
  },
  {
   "cell_type": "code",
   "execution_count": 47,
   "metadata": {
    "internals": {
     "frag_helper": "fragment_end",
     "frag_number": 11,
     "slide_helper": "subslide_end"
    },
    "slide_helper": "slide_end",
    "slideshow": {
     "slide_type": "-"
    }
   },
   "outputs": [],
   "source": [
    "def dent(individual, lbda = 0.85):\n",
    "    \"\"\" \n",
    "    Implements the test problem Dent\n",
    "    Num. variables = 2; bounds in [-1.5, 1.5]; num. objetives = 2.\n",
    "    @author Cesar Revelo\n",
    "    \"\"\"\n",
    "    d  = lbda * math.exp(-(individual[0] - individual[1]) ** 2)  \n",
    "    f1 = 0.5 * (math.sqrt(1 + (individual[0] + individual[1]) ** 2) + \\\n",
    "                math.sqrt(1 + (individual[0] - individual[1]) ** 2) + \\\n",
    "                individual[0] - individual[1]) + d\n",
    "    f2 = 0.5 * (math.sqrt(1 + (individual[0] + individual[1]) ** 2) + \\\n",
    "                math.sqrt(1 + (individual[0] - individual[1]) ** 2) - \\\n",
    "                individual[0] + individual[1]) + d\n",
    "    return f1, f2"
   ]
  },
  {
   "cell_type": "markdown",
   "metadata": {
    "internals": {
     "frag_helper": "fragment_end",
     "frag_number": 11,
     "slide_type": "subslide"
    },
    "slideshow": {
     "slide_type": "slide"
    }
   },
   "source": [
    "Preparing a DEAP `toolbox` with Dent."
   ]
  },
  {
   "cell_type": "code",
   "execution_count": 48,
   "metadata": {
    "internals": {
     "frag_helper": "fragment_end",
     "frag_number": 11
    },
    "slideshow": {
     "slide_type": "-"
    }
   },
   "outputs": [],
   "source": [
    "toolbox = base.Toolbox()"
   ]
  },
  {
   "cell_type": "code",
   "execution_count": 49,
   "metadata": {
    "internals": {
     "frag_helper": "fragment_end",
     "frag_number": 11
    },
    "slideshow": {
     "slide_type": "-"
    }
   },
   "outputs": [],
   "source": [
    "BOUND_LOW, BOUND_UP = -1.5, 1.5\n",
    "NDIM = 2\n",
    "# toolbox.register(\"evaluate\", lambda ind: benchmarks.dtlz2(ind, 2))\n",
    "toolbox.register(\"evaluate\", dent)"
   ]
  },
  {
   "cell_type": "markdown",
   "metadata": {
    "internals": {
     "frag_helper": "fragment_end",
     "frag_number": 11
    },
    "slideshow": {
     "slide_type": "-"
    }
   },
   "source": [
    "Defining attributes, individuals and population."
   ]
  },
  {
   "cell_type": "code",
   "execution_count": 50,
   "metadata": {
    "internals": {
     "frag_helper": "fragment_end",
     "frag_number": 11,
     "slide_helper": "subslide_end"
    },
    "slide_helper": "slide_end",
    "slideshow": {
     "slide_type": "-"
    }
   },
   "outputs": [],
   "source": [
    "def uniform(low, up, size=None):\n",
    "    try:\n",
    "        print([random.uniform(a, b) for a, b in zip(low, up)])\n",
    "        return [random.uniform(a, b) for a, b in zip(low, up)]\n",
    "    except TypeError:\n",
    "        print([random.uniform(a, b) for a, b in zip([low] * size, [up] * size)])\n",
    "        return [random.uniform(a, b) for a, b in zip([low] * size, [up] * size)]\n",
    "\n",
    "toolbox.register(\"attr_float\", uniform, BOUND_LOW, BOUND_UP, NDIM)\n",
    "toolbox.register(\"individual\", tools.initIterate, creator.Individual, toolbox.attr_float)\n",
    "toolbox.register(\"population\", tools.initRepeat, list, toolbox.individual)\n"
   ]
  },
  {
   "cell_type": "markdown",
   "metadata": {
    "internals": {
     "frag_helper": "fragment_end",
     "frag_number": 11,
     "slide_type": "subslide"
    },
    "slideshow": {
     "slide_type": "slide"
    }
   },
   "source": [
    "Creating an example population distributed as a mesh."
   ]
  },
  {
   "cell_type": "code",
   "execution_count": 51,
   "metadata": {
    "internals": {
     "frag_helper": "fragment_end",
     "frag_number": 11
    },
    "slideshow": {
     "slide_type": "-"
    }
   },
   "outputs": [],
   "source": [
    "num_samples = 50\n",
    "limits = [np.arange(BOUND_LOW, BOUND_UP, (BOUND_UP - BOUND_LOW)/num_samples)] * NDIM\n",
    "sample_x = np.meshgrid(*limits)"
   ]
  },
  {
   "cell_type": "code",
   "execution_count": 52,
   "metadata": {
    "internals": {
     "frag_helper": "fragment_end",
     "frag_number": 11,
     "slide_helper": "subslide_end"
    },
    "slide_helper": "slide_end",
    "slideshow": {
     "slide_type": "-"
    }
   },
   "outputs": [],
   "source": [
    "flat = []\n",
    "for i in range(len(sample_x)):\n",
    "    x_i = sample_x[i]\n",
    "    flat.append(x_i.reshape(num_samples**NDIM))"
   ]
  },
  {
   "cell_type": "code",
   "execution_count": 53,
   "metadata": {
    "internals": {
     "frag_helper": "fragment_end",
     "frag_number": 11,
     "slide_type": "subslide"
    },
    "slideshow": {
     "slide_type": "slide"
    }
   },
   "outputs": [
    {
     "name": "stdout",
     "output_type": "stream",
     "text": [
      "[0.41828039537365136, -1.4249677343319993]\n",
      "[0.709413642492037, 0.5300984622687341]\n",
      "[-0.23423454094418883, -1.4106083416857889]\n",
      "[-1.4203920909484091, -0.9034870479400545]\n",
      "[-0.8386781338779099, 0.26779705162772616]\n",
      "[0.9174577554984236, 0.5944181849646806]\n",
      "[1.3716392166203435, -0.4902163646621198]\n",
      "[1.0424830990423795, 0.3111780941006732]\n",
      "[0.10868427436410233, 1.419347291938112]\n",
      "[0.9882139927589844, 0.35555925709273817]\n",
      "[0.6137155086447703, -1.3625268490330134]\n",
      "[-1.2606240692291175, -0.8016273409169095]\n",
      "[0.40705333279320044, -0.4055034630897474]\n",
      "[-0.6990665338526599, 1.3099637631374819]\n",
      "[-0.986584055405709, 0.6873803938510474]\n",
      "[1.4685700519097855, 0.41999927956227845]\n",
      "[1.0285557605694287, 0.8279997346387344]\n",
      "[-0.5536408558227542, -0.6967773720728918]\n",
      "[1.1291028794180065, -0.5559663576045663]\n",
      "[1.2436427692216308, -0.1234444422378036]\n",
      "[0.18410440248945248, -0.7117751744311942]\n",
      "[-0.3017984845788082, -0.84203772252815]\n",
      "[-1.2272717634786183, -1.3586508737257963]\n",
      "[0.8762380930888924, -0.23352009960094788]\n",
      "[1.4883641407202903, 0.08734303529741094]\n",
      "[-1.465556934171541, 0.662165458080584]\n",
      "[-0.6995244301423716, 0.4228853957394243]\n",
      "[-0.13882888101238056, 1.3614477825632405]\n",
      "[0.0017583391508950719, -0.9640443584096059]\n",
      "[-0.6046656256541013, 0.4168484845980154]\n",
      "[0.7875324002254538, 0.1181370903588772]\n",
      "[-1.4982843116161695, -0.5275318289859807]\n",
      "[1.1361656334695525, 0.9949965880835383]\n",
      "[1.1340287976121215, 1.3408483358939822]\n",
      "[-1.2923624445948492, 0.7818064957716948]\n",
      "[-0.07415286570380619, 0.1494107804848317]\n",
      "[-0.23058617939733939, -0.8646053836737538]\n",
      "[-0.8965468098309123, -0.5648511260973151]\n",
      "[-0.18569974825648794, 0.05272752310677187]\n",
      "[-0.4857433135576339, 0.26492615537169995]\n",
      "[-1.2870207419729023, 0.3933088718102966]\n",
      "[1.0789062007612396, -1.2874279503340396]\n",
      "[-0.8572895778886842, -1.103064453824925]\n",
      "[-0.08198692106461758, 0.8538582728722601]\n",
      "[-1.2092075573135301, -0.20684645278086755]\n",
      "[0.6872275483795516, 0.5200936418799045]\n",
      "[-0.2921361536931937, -0.48209218381511043]\n",
      "[-0.9293732746775655, -0.1541593565006043]\n",
      "[-0.7505806563536985, 1.2697967978280387]\n",
      "[0.15097593734954406, -1.3482350114253563]\n",
      "[1.4069887718542535, 1.2791009490243828]\n",
      "[-0.04307662364784459, -0.858758102402455]\n",
      "[-0.3630806430692517, 1.4559265313391778]\n",
      "[-0.13497489798257023, -0.23097754202951126]\n",
      "[0.16730497021685453, 0.6552248258889781]\n",
      "[1.4061280949074764, 0.23754087244876865]\n",
      "[-1.3285041812775509, 0.25253278337691354]\n",
      "[-1.0277018161815503, 1.3823367098233512]\n",
      "[0.285105319350083, 0.5256376608122704]\n",
      "[1.1708619423883126, -0.7613539566341254]\n",
      "[-0.24232525399238258, 0.25101686787367417]\n",
      "[-0.8872224017293907, 0.6485754023682446]\n",
      "[0.5150706688799138, -0.6000087606037133]\n",
      "[-1.282370656520528, -0.12514343214424173]\n",
      "[-1.280217836701101, -0.8605370631988788]\n",
      "[1.1425925210593189, 1.1378107274536284]\n",
      "[1.001234863919421, 0.610619775262113]\n",
      "[0.46192895313219795, -1.4765306785435262]\n",
      "[0.49016614489823196, 1.3167900117813116]\n",
      "[-1.178892066871747, 0.1596709226544477]\n",
      "[0.652836561416394, -0.8892080630176412]\n",
      "[-0.03440444355187022, 1.2160094732379698]\n",
      "[-0.22927268230882092, -0.669959328083245]\n",
      "[0.41134013190413876, -0.7141342126969554]\n",
      "[-0.21693924305796197, -1.47099090117498]\n",
      "[1.2117857146796793, 0.13677086761656687]\n",
      "[-1.055718643297552, -1.1176634421535838]\n",
      "[0.8883669146641253, 1.0821077460027082]\n",
      "[-0.7514107823312267, -1.1916191349846432]\n",
      "[-0.2808678305036496, 0.3619845304521383]\n",
      "[1.093817088659892, 1.4286180987928887]\n",
      "[-1.4256409143054338, 0.7096934152652463]\n",
      "[0.906705416811417, 1.0921920851258382]\n",
      "[0.8621235274064132, -1.1757131207911287]\n",
      "[-0.8326988473630067, 0.9497598167907868]\n",
      "[0.8860364974585853, -0.8172135377766889]\n",
      "[-0.5152141464068805, 1.093058826090859]\n",
      "[0.4244452158228831, -0.3009648469198174]\n",
      "[1.3177114209741472, -1.1539747444457173]\n",
      "[1.3876029472846665, -0.7036009124310941]\n",
      "[0.685635181958113, -0.5589680574150263]\n",
      "[-0.3444136999658185, 0.2297641304897986]\n",
      "[-1.4949261653441117, 1.276725496497248]\n",
      "[0.7258502335184298, 0.5118855132989983]\n",
      "[0.492713054733817, -0.5093998918722108]\n",
      "[0.6592627890418505, -0.5990331953662075]\n",
      "[-0.2927988388268261, -0.613034392422159]\n",
      "[1.321091012190549, 0.5319538358181988]\n",
      "[-0.597150376303304, 0.14381163940709474]\n",
      "[-0.2103355500304962, 0.23995434358704593]\n",
      "[-0.17352060208557774, -0.8588957970326991]\n",
      "[0.8880742803803408, -0.9909258114058358]\n",
      "[0.3988225672973873, -0.4944352337705973]\n",
      "[0.5183870116715013, -0.8260780020081352]\n",
      "[-0.7654723677649495, -0.0745909673435845]\n",
      "[-0.25667696700684184, 0.3892961422131411]\n",
      "[-0.016868492968689086, -0.7680466812646835]\n",
      "[0.7528934298554186, 0.8101385657220752]\n",
      "[-0.972339954880405, 1.3738981268386192]\n",
      "[-0.752405161020085, 1.0450090420549794]\n",
      "[0.5027331977590594, 1.4636773591993442]\n",
      "[1.174277777431311, 0.33795696828528854]\n",
      "[0.9917075091642449, 0.14361585183248504]\n",
      "[-0.07597668953084002, -0.722425354604942]\n",
      "[0.7974410528914966, 0.06389943848394619]\n",
      "[-1.2675499384057924, -0.6428155474105425]\n",
      "[0.1204566675553691, -1.0848778154515328]\n",
      "[0.6192574250836564, -1.3073134478583657]\n",
      "[-0.25267729769053204, -0.8794968314567693]\n",
      "[0.25223824261267547, 0.5865689594939041]\n",
      "[-0.3588569132168651, -1.4823117492480207]\n",
      "[1.060343851707314, 1.360291015410319]\n",
      "[0.13839692920151725, 0.3097577668237239]\n",
      "[-0.1924920718600902, -1.4129255401598542]\n",
      "[-0.28704999258708863, -1.0048658063894735]\n",
      "[0.36677088292219406, -1.4191006442845868]\n",
      "[-1.4186938609790627, 0.4282489440280073]\n",
      "[-1.3491460995341173, -0.3626884074355812]\n",
      "[0.7836891236820813, -0.36262135330759104]\n",
      "[-0.7431854046528582, -1.2542813017150722]\n",
      "[1.4997234855276278, -0.45011896883944824]\n",
      "[0.4552639657316684, 0.7626996121785785]\n",
      "[-1.438859948039003, -1.0428529626456289]\n",
      "[0.19190874579005746, -0.8461063772804891]\n",
      "[-0.9966325698965932, 0.32174248167279496]\n",
      "[0.9579035229332553, 1.394162319102263]\n",
      "[-0.5641282668159144, 0.5320418605512263]\n",
      "[0.645044115148405, -1.2720105664708201]\n",
      "[-1.1942960836620704, 0.817442654853672]\n",
      "[-1.1368348047980548, 1.4515330545440142]\n",
      "[-0.21486596029576654, -0.38828737134583147]\n",
      "[1.048726880998732, 0.9669927542701742]\n",
      "[0.40675531830433775, 0.9861219330073747]\n",
      "[0.7013859120401755, 1.3964211937142332]\n",
      "[0.1145187193447672, -0.04950748835041163]\n",
      "[-0.694813385852324, 1.0551394800579956]\n",
      "[1.144893552008316, -0.768409682427132]\n",
      "[-0.363032087615208, -1.4139000066897314]\n",
      "[-0.863640449460783, 0.8934970704842895]\n",
      "[0.6035512509966048, -0.6711942727314453]\n",
      "[-1.2431611141259362, 0.660223992312583]\n",
      "[0.571828018339569, 0.4377086992228567]\n",
      "[-1.220839948335985, -0.8352107985824095]\n",
      "[0.24466675599710141, -0.08021853372142562]\n",
      "[0.737806310140829, -0.5076261084122096]\n",
      "[-0.7457889713971755, -1.1380323457430825]\n",
      "[0.10759189615124942, 0.7865688284523089]\n",
      "[-0.04740423836187402, 0.6737550032791546]\n",
      "[-0.6510038901751349, -1.1984216757276278]\n",
      "[-0.96167536894379, -1.4575548982318085]\n",
      "[1.4228847933082136, 0.1600769003958249]\n",
      "[1.105383591788832, -0.027363916428663426]\n",
      "[-0.09180916520846938, -0.17859360559196924]\n",
      "[1.3231907903043099, -0.06681243820293692]\n",
      "[-1.2777534892330806, 0.3883371208559949]\n",
      "[0.18851879125369253, -0.588493464473317]\n",
      "[0.7933303359785828, 0.3189529537288882]\n",
      "[0.06771760539065363, -0.14845660533373728]\n",
      "[1.4700937814003936, -0.5838592670419188]\n",
      "[0.720267916453635, 1.342770600976134]\n",
      "[0.4812844115761099, -1.0288287198573687]\n",
      "[-1.4919728321913428, -0.1484888861468927]\n",
      "[-0.8055712963319225, 0.6208674896370998]\n",
      "[0.562154760213728, 1.271733133447646]\n",
      "[0.48354912856010346, 1.3010053753365396]\n",
      "[0.4429041702074423, 1.2252343356378184]\n",
      "[-1.002231632337826, -0.5771645621573024]\n",
      "[-0.6341682350824748, -1.1269390254758753]\n",
      "[1.3280287222321223, 0.0014165313537768398]\n",
      "[-1.380417647449161, -0.20391400751768218]\n",
      "[-1.2260193401070443, 1.3857333065785102]\n",
      "[1.352358833419057, 1.498717250632354]\n",
      "[-1.3793049805661515, 0.7688064912376715]\n",
      "[1.2482183637803024, -0.9555325583306222]\n",
      "[-0.024822593426959916, -1.2262727811185186]\n",
      "[0.5104005285635562, 1.073199283201058]\n",
      "[-0.6353466139156327, 1.3355806186896317]\n",
      "[-0.13552227419481166, -0.5564485284894962]\n",
      "[-0.2874748289977631, 0.043788756987315214]\n",
      "[0.1277807830715849, -0.2602572876020355]\n",
      "[0.7693294621667213, 0.3762262264350269]\n",
      "[0.147658917255995, 1.2830182825333432]\n",
      "[-1.1357217499121406, 1.419440447465083]\n",
      "[-1.0248655085843028, 0.15251702100801]\n",
      "[1.4767714181856588, 1.2387896354525036]\n",
      "[0.9964295213067036, -0.0048734858784142965]\n",
      "[-0.6797253098601774, 1.004171836730083]\n",
      "[0.153795230641409, -0.34924196025855014]\n",
      "[1.1379787654394282, 1.0920808032857643]\n",
      "[-0.25517272934596447, 1.3027451810475603]\n",
      "[-0.6514830501515201, -0.6043324506846984]\n",
      "[-0.03107896003289712, -1.0542137448516327]\n",
      "[0.15575225121243297, 0.13029018887601906]\n",
      "[-0.9340428788786838, 0.592495282861714]\n",
      "[0.8266334252977767, -1.3690581027080944]\n",
      "[0.9342267076946307, -0.341763742527053]\n",
      "[1.442454415979355, -0.0140140511507294]\n",
      "[0.270541287928701, 1.1091009400866465]\n",
      "[0.07785326042268426, -0.12921577657727346]\n",
      "[0.46434397928320137, -1.0369163436853535]\n",
      "[-0.48431629784570496, 0.5781137957606459]\n",
      "[1.0570240096976793, 1.0780265525047996]\n",
      "[0.6561522756689491, 0.778205428003091]\n",
      "[-1.2947377584553457, 0.39348305056392174]\n",
      "[0.7402991002137806, -0.19808558423062284]\n",
      "[1.1177376978212719, -0.16896434501488278]\n",
      "[-1.3620270939683619, 0.8884303954866355]\n",
      "[-1.0632906129018047, 0.09349895444628009]\n",
      "[-0.9900490527957079, -1.263094948020016]\n",
      "[-0.7775106244310609, 1.2384870480706645]\n",
      "[-0.7380679817593732, -0.7340198755225379]\n",
      "[1.2036282707966492, 0.5328326570972384]\n",
      "[-0.463303126670755, 0.2627151153792644]\n",
      "[-0.7497053267768963, 1.0359117754277962]\n",
      "[-0.050375816822351815, -0.7883828942172761]\n",
      "[1.4780761308806927, -0.6143077383501919]\n",
      "[-0.6765588594653168, 0.19778705086709691]\n",
      "[-1.352867247672, 0.3192194792294236]\n",
      "[-0.6414175456224166, 0.896580358522796]\n",
      "[0.4098536340176757, 0.36267348939091226]\n",
      "[0.47754462095026096, 1.0150113508875496]\n",
      "[0.4390218266715684, -0.5732013481420918]\n",
      "[0.697079303817715, -1.229599872761343]\n",
      "[-0.9730797886670801, -1.1035206067596492]\n",
      "[0.09255712110835512, 1.2404609234450907]\n",
      "[0.9740694376272216, -0.05445651037877641]\n",
      "[-0.4838542385943412, -1.154490877650722]\n",
      "[1.3995006283882563, 1.0804217906964655]\n",
      "[1.401809241900097, 0.9137629320616858]\n",
      "[-1.4582440346972965, 0.10971692480717721]\n",
      "[0.5170223920530397, 0.25368027495649814]\n",
      "[-1.174961693402308, -0.7985342933652505]\n",
      "[0.18422214674963655, 1.2457677262294782]\n",
      "[0.9715660541713431, 1.2281629152836762]\n",
      "[-1.0806689624783368, 1.3387845986458387]\n",
      "[-1.2084240041345353, 1.1617779255855067]\n",
      "[0.5114586565505137, 0.7294203645695148]\n",
      "[0.7268070442959473, -1.0364312927704948]\n",
      "[-0.031958886631156425, -0.27565234290689844]\n",
      "[-0.3884101237966937, -0.16985074181789495]\n",
      "[-1.201936126181609, 0.557040796443856]\n",
      "[-0.4239784763630463, -0.30558107176688076]\n",
      "[1.044099565391043, -0.13584789428844868]\n",
      "[0.29143787855863534, -1.4359276357908881]\n",
      "[-1.1222283440758714, 0.1937339277238901]\n",
      "[-0.8785278889600245, -0.8521459442439757]\n",
      "[-1.0573374601756689, 1.2015931068952748]\n",
      "[-1.065936059038476, -1.1100236056696895]\n",
      "[0.48317292779195053, -1.4226595506414048]\n",
      "[-0.7862051817286109, -0.5286856141139327]\n",
      "[0.7251541708624485, 0.07825657979360123]\n",
      "[0.8340511179426082, 0.03971387282757499]\n",
      "[1.336246928910319, -1.369904889302485]\n",
      "[0.06435364413925226, -0.1258724337069539]\n",
      "[-0.06305426700491013, -0.2951482364623186]\n",
      "[1.229102487345688, -1.2795278527006486]\n",
      "[-1.3029533000396583, -0.6749520013261404]\n",
      "[-0.5244436700439962, 1.4838832675827707]\n",
      "[0.3162803746059386, -1.202464614962874]\n",
      "[0.4527499946439162, 0.8068881903142158]\n",
      "[-0.14533525210415554, -0.8145192769062468]\n",
      "[-0.2520310492155142, -1.2147424821731074]\n",
      "[-0.3770969296933895, -1.0420832256938288]\n",
      "[0.9953156654245636, -1.2203096948889678]\n",
      "[0.935307855832177, 0.16911220684605022]\n",
      "[-0.5110620557513849, -1.1333061439363221]\n",
      "[0.7508527507544347, 1.1042764466071948]\n",
      "[0.3012302736740311, -0.44506144292055305]\n",
      "[0.47020890896445633, -0.8272653926773033]\n",
      "[-0.3973168481539495, 0.7878168958105491]\n",
      "[1.0354654839850745, 1.4236398063771247]\n",
      "[0.42809749148949416, -1.4212385056392498]\n",
      "[-0.6976568245376681, -0.9587517841174368]\n",
      "[-0.480526029668225, -1.481682631789024]\n",
      "[-0.2976469680014533, -1.0743760375461942]\n",
      "[0.7383352860171204, -0.8546013598994672]\n",
      "[-0.38984072256898816, 0.6647879032280195]\n",
      "[-1.2451288800684621, -1.3421735207234347]\n",
      "[0.521906131839339, -0.6836914693613432]\n",
      "[-0.17386743990666265, -0.6804994669056916]\n",
      "[-0.21025909980632895, -0.650260589758652]\n",
      "[0.5013976762090486, -1.3637479121867173]\n",
      "[-1.4769387423003515, -0.5957419139446897]\n",
      "[-0.7334414879356221, -0.5156329321864767]\n",
      "[-0.9729155943724731, -0.3593776628542913]\n",
      "[1.0000626072596348, 0.9186005597002915]\n",
      "[-1.3730932153116258, -1.4437753902430628]\n",
      "[0.22727748221049326, 0.2201990426575291]\n",
      "[-1.1544798820086053, -1.4374303229257537]\n",
      "[0.3543757899127207, 0.9960777392151217]\n",
      "[1.033453079444091, -0.770050575531799]\n",
      "[-0.3126999094220011, -0.569176314492416]\n",
      "[-0.9956018758629402, 0.031449853626444924]\n",
      "[1.2177681947401515, -0.4518742035828591]\n",
      "[0.9451110172500425, -0.7911934531598271]\n",
      "[0.3071969558194976, 0.7806458866406762]\n",
      "[0.8185442677426806, -0.01764892494783421]\n",
      "[-0.15328422901481087, 1.2724627751569781]\n",
      "[0.3735653383256845, 1.0927406244942484]\n",
      "[-1.2951412245127316, -0.17337580849114542]\n",
      "[-1.3314836393607659, 0.022010655869334483]\n",
      "[-1.3293298474981428, 0.9950898949893645]\n",
      "[1.0658801143682708, 0.3450251652467209]\n",
      "[0.16294911401491174, 0.8754533917960754]\n",
      "[0.9294477530939131, 0.4555123639458296]\n",
      "[-1.0474167699130845, -1.3143788996966979]\n",
      "[-0.46968667248519713, 0.642946647502388]\n",
      "[-0.7567688292051473, -0.18672517707230107]\n",
      "[-1.0237613760553759, -0.38144405369601886]\n",
      "[-0.48489855947574134, 0.2936575871489684]\n",
      "[-1.3022644371608476, -1.2164821574547169]\n",
      "[0.6712009650073854, 0.4696922592314339]\n",
      "[-0.4999138918183301, 0.24821854375925878]\n",
      "[1.4030895230782336, 0.5954398884356431]\n",
      "[1.3140065986972824, -0.5712543377521172]\n",
      "[0.9395543514444027, 0.5103491999841676]\n",
      "[0.5562433208327286, 0.07918001920252205]\n",
      "[-0.41451571095964623, -0.412206993053867]\n",
      "[1.3430048026030406, -0.041187237381818065]\n",
      "[-1.2685047470973712, 1.03328516605765]\n",
      "[1.0053594799036678, 1.1510464964776848]\n",
      "[0.7989228133417248, -1.106852875711476]\n",
      "[0.9940351700673764, 0.8132934411929651]\n",
      "[-0.18697978458495967, -0.2674241655103997]\n",
      "[-0.16740387058417294, -0.6452162023099253]\n",
      "[0.1020334490947834, -0.5715963103116312]\n",
      "[1.0053401781771223, -0.39647712532490154]\n",
      "[-0.11496006467703257, -0.6546848018886737]\n",
      "[1.3988044596178417, 0.9506737187437202]\n",
      "[-0.7499903652329788, 0.4235371086133415]\n",
      "[-1.192230804754772, 1.0376768302003154]\n",
      "[0.7893504908750728, -0.6816261012259301]\n",
      "[-0.18758231941505743, 1.339239789035282]\n",
      "[-0.45124476558405324, -1.4199894275911844]\n",
      "[-0.7926657784097021, 1.4835760537148737]\n",
      "[1.2924777142498591, 1.017528862834817]\n",
      "[-1.0872012368223851, -0.6393618080601955]\n",
      "[-1.0836219245454415, 0.6166085258672411]\n",
      "[-1.262322686187836, -0.7322282146888659]\n",
      "[0.6817043559747953, 0.08331451766017284]\n",
      "[-0.5965464162413401, -1.3567516601434462]\n",
      "[-0.12865915009065398, -1.167426314129955]\n",
      "[-1.4506939433823167, 0.04612719062821835]\n",
      "[-0.21228332068999878, 0.34442874832785186]\n",
      "[0.49311390522602716, -1.2431581350382146]\n",
      "[0.07817833596651158, 0.021983089739359807]\n",
      "[-0.3286388023198077, -0.08959476552454193]\n",
      "[-0.7390492167923618, -1.4512733066731571]\n",
      "[0.6988230643519251, 0.3847708874269693]\n",
      "[-0.5024441748840454, -1.3669929351143755]\n",
      "[-0.9747326188448747, 0.8374277804348447]\n",
      "[0.3952075432750135, 0.9344930455428191]\n",
      "[-0.12696126765794036, -0.6196722864749062]\n",
      "[-1.374282174208854, 1.300112939851192]\n",
      "[0.12909209296255764, -0.7400587043921478]\n",
      "[-0.42907747189390966, 0.8425247009352752]\n",
      "[-1.1265749752668497, -0.39594247705598096]\n",
      "[1.1839124848651599, -0.3400656952179235]\n",
      "[-0.007429822519118057, 1.2729313998808909]\n",
      "[0.6812439730279074, -1.2632189818335964]\n",
      "[0.13642319203391096, -0.5363657153562179]\n",
      "[-0.5805124317277426, 0.3078648831917994]\n",
      "[-0.44535904868402376, -1.3729345114496114]\n",
      "[1.494451793319147, -0.6763339197754272]\n",
      "[-1.2748765050355222, 0.41253761364989483]\n",
      "[0.5382318234440695, 1.3583681888388233]\n",
      "[0.8439359092303995, -1.3956031026043738]\n",
      "[-0.40101458067855433, -0.351436794933667]\n",
      "[0.5371861707401848, 1.3464705877966692]\n",
      "[0.22176533500168705, 0.08837964460886893]\n",
      "[-0.7511650407198062, -1.1596541622449459]\n",
      "[-0.3390378598822097, 0.18501813227894126]\n",
      "[-0.16118066278315135, 1.489095336464282]\n",
      "[-0.026399414237327612, -1.1320877342880875]\n",
      "[1.196037092358691, -0.16466642177263502]\n",
      "[1.0365636569240984, -0.5412366837000896]\n",
      "[0.12651408367668693, 1.1739950470616667]\n",
      "[1.281973370169533, 0.4131000676920489]\n",
      "[-1.1359126347646293, -0.8970588864669428]\n",
      "[-1.421147919575203, 0.16206431177878522]\n",
      "[0.15494080177928238, 0.33584508786156264]\n",
      "[1.4987851318031606, 0.6566089796721584]\n",
      "[0.9700181985251719, -1.2787478612662828]\n",
      "[-0.15007651301101177, 0.5403269719487431]\n",
      "[0.8407887865149251, 0.41938178809998905]\n",
      "[-0.2021451405540753, 1.232136812840662]\n",
      "[-1.0409535995693981, -1.0060287603296276]\n",
      "[-0.4619307529743808, 1.3227121647946043]\n",
      "[-0.7481840730540028, 0.4051712741632376]\n",
      "[-0.5915261816733718, 0.10043408930514164]\n",
      "[1.3248209636057875, -1.0374171993613106]\n",
      "[0.31541672358556627, 1.0275900123401671]\n",
      "[-1.414879536303367, -1.363614590125974]\n",
      "[0.4533899324567996, 0.8008770027489334]\n",
      "[-0.0058858195916517975, 0.3814920308942531]\n",
      "[-0.051165545473741636, 0.914064462647199]\n",
      "[-1.2810809234839626, -1.3202609011959932]\n",
      "[-0.8879309593098039, 0.319980788461909]\n",
      "[0.7025992644136405, 1.082332097262976]\n",
      "[-0.38837940584912634, 0.18495364724510743]\n",
      "[-0.6975849766374528, -0.7562433524233632]\n",
      "[-0.3475504994951819, 0.3461323324919059]\n",
      "[-1.0209010136095171, -0.5176925375964152]\n",
      "[0.7893641254158856, -0.0052033738202736934]\n",
      "[-0.5743785538367121, -1.430471105350947]\n",
      "[1.4000598916574263, -0.8545667324212767]\n",
      "[-0.015317389424470917, 1.1470184291046035]\n",
      "[0.11007224786678105, 1.0415170961804034]\n",
      "[0.6825241900781758, 0.7915702924859689]\n",
      "[0.21084493164308782, -0.9160340943368428]\n",
      "[0.012766587369614113, 0.7932123441217187]\n",
      "[0.5411959203565821, -1.1435669408292313]\n",
      "[0.8846916851428372, -0.48274410014230407]\n",
      "[-0.9028263553426501, 0.02736754867554625]\n",
      "[-1.0888908792974388, -0.5008778839416984]\n",
      "[0.3187815672114125, 0.046517196441761666]\n",
      "[-1.012493862369182, 1.4718472126834201]\n",
      "[-0.49087964354496494, 0.9848681578721274]\n",
      "[-0.6006283057877588, 0.9472464997314725]\n",
      "[1.4396940935374856, 0.2511064255463591]\n",
      "[0.564130953608315, -1.4200585351085004]\n",
      "[0.8487119742942641, 0.8284860755162162]\n",
      "[0.25056983114291986, -0.988463814760022]\n",
      "[1.023501374874793, -1.0566728750990046]\n",
      "[1.3446155123529042, -1.1703134359989096]\n",
      "[-1.0457062256419638, 0.5715007827555763]\n",
      "[1.2615628496916322, 1.118453126736961]\n",
      "[-1.0857525426443693, -0.8779748850862659]\n",
      "[0.07643145420010611, -0.5587422037865486]\n",
      "[-0.47301894695446167, -0.43713903406556165]\n",
      "[0.4299272999983845, 0.5799399300894628]\n",
      "[-0.7604425934179189, 0.17425995242221237]\n",
      "[-0.6071563041692764, -0.6329875877894252]\n",
      "[-0.5488777649446559, -0.45359047739608016]\n",
      "[-0.6796273897337308, -1.1343776828018548]\n",
      "[1.4404816119640866, 0.9551323803916869]\n",
      "[-0.6286420440211933, -0.6371089751575802]\n",
      "[-0.17287166440549395, -0.7306680735795538]\n",
      "[0.11573377112595828, 1.299071801349923]\n",
      "[0.34703110324347675, 0.26049149571244534]\n",
      "[0.09312446919839745, 0.413833720225913]\n",
      "[0.652074168750731, -1.1983652856679563]\n",
      "[0.15105769733885, 1.2872990405099332]\n",
      "[1.1351988645426845, -0.06765443867731058]\n",
      "[-0.5364968936425, 0.43769375367080965]\n",
      "[0.22240005952611996, 0.10545683068081413]\n",
      "[1.2396891770095575, -0.9748056735571107]\n",
      "[1.258904435552802, 1.4915154092655296]\n",
      "[1.3098262343332885, 1.3863941402500273]\n",
      "[-1.4721984945597006, 0.20388560599348615]\n",
      "[-0.6463150429498612, 1.46729841026617]\n",
      "[1.3156815052226172, 1.0531792157339899]\n",
      "[-1.1620597169395366, -1.012517212380784]\n",
      "[-0.9414027926157968, 0.7098536864767708]\n",
      "[0.7718482507726838, -0.9735152584846058]\n",
      "[0.9809694758289287, 0.04584197687938785]\n",
      "[-0.9456563968579801, -1.0781643730971047]\n",
      "[-0.7176441688036684, -0.7934362415953983]\n",
      "[-0.5941624809251559, 0.6686475852029923]\n",
      "[0.5783057712682167, -1.3136270045983918]\n",
      "[-0.2837501610948081, 0.007561413715168719]\n",
      "[-0.5670661548460191, -1.1477527624656712]\n",
      "[0.34387634443154713, -0.8426141971939682]\n",
      "[0.7432045114525696, 0.3172168442672081]\n",
      "[-0.0875157693620654, 0.11255306307960256]\n",
      "[-0.7576037120742668, 0.7642186491745959]\n",
      "[-0.15975606751055005, 0.6112983754676176]\n",
      "[-1.3147258573299485, 0.14294774613279437]\n",
      "[-1.050442855852757, -0.5156470867733806]\n",
      "[-0.8837955433819153, 0.2494430353230528]\n",
      "[0.9260762495317114, -0.13970309946065407]\n",
      "[-1.3267896572024256, -0.11286508278322893]\n",
      "[-0.31215387014022755, 0.9493596777993916]\n",
      "[-1.3641305918165136, -0.46641340031359624]\n",
      "[1.3037483966548393, -1.2929425615190586]\n",
      "[-0.2733991925422552, 0.8069161877504483]\n",
      "[0.4376424542914905, -0.2389141833530164]\n",
      "[1.1088608559321251, 1.2203019345737176]\n",
      "[0.48537761437640436, 0.11790079175658064]\n",
      "[-0.964579112987665, 0.11177545919400367]\n",
      "[-0.8319293521012006, -1.4895801151652766]\n",
      "[0.5204995733297011, 0.13333601707506237]\n",
      "[-0.7574638844886733, -0.46152079503711985]\n",
      "[0.675071837726755, -1.1614660837005681]\n",
      "[0.79816040254171, 1.1512698655361238]\n",
      "[-1.1973098607224788, -1.3992711727371576]\n",
      "[-1.3539710362687527, 0.7216232354395848]\n",
      "[-0.8481923694673398, 1.0911907280101691]\n",
      "[-0.6322096459382435, 0.9473587702899504]\n",
      "[0.2937530228317873, 0.5175957043107409]\n",
      "[-1.0702186975100139, 0.48063727143222956]\n",
      "[-1.3171270886797135, 1.345560765080164]\n",
      "[0.37797941294499005, -0.2183982531163695]\n",
      "[1.3247592294957355, 0.5140275742371667]\n",
      "[-0.2510260997356659, -1.052347176524509]\n",
      "[-0.0794435387633401, 1.0480227967801214]\n",
      "[0.9173284798046608, 1.2442235214477164]\n",
      "[0.17186027459781927, -1.0977217468227658]\n",
      "[0.44011755464383406, 1.2666783135336672]\n",
      "[0.6737541369216058, -0.9285551447077851]\n",
      "[0.3087661349672275, 1.120861375468619]\n",
      "[0.6729157195564475, 0.1765514288175818]\n",
      "[-0.5011070675435362, 1.3710592815800196]\n",
      "[1.3862326683433768, -1.1480514016699965]\n",
      "[-0.7722204544627754, 0.3132046022363435]\n",
      "[0.15623787764344366, 0.8265416461913109]\n",
      "[-0.4222213333452727, -0.7153151178439422]\n",
      "[-1.20417530530356, 1.4439553705397303]\n",
      "[1.2429914966924671, -0.3878852357062246]\n",
      "[-0.8361777050513243, -1.0622318606923544]\n",
      "[0.2374287781122013, -0.24726577933447924]\n",
      "[-0.36048067577653753, 1.0000881458609552]\n",
      "[0.5545398370377184, -0.7280197270953517]\n",
      "[0.4250833631961215, -0.02821325225765281]\n",
      "[-0.9922028674194548, 0.660940592286281]\n",
      "[0.1264105660540653, 0.4254283895470996]\n",
      "[1.0400921495481672, 1.3355643336026946]\n",
      "[-0.2628233327532219, 1.0276341504760453]\n",
      "[-1.4725756149280147, 0.017198759079195325]\n",
      "[0.5002641886600192, 0.34955808325301385]\n",
      "[-1.4801629290235234, 0.15493068273377064]\n",
      "[-0.675777788406504, 1.4324380446975349]\n",
      "[0.5220988563576308, 0.9185030968422865]\n",
      "[-1.2110583292457746, -1.0533075427792484]\n",
      "[0.9456431721398477, -0.6980257899700926]\n",
      "[-0.281917770378342, 0.19500654734390732]\n",
      "[0.5521248764111566, 1.0436013060946072]\n",
      "[0.7787575505305342, -1.2194984837186718]\n",
      "[-1.331655182613103, -1.4716494820376083]\n",
      "[-0.19827104408501306, 0.8531289323703337]\n",
      "[-1.2139144935878097, 0.08447755692494407]\n",
      "[1.1043506717448168, 1.1626629211034807]\n",
      "[-1.2769558202230469, 1.2767544302427698]\n",
      "[-1.4012946595395843, 1.2862990837639776]\n",
      "[0.261108312253465, 0.7567634095405951]\n",
      "[-1.2691875256759624, -1.0126492478558824]\n",
      "[-0.3325301778979237, 1.1895773010081596]\n",
      "[-1.0801482172944081, 1.4654338737423092]\n",
      "[1.4229699823079889, -1.3389107041578192]\n",
      "[-0.47822176057468213, 0.8070169600963268]\n",
      "[0.8206647483939671, -1.4111230231645047]\n",
      "[-0.02818963166762023, -0.4325664068824562]\n",
      "[0.5390845742644768, 0.48201572254462643]\n",
      "[0.8941655214082398, 0.6393255980351569]\n",
      "[0.6350314643358503, 0.40170264588915283]\n",
      "[-1.1803472468662166, -1.4844143328899095]\n",
      "[-0.6907006702818406, -1.1024789865174018]\n",
      "[0.16422000182660312, -0.2758674747505876]\n",
      "[-1.2208072186203776, 0.29413139338281846]\n",
      "[-0.624457946111037, -0.3366013218648187]\n",
      "[1.2156227229400765, 1.4345191920416616]\n",
      "[-0.3578039295337705, -1.0834798231217497]\n",
      "[-1.3101985491691368, -0.1959711922117653]\n",
      "[-1.2692359158145285, -0.7449007866332914]\n",
      "[0.2814191941172359, -0.9133553253592186]\n",
      "[1.3464703871836954, -0.5033483540651191]\n",
      "[-0.5113748511622194, -0.4957913287591289]\n",
      "[1.4226761295138206, -1.0916265852652056]\n",
      "[-0.8974455338937849, -0.5574501564136759]\n",
      "[-0.6256555452598404, 0.5848733030163302]\n",
      "[-0.7727271096582807, -0.37183409302755877]\n",
      "[-1.1583365291640058, 0.19155152588635782]\n",
      "[0.5451378993902631, 0.15029747099241852]\n",
      "[0.6251011537681905, -0.18463513707327417]\n",
      "[0.9568967040133756, 0.8869705079878631]\n",
      "[0.40000811896099076, -0.7739364969876035]\n",
      "[0.8672302896601889, -1.2781045932531345]\n",
      "[-0.297584708011879, 0.019837929088527106]\n",
      "[0.13093561016243305, 0.8721627511477776]\n",
      "[0.11071795807376361, 0.4145411010325235]\n",
      "[0.4728049337422968, -0.4349735416545313]\n",
      "[1.450824617855948, 0.532415687592557]\n",
      "[1.397150333141485, -0.20863336832945323]\n",
      "[0.032028721575134034, 0.056393300548048586]\n",
      "[-0.16266434548527986, -0.3265974939674914]\n",
      "[0.0013973448592037307, -0.46509783720144515]\n",
      "[-0.2520737144228624, 1.3851835970399113]\n",
      "[-1.0749744695053551, -0.5643289683073757]\n",
      "[-0.05122200366183449, -0.07151240637250944]\n",
      "[-0.5432715773468987, -0.5992077504541791]\n",
      "[1.047540024140729, 0.4439097518331412]\n",
      "[1.4517014117648337, -0.7682611603440219]\n",
      "[0.17954685746958932, 1.3753878652018492]\n",
      "[-0.946644674545819, 0.4214366299802341]\n",
      "[0.3423208121157595, -0.908026692653261]\n",
      "[0.6142068478792035, -0.8826465618980343]\n",
      "[-1.3123087455925069, -1.1947438538185728]\n",
      "[-0.5220452652035446, -0.1273487333814436]\n",
      "[0.083145058883348, 0.41732575699845187]\n",
      "[0.2610141436956539, -0.4562260876897368]\n",
      "[0.9412147627828014, 0.6179650828379399]\n",
      "[-1.2457440941309166, -1.0981566910478682]\n",
      "[-0.9508664450055495, 0.5803096251493365]\n",
      "[-1.0863981043963276, -0.348870111486939]\n",
      "[0.5802987795880661, 0.43578028523985113]\n",
      "[-0.031073921423373285, -1.0791103947066087]\n",
      "[-1.3391662121074894, -0.4228824834858935]\n",
      "[0.9456478219615856, 1.3914872682448194]\n",
      "[0.5540900116799596, -0.25310869417766435]\n",
      "[-1.2519881226405993, -1.4074178830709856]\n",
      "[-0.6754412451793981, 0.11282585461445827]\n",
      "[0.7275547557893614, 0.7977586648310719]\n",
      "[-1.1573800459230936, 0.8253390835919863]\n",
      "[0.9678327833887841, -1.3751684331893]\n",
      "[1.4693271836300497, -1.192750683367505]\n",
      "[-0.6068731946913191, 1.4979380078367233]\n",
      "[0.9501857553493158, -0.18279028985000112]\n",
      "[-0.7891618338999563, 0.9321081505182307]\n",
      "[0.6322618784813985, 0.39831189278141554]\n",
      "[-0.8801410314396799, -0.879171837744702]\n",
      "[-0.656744943629406, 0.11630563814291417]\n",
      "[-0.6320002696051692, -0.6979708011657596]\n",
      "[0.5378979477699302, -1.2143245085569716]\n",
      "[1.256306135489476, 1.477458676934023]\n",
      "[1.0982363849734704, -0.7509682741855807]\n",
      "[0.7844207624395709, 0.5287036610998381]\n",
      "[-0.6938485437375422, -0.257324731904887]\n",
      "[1.1403752439219703, -1.2207156478721477]\n",
      "[1.3090083422657255, -0.392786477773734]\n",
      "[-1.4925807445740458, 0.8224058713130797]\n",
      "[-0.12465222996084702, 0.4924314624955275]\n",
      "[0.10327339316269457, -0.8465101949543824]\n",
      "[-0.6943894850567324, 0.9850308511464241]\n",
      "[0.19842633275142085, -0.04398628797448478]\n",
      "[-1.354772216544831, -1.2012757742513824]\n",
      "[-1.1272884623088046, 1.0729547997858413]\n",
      "[1.374095307911917, -0.8930453808078008]\n",
      "[0.449991598021958, -1.0230676112825419]\n",
      "[0.46376389325638234, -0.7488321643526734]\n",
      "[-1.0034247625219685, -0.31097529920330036]\n",
      "[-0.7975684755467416, 0.466455685150605]\n",
      "[-0.06957987521725784, -1.1019006238800402]\n",
      "[-1.4721391571746194, 0.5867913218641458]\n",
      "[-0.23305819867482036, -1.1034745467223175]\n",
      "[0.692290145291913, -1.19271848865148]\n",
      "[-1.0886121157693631, 0.8203814509518725]\n",
      "[1.478820465739155, -1.0714407994953183]\n",
      "[0.45006063947342057, -0.1797017376604444]\n",
      "[-1.045877607467157, -0.26487031692096563]\n",
      "[-1.2399358996020344, -1.1986046625670836]\n",
      "[-0.3479042719706378, 1.389746131659792]\n",
      "[-0.6690970291654639, -1.24725385200604]\n",
      "[0.3227792967465697, 0.8369089575397797]\n",
      "[0.47521611025543153, -0.5950519992684042]\n",
      "[0.7435309229437488, -0.6133738462738]\n",
      "[1.3640145340414582, -0.015336840170199428]\n",
      "[0.2817893044131694, 0.08485950280855281]\n",
      "[1.3017732050226476, -1.104051357801894]\n",
      "[-0.4037626114557038, 0.5488261470072784]\n",
      "[0.8111011476738414, -1.4499317946874313]\n",
      "[-1.3805194141884307, -1.318593421235383]\n",
      "[0.385712088181728, 0.003146896521225351]\n",
      "[-1.2527165642260623, 0.10969444821004615]\n",
      "[-0.5702793431500742, 0.033914094885994395]\n",
      "[0.10917051866837513, -0.32780549109495105]\n",
      "[0.5431670541276312, -1.301654749136355]\n",
      "[1.0394043454223287, -1.3262821679306087]\n",
      "[-0.139884473108572, 0.3264972132823307]\n",
      "[0.7219745407025346, -1.1416709792763378]\n",
      "[-1.0085021071937774, 1.3590486052640927]\n",
      "[0.6622965542803771, -0.9991111374228575]\n",
      "[-0.693706540772263, 1.159244279221968]\n",
      "[0.9213235399721094, -0.6840582149359388]\n",
      "[0.22995502414255187, -1.268789906140844]\n",
      "[-0.0011699827158502263, 0.20065838471534958]\n",
      "[-1.191285254934391, 0.22173691557616948]\n",
      "[0.02647465473194055, -1.3678862782115715]\n",
      "[-0.08470623126678545, -0.3510615768978027]\n",
      "[1.0724555932439173, 0.15859436548759343]\n",
      "[-0.24189208691160458, -0.5345939565838163]\n",
      "[-0.68622612597055, -1.266338790099264]\n",
      "[1.205823027774814, -0.961966949183083]\n",
      "[1.3622382223812828, -1.2932206866817646]\n",
      "[1.0345395127839838, -0.5180972348216433]\n",
      "[-0.8979865396411325, 0.19142022247256074]\n",
      "[-0.10821992825850213, 0.27507280495444864]\n",
      "[-0.9137327283815295, 1.2013298916792698]\n",
      "[-1.480866351744588, -0.26989167130194036]\n",
      "[1.0187220206885215, 1.131595842754725]\n",
      "[0.4719115505279934, 1.0470179633367653]\n",
      "[0.08944346718003748, -0.785497216437403]\n",
      "[1.4908778103226457, 0.6349574241003082]\n",
      "[1.1918624157943776, 0.05927765547611097]\n",
      "[1.4236643705047531, -1.2452927474505313]\n",
      "[0.9598886756826479, -1.2755085470103675]\n",
      "[1.3926548241982224, -0.7896847957743105]\n",
      "[0.9024504659984856, 0.6021768189646264]\n",
      "[-0.6841323845026368, -1.275937692592561]\n",
      "[0.25412410741238656, -1.03376834603419]\n",
      "[-0.2804623442723586, 0.10777364727007077]\n",
      "[-0.5750768453624863, -0.7049762192558754]\n",
      "[0.5581645288515458, 0.9791600638189495]\n",
      "[1.0077742529639586, -0.5166190233456242]\n",
      "[-0.43277173348714904, 0.04037902613618849]\n",
      "[1.4720298612237217, -1.4067537199237212]\n",
      "[0.7442353416261276, -0.7504421153353468]\n",
      "[-1.080620882180633, -1.464129230491761]\n",
      "[-1.1078542873680661, 0.9710202455650672]\n",
      "[0.43405504712550536, 0.24697140424218933]\n",
      "[-1.4345994517841618, -1.3065838918592707]\n",
      "[-1.1136253530089864, 1.2152339111404586]\n",
      "[-1.3719110427287076, -0.1170152339941779]\n",
      "[0.9650562045968512, -0.31500393533424176]\n",
      "[-0.9815783645076325, -0.85585168208992]\n",
      "[1.1502713966808784, -1.3960516688054823]\n",
      "[-0.6146845110008506, -0.2640233811115049]\n",
      "[-0.6606720376830859, -1.0882919486038056]\n",
      "[0.07744217475833914, 0.3922631664742662]\n",
      "[1.4682108472846016, 0.8457473005362748]\n",
      "[-0.04596154367847505, 1.2380310497951008]\n",
      "[-0.9605523789063923, -0.5433672980118613]\n",
      "[0.8356148439854234, -1.3242263091656445]\n",
      "[0.8005265053508186, 1.4988172404340383]\n",
      "[0.4705932641287027, -0.7004189968029508]\n",
      "[-1.3322740324426507, 1.4891761455193713]\n",
      "[0.8921720621382265, -0.4355860963045204]\n",
      "[-0.9716988972600299, 0.27755852754423804]\n",
      "[1.2419400123856028, -1.415380290818523]\n",
      "[0.19081946034958097, 0.18932667259205527]\n",
      "[1.1448790796932808, -0.02331982831378432]\n",
      "[-1.2292278694472913, -0.8021299257502827]\n",
      "[-1.4979495108485077, 1.2536885577619392]\n",
      "[0.6508128980724486, 1.256342361921618]\n",
      "[-1.434261311269283, 0.2598275252736284]\n",
      "[1.0394426627374038, 1.0820083997746521]\n",
      "[1.325769640404125, -0.3132133129384371]\n",
      "[-1.0906449934275297, -1.0274883419494625]\n",
      "[1.3819863011062146, 0.44754079693444204]\n",
      "[0.5806811948776289, 1.286535626956276]\n",
      "[0.26685046734931084, -0.9739451100293376]\n",
      "[-1.1179549058293934, 0.6864928678079969]\n",
      "[-0.32519571816719406, 1.4828493916428918]\n",
      "[0.30716600235291347, 1.2631146492542382]\n",
      "[0.19665073836096125, 1.3100633806627626]\n",
      "[-0.7860122245518092, 1.4471389648210704]\n",
      "[-1.233821962289621, 0.6268974394356732]\n",
      "[-0.1601101977066186, -0.7043626783113714]\n",
      "[-0.7300261753718555, -1.175896196356112]\n",
      "[0.6977534834963057, 1.4073054753170555]\n",
      "[-0.36386227567722296, 0.138071903035363]\n",
      "[1.0921521614057306, 0.45290868934043194]\n",
      "[-1.2788718313158776, 1.0372874520736808]\n",
      "[1.3549863943023617, -1.277398794700022]\n",
      "[0.6959552558139506, 0.1411387758366942]\n",
      "[0.2820916321562845, 0.34093417733668163]\n",
      "[1.3273267743058916, -1.0050084157142578]\n",
      "[-1.196226567079993, -0.8833485698461886]\n",
      "[0.6661143137270269, 0.6899220170108697]\n",
      "[-0.787355145158263, -1.3510936708844703]\n",
      "[-1.0392301964497974, -0.4175132363181808]\n",
      "[0.48606067802960284, 0.3006465840413064]\n",
      "[-0.9875034249233308, -0.6245656018616774]\n",
      "[-0.5749397996468119, -0.3075979544756313]\n",
      "[-1.2265893673479624, 0.13237808765904102]\n",
      "[-0.39179500520416477, -0.16267418761662578]\n",
      "[-0.8212731591519993, -0.6943140201811512]\n",
      "[0.5024053774037052, -1.2428780644802488]\n",
      "[1.4121166115207275, 0.2691793269108105]\n",
      "[0.9552156445961204, -0.2441037751966484]\n",
      "[-0.07552683563424001, 1.1449616082528684]\n",
      "[1.208331604017462, 0.6429170973910798]\n",
      "[0.901351010162057, 0.5326046567280907]\n",
      "[0.7715662669175805, -0.9813630815805167]\n",
      "[0.9253821639580893, -1.1214420040843809]\n",
      "[-0.19382026340247815, 1.491807680336327]\n",
      "[-0.7263409200366704, 1.2324134571947827]\n",
      "[-0.3357025409557477, -0.30793501692889214]\n",
      "[-0.1255284566321544, 1.1203987601182712]\n",
      "[0.06768603134942763, -0.2412184973243141]\n",
      "[0.2638023998441641, 0.7751321635730188]\n",
      "[0.18805127843196745, -1.197028671523654]\n",
      "[-0.4683924642676067, -0.2673298881023385]\n",
      "[0.3268864558573057, -1.3876029885068597]\n",
      "[0.32596579225688105, 0.5809837595012759]\n",
      "[-0.5055177727971879, -0.7872621182510785]\n",
      "[1.1910940864482678, -1.4393013342201844]\n",
      "[-0.6589600404460753, -0.02514235992204883]\n",
      "[1.1067000752975957, -1.0968434370946785]\n",
      "[0.9774699953392516, -0.6917400569737091]\n",
      "[-0.9361929273221657, -0.8658284936823072]\n",
      "[0.7784798856787698, 1.1015669116506772]\n",
      "[-1.0230826720829986, -0.5666307201332734]\n",
      "[1.0538860229615765, 1.137997774079568]\n",
      "[0.9987897992296539, 1.010930032826085]\n",
      "[1.254093208023349, 0.6139018356601094]\n",
      "[0.015379124811491618, 0.40622942722753197]\n",
      "[-0.38259971539407833, 0.2821307803564539]\n",
      "[0.2606407452672803, -0.4507202950660365]\n",
      "[0.7468834034547998, 0.5665516128478627]\n",
      "[-1.0112777832041386, 0.21677418306090224]\n",
      "[0.4421396752844462, 0.5330857382729124]\n",
      "[-1.4398429275014268, 0.84091099278193]\n",
      "[1.2345463141571154, 0.44211466252507226]\n",
      "[-0.7428286759180456, 0.915256707586459]\n",
      "[0.42822093387049187, -0.2285795980211427]\n",
      "[-0.7440038721663719, -0.09990595350835285]\n",
      "[-0.3085423800836393, -1.1930636910941996]\n",
      "[1.0298518502573315, -0.37731071051678544]\n",
      "[-0.6045722212401077, -1.1756864082424696]\n",
      "[0.42178423684396726, 1.0844748007554919]\n",
      "[1.177121393042798, -0.6036266642430407]\n",
      "[1.1990611342364845, 0.9162894679005893]\n",
      "[0.4815909710433868, 0.5422672511621451]\n",
      "[1.4924072987348875, -0.7217211818640332]\n",
      "[-1.3940429855207273, 0.6242068781276133]\n",
      "[0.6796496297427108, -0.8329104180711933]\n",
      "[1.2195795165151644, 0.5156054278872264]\n",
      "[1.0219160837891996, 1.1294843530263314]\n",
      "[-1.1161675809118399, -0.7240444483193763]\n",
      "[-0.9507949289622148, 0.5391371078697849]\n",
      "[-0.4341498116405029, 0.732629788028424]\n",
      "[-0.5060485890876706, -0.7183222937828893]\n",
      "[-0.08839029698795953, 1.099180109077619]\n",
      "[-1.2863527877877725, 1.1682781844111636]\n",
      "[-0.3549923405832387, -0.6049327385476102]\n",
      "[-1.0879042224806281, -0.8991102276145695]\n",
      "[1.2198628035183825, -0.12728570081537627]\n",
      "[0.8368235323014437, -0.03725746275567765]\n",
      "[0.40349690745801303, -1.4858594957280185]\n",
      "[-0.994182730251277, 0.7934512084372738]\n",
      "[-1.2358759687228662, 0.34343921617518536]\n",
      "[1.3959835203900992, -0.350050739839618]\n",
      "[-0.3806957837178868, -1.4577686438261037]\n",
      "[-0.9282698701787864, 0.5302444250313303]\n",
      "[0.5805742415111914, -0.4669506778100372]\n",
      "[0.26601206450421566, -0.9989394381950719]\n",
      "[-0.6275166245715402, 0.6834957343404384]\n",
      "[1.163922131511125, 1.4864172294837852]\n",
      "[-0.42224734090010285, -0.9347218983273917]\n",
      "[-0.2898250664966242, -0.8147451454925235]\n",
      "[0.7022298579345625, 0.26907850439772485]\n",
      "[0.4516211403636743, -1.387909716922214]\n",
      "[0.10420030258152124, -1.3542391152547881]\n",
      "[0.46070285520225784, -1.4407747004575646]\n",
      "[-0.3592387112171562, 0.14184715418677651]\n",
      "[0.5855760876627274, 0.39093402048881076]\n",
      "[0.4874488976666904, -0.6900685513884327]\n",
      "[0.9919581614126693, -1.185257289299709]\n",
      "[-1.1579623419472562, -1.1812088750808152]\n",
      "[-0.7110182531588044, 0.06943832277774176]\n",
      "[-0.6139463969981611, -1.381782877114294]\n",
      "[1.2993730339556322, -0.5081891514098957]\n",
      "[1.2206401328093763, 1.0056964957897234]\n",
      "[-1.2297519792722267, 0.035116040893976574]\n",
      "[-0.7323236917480054, -0.8065191405247623]\n",
      "[-0.10716792829155475, -1.2005732548271477]\n",
      "[-0.6282984682869617, 0.9047883080713421]\n",
      "[-1.215004589008259, 0.774612014523715]\n",
      "[0.4900650824725319, -0.988463170930874]\n",
      "[0.3654210999975216, 1.135426612192421]\n",
      "[-0.9513917390890718, -0.2976674571577411]\n",
      "[-0.34285353072205726, 1.0520147341097519]\n",
      "[0.8907286711062206, -1.1608303308670616]\n",
      "[1.3274009639997, -1.0218138075535053]\n",
      "[0.9067943521352877, 0.5351794087476165]\n",
      "[-0.4242032555187101, -1.4135513112863354]\n",
      "[1.4203337406761078, -1.1080340113547524]\n",
      "[-0.2661472087944774, -1.36208302386099]\n",
      "[0.6137045294418693, 0.5337867630604931]\n",
      "[0.1950366770621743, 1.4336866726523954]\n",
      "[0.06930952567402193, 0.6017405528926627]\n",
      "[-0.7542690154478772, -0.4627515376274891]\n",
      "[1.0170990636893618, 0.17503271010656363]\n",
      "[0.43019614967043873, -1.0292178800947762]\n",
      "[1.108246903838304, -1.2754042725690455]\n",
      "[1.4104351463502005, -1.3489478564203683]\n",
      "[-0.29016901961483144, -0.7950000000261385]\n",
      "[-0.15570424300387842, 1.0697676725340517]\n",
      "[-0.00787995580049694, 0.4601190094151153]\n",
      "[0.17139303421449936, -1.4994908535649907]\n",
      "[0.3571984612391468, -0.5862061256890544]\n",
      "[0.5144231123374681, 1.3510653899800973]\n",
      "[-0.8312456568110562, -0.1366200521892469]\n",
      "[-0.08059895671923334, 0.4715016192934187]\n",
      "[0.7779598532373511, -0.8347586765394299]\n",
      "[1.39330105036302, -0.6240493085751555]\n",
      "[-1.3626656704348972, -1.0075338968838274]\n",
      "[0.6646772863539478, -1.179115483441443]\n",
      "[1.290648777459436, -0.32131053025447964]\n",
      "[0.6503637434080289, -1.176702758137524]\n",
      "[1.0123987124593947, 0.266433323693704]\n",
      "[0.47537008500060796, 1.3685709648772528]\n",
      "[0.0910930425572527, -1.3542851831042844]\n",
      "[-0.05120410939222131, 0.024998697215649734]\n",
      "[0.23566315711252983, 0.6914839852283334]\n",
      "[0.30163806541623384, 1.1480875906760342]\n",
      "[1.438502280615129, 1.247730725091298]\n",
      "[1.390780613039258, 1.4114749497363017]\n",
      "[-0.2617635815771422, 0.6000428546913756]\n",
      "[0.6044829312221549, 1.082122638387474]\n",
      "[0.3977498535217916, -0.8973327530239668]\n",
      "[-0.46411925730425674, 0.517121139153951]\n",
      "[1.3749793584155894, 0.01168031712974904]\n",
      "[-1.1537842431491239, -0.4432865926113678]\n",
      "[0.5014717141566489, -0.24756620062343448]\n",
      "[-0.6422160593239092, 1.0419032742616468]\n",
      "[-1.4241835762365838, -1.0640198651016135]\n",
      "[0.7505550560101613, -1.0171938169703099]\n",
      "[1.0181454433955137, 0.5717845510920299]\n",
      "[-1.4030808502730185, 0.942078652663406]\n",
      "[0.7184774405185497, 1.0945244556138078]\n",
      "[-0.7872135823013865, 0.8529215186126597]\n",
      "[0.4934807057748707, 1.2794544335063387]\n",
      "[1.4274681661683788, -0.5620380573160976]\n",
      "[-0.7459766148830829, 0.36168508683554723]\n",
      "[0.9899504458654333, 1.2344591312212159]\n",
      "[0.7653231156256495, 0.13984541010372387]\n",
      "[1.392869469378092, -0.6174668345865254]\n",
      "[-0.939070255403029, -0.9786146044340845]\n",
      "[-0.2144765567977971, 0.1697958617859987]\n",
      "[-0.734951555602734, -0.5083116337731928]\n",
      "[-1.0388898492911107, -0.5321099103194401]\n",
      "[0.34682602829799003, 0.48567063289481727]\n",
      "[-0.425743235508782, 0.8520943457115044]\n",
      "[-0.9483927073939231, -1.2954705926867223]\n",
      "[0.11110785760172615, -1.2241633381828008]\n",
      "[-0.5043494552880555, -0.4176065260118018]\n",
      "[0.09149668682047385, 1.4898932478130162]\n",
      "[-1.4735889111148879, 0.5068154039831598]\n",
      "[0.34110329118238303, 0.36339509287090177]\n",
      "[-0.5371889684787556, 1.2477972908960262]\n",
      "[0.1207119388276845, -0.6515130171618077]\n",
      "[-0.37512587351406257, 0.9084502125248815]\n",
      "[1.19484482671756, -0.9224628361989687]\n",
      "[-0.9978155723595152, 1.368828619420197]\n",
      "[-1.30358453368884, 0.5110053784291702]\n",
      "[-0.2273716441765783, -1.1882195724789897]\n",
      "[1.4286717640170834, 0.8256202213891837]\n",
      "[0.7406724770227866, -1.0387362683470633]\n",
      "[-1.2374373061974042, -1.337195787325677]\n",
      "[0.22488688278837454, -0.81706309517503]\n",
      "[0.3906517938773635, -0.20092489608218722]\n",
      "[0.10450311018300629, 0.4242682394449191]\n",
      "[0.25682403994016756, 0.6026460941490064]\n",
      "[-1.1815933743900824, 0.86067569298771]\n",
      "[0.7958227230613875, -0.1869715515953252]\n",
      "[-0.07803696789614567, 0.1004032914310482]\n",
      "[0.8924538385003977, 0.13717340592246785]\n",
      "[0.5318671365151877, 1.2425067491538533]\n",
      "[-0.38060845529902787, 1.3483953105915383]\n",
      "[-1.130294523199503, -1.4849104827779847]\n",
      "[1.3409381676866152, -0.5859265429514748]\n",
      "[-0.46844505045405915, -0.2620365119212562]\n",
      "[-1.017136927306815, -0.8376360919277761]\n",
      "[-0.9559260456790498, 0.8989801608165942]\n",
      "[1.2971095962094457, 1.4829391512763]\n",
      "[-0.628041997439744, -1.2979117277855958]\n",
      "[-0.03842876959875441, -0.5074472049518298]\n",
      "[-1.1998648281737312, 0.3585473314629988]\n",
      "[-0.14806206535519495, 0.34902729077835937]\n",
      "[0.19665602371532964, -0.40651969296411217]\n",
      "[-1.4855043520059859, -0.7614745843635476]\n",
      "[-0.19162780173093452, 1.0203301763419659]\n",
      "[1.1336574885238848, -0.11145487177316937]\n",
      "[0.1550154784805915, -0.972689517314324]\n",
      "[1.0761409661123977, -1.0799949938514004]\n",
      "[1.1590074962366868, -1.2706128643283539]\n",
      "[0.021534933856721672, -1.4064173069750727]\n",
      "[0.270108935522154, 1.2189107321945496]\n",
      "[1.496184525035555, -0.08368814765122234]\n",
      "[-0.8300800571269349, 0.8164345306813883]\n",
      "[-0.10589657348864168, 0.031235980031356636]\n",
      "[0.4880354681360899, 1.0439455203116]\n",
      "[-1.0024693439035253, 0.042410041549146626]\n",
      "[1.346135494838935, 0.4782399208589303]\n",
      "[-0.04948975281770718, -0.42361338346258215]\n",
      "[-1.3114165157595923, -0.3916944436575771]\n",
      "[1.223178277718882, -0.4162459063211137]\n",
      "[-1.3606876274964657, 1.4417693461893069]\n",
      "[0.06411871240065192, 0.9889414669609509]\n",
      "[0.13305018626511433, -0.9784505506606499]\n",
      "[0.4600096396705493, 1.0064072030299336]\n",
      "[1.2217272793404588, 0.04911534650271099]\n",
      "[-0.039415311977473166, -0.05366973086062199]\n",
      "[-1.0830950787686102, -1.0031825327130237]\n",
      "[-0.8654486875927357, -0.9392829725736972]\n",
      "[-1.145009331529372, -0.8089610022020263]\n",
      "[-0.055450051831541725, -0.06355607183975365]\n",
      "[1.0000949891857625, -1.4326618855371258]\n",
      "[-1.0166125788973859, 0.38862127466446506]\n",
      "[-1.3322639875186675, -0.7252210619498746]\n",
      "[0.2980725683847891, 0.1908141070072955]\n",
      "[0.48523518788747433, -0.6496361207830786]\n",
      "[1.4783274711239365, 1.101907196976283]\n",
      "[0.3025161432336003, 0.8838482107813537]\n",
      "[0.4789462501735593, -0.7064379043641309]\n",
      "[-0.1395895645797247, 0.2717879727969219]\n",
      "[-1.1742896582954536, -0.8929543527354746]\n",
      "[-0.24061496198518162, -1.051316419120632]\n",
      "[0.34424450844110077, -1.3828903091456153]\n",
      "[-1.1474507802756886, -0.053277194662557203]\n",
      "[0.9825653359562203, 1.1909068585425948]\n",
      "[0.06613268898466251, -0.3888676492536596]\n",
      "[-0.8115412308628495, 0.9069005880234413]\n",
      "[0.26714425842361944, 0.7241821268467352]\n",
      "[-1.2068492749596522, -1.098350683126196]\n",
      "[1.077159741904234, -0.6501999959731325]\n",
      "[-0.9329369588463878, 0.6274465116183237]\n",
      "[-1.146514188056547, -1.4784178426482555]\n",
      "[-0.5522948561121881, -0.41319063067622763]\n",
      "[-0.7391018213040481, 1.0649307788037854]\n",
      "[-0.6733183713600337, 0.5418171151903453]\n",
      "[0.8513652508906127, -0.052596728979358076]\n",
      "[-0.738667063671911, -0.5800407399762166]\n",
      "[0.7073472918138322, 1.0649967684707908]\n",
      "[-0.1602153677543421, 0.5979343268851602]\n",
      "[-0.2983172807228316, -0.48468646107195923]\n",
      "[0.6203698005986094, -1.0177859726003482]\n",
      "[-1.226734247283888, -1.064014692492739]\n",
      "[-1.3077586308920681, -0.834689266141464]\n",
      "[-0.347021968721934, 1.4533443018938197]\n",
      "[0.6348174951269434, 0.2924176914422889]\n",
      "[0.42087394359041097, -0.1830838543762925]\n",
      "[0.9117297273461507, -0.6419804648739138]\n",
      "[0.047440894658485, -0.8049870815458152]\n",
      "[-0.7822301241378683, -1.4991381844361298]\n",
      "[0.8390186369292518, -0.4406170099304161]\n",
      "[0.053228102967884716, 0.710776620439185]\n",
      "[-0.6465186388908618, 0.9892944073478995]\n",
      "[1.3898629951964665, -0.6704764539086334]\n",
      "[1.2891415224363607, 0.2247201652374442]\n",
      "[-1.1806051308222703, -1.2828420884198883]\n",
      "[0.9088267277170718, 1.3701280487558254]\n",
      "[0.22468163632172677, 0.5825755844139002]\n",
      "[0.8099015782015004, 0.7724198551400172]\n",
      "[-0.11783867560646355, 0.2604795514499383]\n",
      "[-1.2973372180162392, 0.4009853926745657]\n",
      "[-0.8102095842325376, -0.5528079179132142]\n",
      "[-1.4708304248567252, 0.9965311347696861]\n",
      "[0.5210937503454414, 0.9632240684775906]\n",
      "[-0.07033363773213086, -0.43938622135148675]\n",
      "[1.3413543271904347, 0.5493219255713058]\n",
      "[-0.9010003827170724, 0.7062871957284922]\n",
      "[-0.89170032363518, -0.7509136981591276]\n",
      "[-1.1799321296838263, 1.2605643885989686]\n",
      "[0.3414809258272573, 0.7927326379065809]\n",
      "[-0.053123756396848076, 0.36200242449529996]\n",
      "[1.190999319579885, 1.1063065068736604]\n",
      "[1.248020489017672, -0.6592001304504388]\n",
      "[-1.3375554861336476, 0.897809753339943]\n",
      "[0.007425636365017585, -0.3188492314428064]\n",
      "[1.4295215857111252, 0.5947337042884184]\n",
      "[-1.4645400641686532, -0.8677428428956568]\n",
      "[0.33833428908531404, -0.7208976927291059]\n",
      "[-0.08596390578463353, 0.33925212941534344]\n",
      "[-0.868402553668031, 0.6021378804489022]\n",
      "[-0.6611114043579478, -0.9603323138190124]\n",
      "[-0.8142997515009942, -1.2003907772716407]\n",
      "[-0.20334374480749529, -0.3573498533055961]\n",
      "[-1.0513558282035511, 0.9170050846727706]\n",
      "[1.486685310898805, 1.0481697461899815]\n",
      "[0.8559988100816351, -0.599897453539654]\n",
      "[-0.30479429441001726, 0.5716295278819326]\n",
      "[-0.07038172694358891, 0.38958663708646335]\n",
      "[-0.41711393683463527, 0.18105010444279346]\n",
      "[-1.44049399915872, -1.1362875323498889]\n",
      "[-0.9031256680893804, 0.227683372420046]\n",
      "[0.8409272942977113, -0.4346728848273247]\n",
      "[0.7095784942864651, 1.1688973474146613]\n",
      "[0.3951365714504069, -1.0654549851657977]\n",
      "[-0.4878350700032006, 0.3938202249775111]\n",
      "[-1.2859677654703279, -1.014001533159044]\n",
      "[-0.6259309416167405, -0.6975828273880863]\n",
      "[-0.16530483705608479, 1.0884194509410077]\n",
      "[1.3965780984674838, -0.25803281737898054]\n",
      "[0.6833172492972133, 0.486067643425919]\n",
      "[-1.2598057863733585, -0.9992686048810426]\n",
      "[1.1360729293492242, 0.14530123145488139]\n",
      "[0.794989116400787, -1.25024639582794]\n",
      "[0.46449802663004935, 1.1564139512891964]\n",
      "[-0.647474159825733, 0.379442053878569]\n",
      "[-1.4142861209402613, 0.49064740591141365]\n",
      "[-0.07153577803387945, 1.424944636320284]\n",
      "[-0.16546520288776856, 1.4086267936636387]\n",
      "[0.292752596509682, 0.39314256792317903]\n",
      "[0.07037941306352247, 0.4185847461324361]\n",
      "[0.1190043664081788, 0.914123298739359]\n",
      "[-0.7205788681868269, -0.5892812532807331]\n",
      "[1.0438394651480118, -0.4683452482500172]\n",
      "[1.2662651872321584, 1.3408725356043734]\n",
      "[-0.20869406019229952, -0.6212321609928367]\n",
      "[-0.3790683704188993, -0.2647923928015963]\n",
      "[-1.0101915140091338, 0.7113535623101321]\n",
      "[-0.7110591736612529, -0.2332818517389219]\n",
      "[1.2298632103178546, 0.9227248212827268]\n",
      "[0.728780676393455, 0.9264259472971115]\n",
      "[-0.9527784629920716, -0.6312141021261436]\n",
      "[-0.6835976086451279, 0.3682613408266606]\n",
      "[-1.351103783330704, 0.1049122591792988]\n",
      "[-0.6924146013325634, 0.6455878266338253]\n",
      "[-1.0479489189075344, -0.01926134041276395]\n",
      "[0.8983870558082105, 1.4938903384967985]\n",
      "[-0.509254058892509, 1.0306388978042356]\n",
      "[0.8269587321375704, -1.2858459157528295]\n",
      "[1.024617863820779, 0.9517521719987112]\n",
      "[0.8044370125535694, -0.7531129184782978]\n",
      "[0.7128570376605259, -1.3994691252891749]\n",
      "[0.06341736017185173, 1.4463475542168425]\n",
      "[-0.5636719032477907, -0.5308104345512815]\n",
      "[1.3122627708967016, 0.06277875875252881]\n",
      "[-0.9038291045928005, 1.1625587281306276]\n",
      "[-1.1612146220512876, 0.39872689770523406]\n",
      "[-0.6716998684846567, -1.141051223967784]\n",
      "[-1.3740198929367138, 0.8504257207531793]\n",
      "[-0.3858040100902991, -1.2315602917509767]\n",
      "[0.35593457531382344, 1.2925463535558812]\n",
      "[-1.3206746051717326, 0.43372468994375524]\n",
      "[-1.1225176270043207, -0.8019761074318094]\n",
      "[0.7700925696041674, 0.9165761297597577]\n",
      "[0.5677499408521265, -0.4254975082487058]\n",
      "[-0.044093600512460585, -0.18749998750482244]\n",
      "[-0.9306724913410457, -0.9401198131526886]\n",
      "[-0.6740266114250906, 0.99404878017336]\n",
      "[-1.2933702499165216, -1.0349235657740192]\n",
      "[-0.3986618789863816, -1.4978405138272515]\n",
      "[-0.9433971297085502, -1.4438404302358343]\n",
      "[-0.7836403253519366, 0.6630106880517697]\n",
      "[-0.33752747945779316, 0.07220930643135692]\n",
      "[0.33911772705158016, -0.5321998802616181]\n",
      "[0.06960161757970651, -1.2999604707112031]\n",
      "[1.1204783327417172, -0.8937629139336536]\n",
      "[0.2130365440640971, 1.008898579819474]\n",
      "[0.6039420647241376, -0.7321844089980658]\n",
      "[-1.287378117149634, 1.2906331104271533]\n",
      "[1.1693019754903995, -1.2601295903013838]\n",
      "[0.17405966841006504, 1.314731573099582]\n",
      "[0.6253013549365107, 0.9709288988322013]\n",
      "[-1.2888356111692678, -0.5882863533958338]\n",
      "[-1.2086422495270124, 0.6755157984275666]\n",
      "[0.07857606538109119, -0.7537109128379599]\n",
      "[0.7475830739321174, -0.25444619925077916]\n",
      "[-0.4261099023857886, -0.12383822271487688]\n",
      "[-0.9995720432893577, -0.9588103841997954]\n",
      "[-1.0254706323020055, 1.4953007161598442]\n",
      "[-0.5545350115728082, 1.4743889718543808]\n",
      "[0.7925531037131135, -0.20823578180026336]\n",
      "[0.18943410841285235, -0.8582155918688388]\n",
      "[-0.7377326184509276, 1.3849553268940031]\n",
      "[0.6789398350118745, 1.4488694135356432]\n",
      "[1.4802360286636178, -0.5944750382028039]\n",
      "[1.0671612765246183, -1.4348958856272014]\n",
      "[-0.672128589769183, 0.16098945985596202]\n",
      "[-1.0358556413437323, -1.3867910997486905]\n",
      "[-0.3987513209218083, 0.24646711907961016]\n",
      "[-1.224284636143882, -0.30060525456670817]\n",
      "[0.6707415802335452, 0.8787125829428399]\n",
      "[0.5687853031496974, 0.2286973853300942]\n",
      "[-0.5988202384701761, 0.6923680858688317]\n",
      "[-1.3322318735300418, 0.8127045110104154]\n",
      "[-0.2504348621462418, 1.103493290853661]\n",
      "[0.45833754948105265, 0.30690490294962736]\n",
      "[-0.3525391134442102, -0.5856498213622715]\n",
      "[-1.0512599424980964, 0.007204831341698359]\n",
      "[0.6947357206948244, -0.3213518864428946]\n",
      "[0.01418803833610438, -0.8337431155457571]\n",
      "[-1.1034328638873658, -1.252364662084252]\n",
      "[-0.30242610135917447, -1.2447630375952938]\n",
      "[-1.1088744753144777, -1.095387708822135]\n",
      "[0.45674531693750664, -0.9117020988203377]\n",
      "[-0.7612624784786608, -1.2850680589767454]\n",
      "[1.2724142426852487, -1.2312160556197944]\n",
      "[-0.45507642946042703, -0.5377849114419914]\n",
      "[-0.5855434573608207, 1.4629557508911875]\n",
      "[-0.17336968429724542, -1.0625445744291673]\n",
      "[-0.9009443591827327, -0.3785376290382918]\n",
      "[-1.1628847776446873, -1.3363859599147374]\n",
      "[1.1062570549349058, 0.9604018692899885]\n",
      "[-1.1661660230505904, -0.14981528808496214]\n",
      "[0.11401637372095808, -0.8885959413701845]\n",
      "[-0.05092100896592466, 0.6897707505293664]\n",
      "[-1.4448344623310865, 0.24901482997924718]\n",
      "[-0.98904105886571, -0.6479593768560279]\n",
      "[-1.3407442540311632, 0.4642736154461611]\n",
      "[-0.6860688627589875, 1.0562488342717762]\n",
      "[-1.4427650281974174, 1.1022313285634437]\n",
      "[-0.3578963911114563, 1.4298358196695626]\n",
      "[1.1003182365843593, 0.09468193548963955]\n",
      "[-0.12604121355665798, 1.2790499190793003]\n",
      "[0.08824609156535956, -0.49929109610767286]\n",
      "[-0.4596602912773635, -0.44426075319845704]\n",
      "[1.434732801733639, 0.003754383531472172]\n",
      "[1.1360318225734813, 1.1712062582362845]\n",
      "[0.16481805479041656, -0.6594184661153848]\n",
      "[0.47079527684883793, -1.2366149485880957]\n",
      "[0.33734518005031644, 0.3765738014844797]\n",
      "[-1.041752537493445, 1.411611519285651]\n",
      "[0.12670125361767703, -0.879728176016972]\n",
      "[0.9003151774922808, 1.0877629847402046]\n",
      "[0.07141645050561518, -1.0942425184682543]\n",
      "[-1.0645428153224645, 1.2990898392687207]\n",
      "[0.17202089428070622, 1.3458046924942844]\n",
      "[1.1389143648487958, 0.6812385997805745]\n",
      "[-0.2578795337409634, -0.26624471016195206]\n",
      "[1.182390279401408, 1.2997500912474007]\n",
      "[-1.1796857014697968, -0.945760510276298]\n",
      "[-0.6994121609865613, 0.20112927881692366]\n",
      "[0.5621336555350829, -0.4222159963963459]\n",
      "[0.006973762351383694, 0.31413527880825454]\n",
      "[1.0563882973967553, -0.025663208800995818]\n",
      "[-1.4033113403188626, 0.7936165623847038]\n",
      "[-0.2608679334248407, 0.7270999849886985]\n",
      "[-1.301591027295332, 1.2813096185333817]\n",
      "[-0.030171304467409232, -0.5253131195878632]\n",
      "[-0.2853996952724147, -1.3745211748496455]\n",
      "[-0.5613075257655076, 0.33451462401015597]\n",
      "[0.07569159510866874, 1.1273489155794505]\n",
      "[-0.1451712223090138, 0.9810303049780495]\n",
      "[0.056107957762534966, -0.3131664100923248]\n",
      "[0.04838004928439554, 0.39194565927816116]\n",
      "[-0.30588032563632206, -0.5863375565332843]\n",
      "[-0.2326134526486756, 0.33940283773167756]\n",
      "[-1.0732811436747252, 0.9896805132799189]\n",
      "[-1.1604852412692148, 0.8361934256281192]\n",
      "[-1.0940799774289123, -0.25932208470715024]\n",
      "[0.270946425868962, 0.6379031739189083]\n",
      "[-0.7497531177682852, 0.5751522849927042]\n",
      "[0.6551241591556893, -1.1293673494936995]\n",
      "[-0.41116983252823625, 0.07145191819844654]\n",
      "[0.034999354453515874, 1.3492616674281583]\n",
      "[0.8047809713531651, 1.236758336466397]\n",
      "[-1.0497307964684648, 1.1064556124346114]\n",
      "[-0.24125492629269818, -0.5714450836890547]\n",
      "[0.3793585489845879, -1.1473380647925606]\n",
      "[0.36768098396202475, -0.7406670746458822]\n",
      "[0.1305034788129007, -1.4827483533028383]\n",
      "[0.2665869815529276, -0.07286403059053836]\n",
      "[0.30030631288676757, -0.7658604856840999]\n",
      "[0.17264594480666617, 0.9757575141110477]\n",
      "[0.4598306346465608, -1.389836844532764]\n",
      "[1.0140433073778183, -0.6046753600736468]\n",
      "[-0.2491292284339255, -0.9652548247277316]\n",
      "[0.5745408542420001, 0.28490695891415885]\n",
      "[-0.13398651593920308, 0.23689887732689008]\n",
      "[-0.6021165552104598, -0.3942917235747778]\n",
      "[-0.2180284818267162, 0.15141324844045645]\n",
      "[0.5838583154844033, -0.6767443717447998]\n",
      "[0.587488492035515, 0.3361612347852718]\n",
      "[0.3869357972356664, 1.4615677912757485]\n",
      "[1.3016750243645498, 1.4588353270323342]\n",
      "[-0.5505343245045833, 0.07617367599478397]\n",
      "[-1.1108605873370923, 0.18790301299982337]\n",
      "[-0.022486638844452234, -0.9602783050314262]\n",
      "[1.4377729786982112, -1.4952572483225064]\n",
      "[-1.1462228282361844, 1.04420936571056]\n",
      "[-0.2578765814268844, -0.4986232291985293]\n",
      "[-1.4661081960659108, -0.8964385832097294]\n",
      "[-0.5766823522683088, 0.02006888128802764]\n",
      "[0.5575073659408738, -0.4759152443099919]\n",
      "[-1.412647854565618, -0.9731127352860068]\n",
      "[0.5174188720980641, 1.2484891595207257]\n",
      "[-0.05551343063891778, 0.38160146312306664]\n",
      "[-0.4946710363968445, 0.8519670996256163]\n",
      "[1.005317207896856, -0.6019687600819179]\n",
      "[0.10765642714616108, -0.8752125894114905]\n",
      "[1.1640884085547056, -0.4392133787375756]\n",
      "[-1.406480505932441, 1.4508563065955213]\n",
      "[0.21294492346843508, -0.33130117832022377]\n",
      "[0.75462062600884, 0.6157985521365585]\n",
      "[-0.2583912964135906, -0.008836696809931155]\n",
      "[1.3521802493027306, -0.8515803622059432]\n",
      "[0.8548319497122252, 0.8333711743823828]\n",
      "[-1.42519567611012, -0.052010426559542466]\n",
      "[1.2709103036702856, 0.6973232002678311]\n",
      "[-1.0701148561504172, 1.1153969563152986]\n",
      "[0.5301518662136866, -1.1018485306534074]\n",
      "[0.6410321712078941, 0.06703461965551938]\n",
      "[0.5611569921998085, 0.28286274236161457]\n",
      "[-1.3615806899271274, 0.06173313631520072]\n",
      "[0.23267950322837705, -0.5635713047046027]\n",
      "[-0.9223630811296245, -0.6700513839958058]\n",
      "[-1.147047483787219, -1.0520378316008447]\n",
      "[0.36883488803265463, 0.04218198587839206]\n",
      "[-0.5445452644440809, -1.0753295136255516]\n",
      "[-0.7655247784120968, -1.286271386339272]\n",
      "[-0.16905708497629668, -1.10977799380587]\n",
      "[-1.1822192434161982, -1.3386003728333211]\n",
      "[0.28836408759525156, 0.27826867169448755]\n",
      "[0.3489460130547948, -0.5626780465469042]\n",
      "[0.5126107963018076, 0.10045478668538332]\n",
      "[-0.10291391087049329, -1.1046141588781142]\n",
      "[-0.09517228385963294, -0.13324748775977602]\n",
      "[-0.10381030729683038, -0.8049173590366184]\n",
      "[0.35082626174508214, 1.2385848320301474]\n",
      "[0.49554185562568787, 0.8663361190436389]\n",
      "[-1.4092076033644707, -0.07399691389008489]\n",
      "[-0.9875953655930453, 0.8038245442945238]\n",
      "[-1.191203369073138, 0.9526586766751053]\n",
      "[0.4483542383668717, 0.8772928186234412]\n",
      "[-0.25967428299988926, 0.36262451656962313]\n",
      "[-0.3485506236688809, -0.47785752546254967]\n",
      "[0.852941929851589, -0.19393887593125148]\n",
      "[-0.7915370425637338, 0.48783677077901055]\n",
      "[0.22256487243059686, -0.04010908050113482]\n",
      "[0.16526310364128416, 0.966069156942134]\n",
      "[-1.291177095511723, -1.173766098495379]\n",
      "[-0.3632669599188514, -0.0171145578103713]\n",
      "[0.9511007697638139, 1.1617846097223734]\n",
      "[-1.499446978634349, -1.0598239378434111]\n",
      "[-0.3300520193076397, 0.23379424468785004]\n",
      "[-0.5502068482398542, 0.21082922356605494]\n",
      "[1.329999892488341, -0.1958188999192889]\n",
      "[-1.2321377862380376, -1.4756422427708489]\n",
      "[-1.1173329088276958, -0.617446011399987]\n",
      "[-1.3406180664708471, 0.6100623732812016]\n",
      "[1.0837435189383307, 1.0970389104899332]\n",
      "[-0.31719502899316776, -0.5456180711439181]\n",
      "[0.1353563639048352, 0.4874626809375755]\n",
      "[-0.3462148269267158, 1.273446128374812]\n",
      "[1.4923681290314126, 0.5101982457686027]\n",
      "[-1.4528766018749204, 0.6640176970859324]\n",
      "[1.4706529260227623, -1.2460096671308518]\n",
      "[-0.13191403686443426, 0.8667852735979222]\n",
      "[-0.9606078687073062, 0.028244743290350094]\n",
      "[-0.4340783083645796, -0.9426268989271258]\n",
      "[1.040411660021097, -0.7897500981659443]\n",
      "[0.1384987810928897, -0.3990899242431998]\n",
      "[0.614647627664624, -1.160506891155196]\n",
      "[-1.0737375602829724, 0.6938795490505107]\n",
      "[0.8366094517578264, -0.10519101805352671]\n",
      "[-1.2346609478019632, -0.08264528295406315]\n",
      "[-1.2657542448325303, 0.40106299234622433]\n",
      "[-1.3416771835777475, -0.46936148699298674]\n",
      "[0.037989331172147534, -0.09230282364863251]\n",
      "[1.3817439074313755, 0.894669666020973]\n",
      "[1.2685935481854491, 0.7482758381382562]\n",
      "[-1.3157467105396083, -0.08051840413791522]\n",
      "[1.471094488168207, 0.9266873390387014]\n",
      "[-1.2524694995547536, 0.01678832792182816]\n",
      "[-1.1023837115809823, -0.6570842055555336]\n",
      "[-1.1653517871240928, -0.9761584570229467]\n",
      "[-0.1600404969654945, 0.9235220739707208]\n",
      "[-0.04524445874670491, 0.8981160192353022]\n",
      "[-1.246795602872693, -1.0647892446321827]\n",
      "[-0.012155173284680743, 1.480756724170175]\n",
      "[-0.1794449748248066, 0.4127239994842542]\n",
      "[-0.4647728416101833, 0.4267832919447607]\n",
      "[-0.9971988097425941, -0.30376559176522644]\n",
      "[0.7572835591985116, 0.09756249711650566]\n",
      "[-0.07623125770780881, -1.0645505071332577]\n",
      "[1.2816675781602198, -0.15353812913587506]\n",
      "[0.5486289327413756, -1.37694715490868]\n",
      "[1.3685509676688747, -0.20464236414837345]\n",
      "[-0.49509778014586625, -0.6987365528423409]\n",
      "[-0.3265387089302707, 0.8194530459185936]\n",
      "[0.2661728733144093, -0.9152229461084535]\n",
      "[-0.9602500428273568, 0.14283766621153005]\n",
      "[-1.4641157669294902, -1.2069037215725125]\n",
      "[-0.8417510228175525, -0.6501089427196362]\n",
      "[-1.2241761522692016, 1.3155164031864386]\n",
      "[1.3514668777447558, 0.4142486554784357]\n",
      "[1.0693224729154807, -1.1102782403836007]\n",
      "[0.19820641286373242, 1.401496526258482]\n",
      "[-0.7399927833400232, -0.0991332681370265]\n",
      "[1.268086172534094, -0.6708493135267691]\n",
      "[0.8096415274616988, -0.5297876166402566]\n",
      "[0.8313178508517307, -0.35160299267045203]\n",
      "[1.3668170976519773, -0.7060054426358012]\n",
      "[1.2857588946968863, 0.33090565486180257]\n",
      "[-1.0683821989454594, 0.8061219699215942]\n",
      "[1.237827668523379, 0.6462009532525297]\n",
      "[0.21403367953475883, -0.7482109492144623]\n",
      "[-1.0534371736750308, 0.4210058078363754]\n",
      "[-0.7006905566541671, 0.6001655980161766]\n",
      "[0.04614900889111251, 1.3197332196904115]\n",
      "[1.0321474610515105, 0.8428111108901124]\n",
      "[-1.4900779191160827, 1.3624660377784363]\n",
      "[0.20173165653580583, 1.305126562526853]\n",
      "[-0.29815560455930257, 0.39681757979875343]\n",
      "[0.10387888968010417, 1.3827765660001958]\n",
      "[0.799524269028574, 0.44337771541894533]\n",
      "[-0.3475089745059441, -0.9269905172540917]\n",
      "[0.3918511723468283, -0.4222166354990704]\n",
      "[0.7059725490837803, -1.080171144700834]\n",
      "[0.27883628543805616, -0.03230234856678127]\n",
      "[-0.5768073611032037, 0.1018201402936989]\n",
      "[1.487500884005836, -1.388871960208898]\n",
      "[-1.3715563996395206, -1.1454386738312654]\n",
      "[-0.12488890573181699, 0.5342334703400735]\n",
      "[0.23803713693437678, 1.274447435260567]\n",
      "[0.46149458033732316, -0.08634109257506895]\n",
      "[0.6038904335078539, -1.1083867993720204]\n",
      "[-0.5779879952801941, 0.8810913137486329]\n",
      "[0.2731274678697646, 0.9534005332917808]\n",
      "[0.8975256670034346, -0.8382824272712298]\n",
      "[0.9345630892193899, 1.4465782583786932]\n",
      "[1.42755980828602, 0.227901031357455]\n",
      "[0.8793050098396504, 0.7926836471018168]\n",
      "[-1.1377635313445325, -1.0762895921420288]\n",
      "[0.16022318970425697, -0.18401636383731823]\n",
      "[-1.2000964479658243, 1.0421001307411775]\n",
      "[-1.4531090211951674, -0.0390975755291596]\n",
      "[-1.232576279936554, 0.4552673755674923]\n",
      "[0.9222354097420133, 0.8176881255808279]\n",
      "[0.4194771111968847, 0.06926059239549476]\n",
      "[0.33161396589145564, -1.3871363640664824]\n",
      "[1.3508941923384636, 0.3815749621350375]\n",
      "[-1.486289876154578, -0.7930829780123488]\n",
      "[-1.2129484351220516, -0.4142960862204941]\n",
      "[-0.8421715990256669, 0.8109938493325761]\n",
      "[-0.9188430209604105, 0.8898389149282293]\n",
      "[-0.07676148047637588, -0.9710285478884075]\n",
      "[0.43458250979020585, -0.644806439960232]\n",
      "[0.9154610236751939, 0.775224062498233]\n",
      "[1.274584037155523, -0.9723371753533422]\n",
      "[-1.151804743613463, 1.185237524702396]\n",
      "[-0.5220830570370049, -0.9037458133603614]\n",
      "[0.8369258368790042, -0.5216033258784848]\n",
      "[1.1096589088430067, -0.37340283636677696]\n",
      "[-0.04677685228721762, 1.171466531661117]\n",
      "[-0.13502738226814381, -0.3380090883340299]\n",
      "[0.39606335070558263, 1.4266676739535002]\n",
      "[0.5766315885335018, -1.3210448410972024]\n",
      "[-0.12426322508848098, -0.9863960498495495]\n",
      "[0.3109079485413755, 0.868640895066382]\n",
      "[-0.9901935477974689, 1.4104075257351019]\n",
      "[1.0709212911524348, -0.032359804312906304]\n",
      "[1.010967078717714, -0.6624873649812374]\n",
      "[-0.7600374687947757, -0.5181121580098111]\n",
      "[0.2753148960974592, -1.0530908946598756]\n",
      "[1.4405521238794368, -1.3798239605589175]\n",
      "[-1.3991383367993464, 0.09336517887533047]\n",
      "[0.9638739622682153, -0.14267589534927083]\n",
      "[-1.4627310255208648, 0.6953588516999352]\n",
      "[-0.6126287153572801, 0.4429205953840536]\n",
      "[-0.585490193326708, 0.609913463725511]\n",
      "[-1.426759578814638, -0.13547760701714529]\n",
      "[-0.283918883242926, 0.8695761383671714]\n",
      "[0.40020690861412067, 1.0811479529881107]\n",
      "[-0.5012815848532246, -1.4018574737774587]\n",
      "[1.3382864805870032, 0.12730531935161427]\n",
      "[-1.2571228752928554, 1.1425417438677252]\n",
      "[1.3359666893632136, 0.5239588997659945]\n",
      "[-0.4032274231608317, 0.357400351186268]\n",
      "[0.176371374090172, -1.2989822575280472]\n",
      "[1.4437548667549267, -0.7841018839262316]\n",
      "[1.317443797415729, 0.24035815606559918]\n",
      "[0.7350501439173347, -0.8236883211032195]\n",
      "[0.5406802167653098, -0.6685639980183544]\n",
      "[-0.04131928455568645, 0.08004779732733569]\n",
      "[0.5349248757670599, 0.09856639577711812]\n",
      "[0.8997116015845492, 1.336095966992298]\n",
      "[-1.3031172263245232, 1.1757096398766111]\n",
      "[1.1938375796112082, -0.6348819369467386]\n",
      "[-0.6721717913741341, 0.5912463325549817]\n",
      "[0.06206291806932018, 0.3818285917346984]\n",
      "[0.1243048742053241, -1.1039178936055696]\n",
      "[0.4340533246431266, -0.625449608510867]\n",
      "[-0.8030158094700982, 1.3423461359654474]\n",
      "[-0.4716225641423353, 0.43815367937440497]\n",
      "[0.590590742159625, 1.025723611156688]\n",
      "[-1.104137244113939, 0.8680447855553401]\n",
      "[-0.0472706622205159, 1.4121721451315201]\n",
      "[-0.44063731392364147, -0.13222038843749795]\n",
      "[0.6354365170445293, -0.6442602534082421]\n",
      "[0.5785778069059062, 0.49906789797076456]\n",
      "[-1.3765456305345962, -0.5501224866243043]\n",
      "[-0.9465102507511819, 0.1874617272719976]\n",
      "[-0.46845895466333154, -0.3812551919722016]\n",
      "[-0.595320691433027, 1.2613019278256266]\n",
      "[-1.0638483401882117, -0.1258777917665701]\n",
      "[0.715484944272315, 1.4268031084703434]\n",
      "[-0.07826797896673998, -0.6305184520124149]\n",
      "[0.22118274868028753, -1.058749575922426]\n",
      "[-0.17368339735229865, 0.5674409444402668]\n",
      "[-1.081730119630508, 0.15287997089794492]\n",
      "[1.0226307486079214, -0.16208192652329334]\n",
      "[0.42393795837051584, 0.25029432460145307]\n",
      "[-0.6662184924844876, -1.4323540609272674]\n",
      "[0.5146733289425898, -1.2378691887295359]\n",
      "[-0.5467265635019868, 0.31523346554240206]\n",
      "[-0.4168053925583215, -1.0561621848650926]\n",
      "[-0.38150654705932463, -0.6460489032062843]\n",
      "[1.1229052072994339, -1.23720410729136]\n",
      "[1.4777914974602258, 0.9110565135442696]\n",
      "[1.411082019606015, -0.22850340466338004]\n",
      "[0.26154020275031864, -1.2417660770496886]\n",
      "[1.1025774596326285, 1.4599150419700906]\n",
      "[0.7683421606370597, -1.2346551640342431]\n",
      "[-0.25645795818657424, 0.16744153489440583]\n",
      "[-1.0892188802527438, -0.941980745666838]\n",
      "[-1.3733012566834866, 0.9787449159173569]\n",
      "[0.1778431700137859, -0.1096444973829338]\n",
      "[-0.7119689293167876, 1.3680797883992315]\n",
      "[0.4614389166067565, 1.1780595769216649]\n",
      "[0.5635295579907114, -0.7657492154439708]\n",
      "[1.4829988622060117, -1.299825520838246]\n",
      "[0.19672376892123755, 1.105037754578401]\n",
      "[0.5827352960023457, -1.1412489479809507]\n",
      "[1.0358402041987445, -1.0114583019542436]\n",
      "[1.1349517932522977, -1.0935078183400901]\n",
      "[-0.24145798453136247, 1.2363138635864042]\n",
      "[0.08883698967724696, 1.3089510592108966]\n",
      "[-0.9502575077558449, -1.216474042860512]\n",
      "[1.1173294033753223, 0.9804659898205443]\n",
      "[0.5563311583839541, 0.5650399259296659]\n",
      "[0.9699444504913131, -1.461307008483646]\n",
      "[-0.04530292573583505, -0.47906072614549045]\n",
      "[-1.0363352558750758, -0.8366594948267889]\n",
      "[0.34028507820485876, 0.9942485455981314]\n",
      "[0.15333848526175786, 0.7689202309231522]\n",
      "[-1.2707990232877662, 0.9565342321522268]\n",
      "[-0.5652796024594301, -0.41229430275379175]\n",
      "[0.29294591821255755, 0.7907686375851508]\n",
      "[-1.41372138832971, 0.9437223252340452]\n",
      "[-1.0729219908703755, -0.8202767079898347]\n",
      "[-1.2641851136504472, 0.5724544099649118]\n",
      "[0.8240769241211163, 0.7720021031330706]\n",
      "[0.8791655449522024, 0.04043757751232757]\n",
      "[-0.7409625863295459, -1.301257916503121]\n",
      "[0.8471124423398124, 1.2602942124409666]\n",
      "[-0.9456545262649513, -0.4453990005867381]\n",
      "[1.3255349385151787, 1.3463748152498454]\n",
      "[0.0019032459140300162, 0.6856622683917677]\n",
      "[-1.2026829461845794, 0.234401034487278]\n",
      "[-0.9253574394226716, -0.6544296256056402]\n",
      "[1.4207397116426232, -1.2039428444750884]\n",
      "[0.6232682721625755, -0.40061092306376467]\n",
      "[1.373243207648199, -0.9574543870670614]\n",
      "[-0.8571779985520767, -0.817337362298862]\n",
      "[-1.129153792577199, -1.1690515163601733]\n",
      "[0.614192745572431, 0.17139636849172213]\n",
      "[-1.1528321791116647, -0.6491656722811067]\n",
      "[1.4285371417050845, -0.16813238950356624]\n",
      "[1.0660970008662716, -0.9336450429981854]\n",
      "[-0.07296960937048502, 0.5373933248395035]\n",
      "[-0.025054879365217442, -1.1844843462920989]\n",
      "[-1.2449822697218245, -1.0698973150220934]\n",
      "[-1.1948335303046074, 1.2758709466254925]\n",
      "[1.425622482577407, -0.48410506098873585]\n",
      "[-1.131713496904009, 1.0143273940243764]\n",
      "[0.6404814220809674, 0.2457558719884596]\n",
      "[0.43149353436883664, -0.29929341324946357]\n",
      "[-0.2866692024277926, -0.04640142221567389]\n",
      "[-1.175889995943232, -0.7479304189382185]\n",
      "[-1.0961748578461221, -1.2011898293093215]\n",
      "[0.5343223220128315, 1.416217651495986]\n",
      "[-1.0417900464813576, 0.36590028457118473]\n",
      "[0.7548292395461105, 0.802716325793881]\n",
      "[0.4862796999044501, -0.02924891923081696]\n",
      "[1.079016935986183, 0.13986010143914163]\n",
      "[-0.20878078311400872, 1.2448174756571824]\n",
      "[-0.37099031114825287, -0.12103128352803472]\n",
      "[1.0810821081559912, -0.5908662851594338]\n",
      "[-1.0965352733628526, 0.647169568890642]\n",
      "[0.5250737404202006, 0.4802357678216076]\n",
      "[-0.07226683432783032, 1.0630544086466198]\n",
      "[-0.01592660864341755, 1.4126122752829868]\n",
      "[1.4333488334217117, -0.5385516495684392]\n",
      "[1.0108024559857718, -0.4533696366201323]\n",
      "[1.1740286713500243, -0.47623042656689796]\n",
      "[-0.4279017579869273, -0.44619221859166247]\n",
      "[0.4442484746597599, 0.27759500037748497]\n",
      "[-0.5852626313014786, -0.48721722879009155]\n",
      "[-0.11727184077126296, 1.0901055653946035]\n",
      "[-0.7001433442443102, 0.5878754288636125]\n",
      "[-0.36678721971019645, -0.3290976288373466]\n",
      "[-1.1998299503878367, 0.5253338859805834]\n",
      "[0.7947117015880543, -0.4813817255207775]\n",
      "[-0.19202660318258502, -0.009144865674282743]\n",
      "[1.0211414661333178, 0.1075020703840277]\n",
      "[1.4886830800813593, -0.29391794343434996]\n",
      "[-1.2241264942800962, 1.0325606520070116]\n",
      "[-1.2981906704657908, 0.9035570144146003]\n",
      "[0.8869552480428275, 0.4546104406656091]\n",
      "[-0.20126854635499347, 0.11984273746653562]\n",
      "[0.3748916279234562, -0.14031418401985807]\n",
      "[-1.444190033647926, 0.609994937097075]\n",
      "[-0.8611415849445863, 1.3863512238243518]\n",
      "[1.3114887767566672, 0.09815800507963002]\n",
      "[-0.19882654544779843, 0.19834932818893458]\n",
      "[-0.4071759925226863, -1.056768933526264]\n",
      "[-0.5991729756268414, -0.19383364743902698]\n",
      "[-1.3067174114154096, -0.8893258755065431]\n",
      "[0.43812796087378936, -0.730660095359648]\n",
      "[-1.1593242701151465, -0.9242519655591809]\n",
      "[-0.10752089726815339, 0.1794750315985032]\n",
      "[-1.3889887958320117, -1.0219245343049177]\n",
      "[0.9106145488717852, 0.476012137920546]\n",
      "[1.3913606715755313, -0.042474103371044736]\n",
      "[-1.2482113768032619, 0.30479922066582343]\n",
      "[-0.27897944532096597, -0.4096972643210277]\n",
      "[1.3294864261107993, 0.6727033594865413]\n",
      "[0.7034412212725396, 1.298806342198907]\n",
      "[1.349023501018789, 1.294666875718388]\n",
      "[-0.7857694342772369, -1.1331694996388806]\n",
      "[0.25297866174361894, -0.3301479934340359]\n",
      "[-0.2313930045513426, -1.0671662738886325]\n",
      "[-0.18157376181239915, -0.737082238579543]\n",
      "[-0.3758850462820147, 1.3461326683974564]\n",
      "[0.548215342603922, 1.3899460198968745]\n",
      "[-0.4110059631938836, 0.6470136873663801]\n",
      "[1.4004154780185836, 0.31744419861158946]\n",
      "[1.3225448292793107, 0.5720473658470202]\n",
      "[0.15818370993487996, -0.5721944949265781]\n",
      "[0.9367508966903761, -1.133838693762332]\n",
      "[-0.3345869554311163, 1.2293672999906828]\n",
      "[-0.7333989299635257, -1.229249016873783]\n",
      "[-0.8688405262064176, 1.1707401832988982]\n",
      "[1.1384017425532882, 0.8002227018273507]\n",
      "[1.099333764912811, 0.9695933411893995]\n",
      "[-0.261116044376108, 1.0234903991085784]\n",
      "[0.9607239313512048, 0.9732025972085445]\n",
      "[-0.4444309602483245, 0.3063478260315562]\n",
      "[-0.14021474059201555, -1.4179473199998862]\n",
      "[0.3904690245554958, 0.8730579534418612]\n",
      "[0.38488881972910916, -0.558834592048615]\n",
      "[0.04909767315307123, 1.4089937605174039]\n",
      "[1.040881289407971, 0.5572601350467545]\n",
      "[-0.06490356012793264, 0.7055163264314039]\n",
      "[0.9803058280254993, 0.8985860038205384]\n",
      "[-0.9543322385811618, 1.129170038789213]\n",
      "[-0.8265385995641062, 1.3443276514776814]\n",
      "[0.37988207255394535, 1.2205343415359384]\n"
     ]
    },
    {
     "name": "stdout",
     "output_type": "stream",
     "text": [
      "[0.6037834626100409, -0.9937321309048766]\n",
      "[-0.7195266600865604, -1.2328161979161307]\n",
      "[-1.1479484435741254, 0.6557502715104304]\n",
      "[-0.13887640474906338, 0.5208301282111338]\n",
      "[-0.9283675041932096, 1.0858101728576215]\n",
      "[-0.017495526774074843, -1.1094020061647463]\n",
      "[1.4856223499198755, -0.651098264901905]\n",
      "[-0.27442769425071356, -1.0621714436537077]\n",
      "[0.3530407201717054, 1.2219847049188157]\n",
      "[-0.1255076657443044, -1.4690392732125162]\n",
      "[0.5790706738283049, 0.5605573478091728]\n",
      "[0.7083123161762046, -0.7313232182028381]\n",
      "[-0.5014123783022626, -0.7954756810307709]\n",
      "[1.3179658205239075, 1.4016295329238884]\n",
      "[-1.3634643851512451, -0.7390293515203448]\n",
      "[-0.31590955694179224, -0.38729636075560214]\n",
      "[0.24146072967437404, -0.7191250435292761]\n",
      "[1.1336902559120547, -1.104241398953319]\n",
      "[-1.074612797936663, -1.149473831506008]\n",
      "[1.115038677454847, 1.0044121134504822]\n",
      "[-0.6512234754236192, 1.1308091565195406]\n",
      "[-0.708726178475335, -0.5609690524091865]\n",
      "[1.4836951976554418, 0.7910262409608966]\n",
      "[0.47225843302873205, 0.8946605497596325]\n",
      "[-0.8104183632923367, -1.3924132554922806]\n",
      "[-0.19071040043181098, 1.4856052300745666]\n",
      "[-0.4304396512623452, 0.6270874268007542]\n",
      "[1.0375150528497388, 1.1006379011583411]\n",
      "[1.1045193288650315, -0.9580351076657999]\n",
      "[-0.6816253387202162, 1.1726835667298214]\n",
      "[1.4148820639578785, 0.07804621979998716]\n",
      "[-1.2694936116153577, 0.8047602809543335]\n",
      "[-1.4221134941813074, 0.5439370344877497]\n",
      "[0.2710154934782185, 1.3536595502362379]\n",
      "[-1.256810289765153, 0.9920976767176386]\n",
      "[1.3656045929190164, 0.28261277805282825]\n",
      "[0.4685182710520517, 1.352687905425623]\n",
      "[0.7029586786079038, 1.3722083374194831]\n",
      "[-1.3539532541880468, 0.43093208856032805]\n",
      "[-1.2878277328500998, 1.3557005659257961]\n",
      "[-0.9659675976616118, 1.39514792943472]\n",
      "[1.057037499730797, -1.0111779483742365]\n",
      "[0.7576756988711457, 0.4621928964734374]\n",
      "[-0.20292474174747, 0.9190595877550498]\n",
      "[-1.1061399945830348, 0.4965608886505253]\n",
      "[-0.03113089251274448, 1.156239115925644]\n",
      "[-0.23078825868169206, 0.7694719304711297]\n",
      "[-0.1976822324688825, -0.22194870353607565]\n",
      "[-0.1094253731569641, -0.8273093630162491]\n",
      "[-0.01403323872509521, 0.38867874400076374]\n",
      "[-0.18793344320692595, 1.2216231331574474]\n",
      "[-1.116630754970448, 1.2087108559997821]\n",
      "[-0.6135550982832383, -1.356815176807471]\n",
      "[-1.1771034856740035, -0.22525943637595924]\n",
      "[0.20543463109787008, -0.7398590068044297]\n",
      "[0.010333702331826622, -1.1581935270015264]\n",
      "[-0.9533755963390362, -0.32112798738646386]\n",
      "[-0.6070574526351761, 0.2616251645407379]\n",
      "[0.3714311824999912, -0.7047768307924038]\n",
      "[-0.9384247985988476, -0.9447378275196139]\n",
      "[1.1148473845439129, -1.181008023758257]\n",
      "[-1.1499652189022767, -0.9847939463898323]\n",
      "[1.1063415629651487, 1.3974114226754044]\n",
      "[0.3554981234624788, 1.421765676515061]\n",
      "[0.5708800630666824, -0.31500828702805794]\n",
      "[-1.4583722459345592, -1.1642624925978136]\n",
      "[1.0770360907945475, -0.8723115589965018]\n",
      "[-0.19263457859852107, 0.37817745338803554]\n",
      "[-0.5972463912579163, -0.10972333368288778]\n",
      "[-1.001683520471707, -1.04273328023893]\n",
      "[-0.08553240404364981, 1.0793893363218663]\n",
      "[0.20829138523602686, 1.0015155984103692]\n",
      "[0.39122964101201707, 0.6392784438681884]\n",
      "[0.7112349401115163, 0.2875186517330677]\n",
      "[-0.03751046062230268, -0.0416971181328063]\n",
      "[0.5360037514211191, 0.9500677108980908]\n",
      "[0.08492642683579721, -0.23398635738186502]\n",
      "[1.1786315884061218, -0.24858762571646453]\n",
      "[1.3168934281061548, -0.45970765989291573]\n",
      "[-0.6359676556391463, -0.9233961074969077]\n",
      "[-0.8408929648773662, 1.2272104625025557]\n",
      "[1.0274014036774446, 0.47087440941782166]\n",
      "[0.6341555578344589, 1.3794101048304381]\n",
      "[0.7037538966593644, 0.8879179911090023]\n",
      "[0.3655271352948679, -0.6526283541910901]\n",
      "[-1.112710337937822, -0.9015473315943608]\n",
      "[-0.2520469141813808, 1.4813017061440292]\n",
      "[-1.3588519916103508, -1.445608212974964]\n",
      "[-1.0241836046863768, 0.9838460652409866]\n",
      "[-1.3090032412618084, -0.20813861234554754]\n",
      "[-0.8277130837805877, -0.7265335769877698]\n",
      "[-1.3599709249266634, 1.1331409414937128]\n",
      "[0.5704067470214294, 0.0461623282199235]\n",
      "[1.2798962953597544, -0.18651988061546798]\n",
      "[-1.167207465142166, -1.1823244218158933]\n",
      "[1.342150481832058, 0.9708306840614869]\n",
      "[0.3897783484621198, 1.112608422459354]\n",
      "[-0.6236310368441786, -0.17544626976628575]\n",
      "[-1.202117283173746, 0.4412789128065906]\n",
      "[1.0457852751439134, -0.18267461725391465]\n",
      "[-0.7640518061485881, 0.9274356471075862]\n",
      "[-1.2442984149005498, -0.3826909277916013]\n",
      "[0.4949857647445337, -1.045166356417397]\n",
      "[-0.8154539882094938, 0.9053060359244682]\n",
      "[-0.12374080825208411, 1.0571714382504362]\n",
      "[-1.410711218955099, -1.0632470823045406]\n",
      "[1.3309285209234325, -1.2456653564057434]\n",
      "[-1.0070259548558531, -1.3155950145438404]\n",
      "[0.42439726332467975, 1.2075333947216853]\n",
      "[0.640108551064225, 0.4810848953384159]\n",
      "[-0.29399154590555643, 0.5426119722602603]\n",
      "[0.7280925060889549, 1.2276925596033936]\n",
      "[0.08337520682218047, 1.2613517749353158]\n",
      "[-0.8845992858503814, 0.13327587301342936]\n",
      "[0.5924128967207061, 1.16302468952159]\n",
      "[-0.9081127372166213, -0.5954057629939707]\n",
      "[0.6752960470068574, 0.7201566669317101]\n",
      "[-0.6482164215951896, -1.2215412964298218]\n",
      "[0.7711389728416242, -1.0199179793129474]\n",
      "[0.2775108052497397, -0.7759806625791869]\n",
      "[1.4608641007231453, -1.1686742812696211]\n",
      "[0.3809685969538845, -0.43657996228755236]\n",
      "[-1.125750583811025, -0.6061166620455248]\n",
      "[1.4488516875229176, 0.9161626863276524]\n",
      "[1.1830166936860849, 0.3832330554467558]\n",
      "[-0.44898859487768394, -0.6463935151639053]\n",
      "[0.5173014061146559, 0.6430529365911868]\n",
      "[-0.5164591107565503, 0.2471071375732552]\n",
      "[-1.2060365048076231, 0.6349212622424689]\n",
      "[-1.3134189823667692, 1.1655278905495252]\n",
      "[-0.39211735106656453, 0.07876680946544612]\n",
      "[-0.3156525744792493, -0.7089188713363461]\n",
      "[-0.17976013521065148, 1.293106822993309]\n",
      "[0.9714354909101748, -1.0669614559608873]\n",
      "[-1.1118444360487507, 0.6135740543868868]\n",
      "[-0.8620723831184424, -0.07993331478668653]\n",
      "[-0.39200382109662857, 1.3554652583323281]\n",
      "[-1.1374007157328883, 0.21529426327922718]\n",
      "[-0.38559793744404813, 1.4730603033555991]\n",
      "[0.8736111032114042, -1.0735805828021654]\n",
      "[1.1827587851546095, 1.1671716187182581]\n",
      "[-0.03361903126346144, -1.1330162834926554]\n",
      "[-0.24727453706019187, 0.21917727536786824]\n",
      "[0.8440480465584761, -0.07431735468372747]\n",
      "[0.7858536944953118, 0.014291583816564035]\n",
      "[-0.15277578348705356, 1.0990366576879653]\n",
      "[0.4935069372562202, -0.27111501871268917]\n",
      "[0.12298335237398073, 1.3742384762416147]\n",
      "[0.4377495889782135, 1.0978607199850998]\n",
      "[0.8884763443081485, 0.6221965471397652]\n",
      "[0.17805846970868178, -0.9227197999842095]\n",
      "[-1.3413768420228482, 0.21073314968691292]\n",
      "[1.1905928407310857, -1.1391504706832527]\n",
      "[-1.4430792493754063, 0.8602711380825561]\n",
      "[1.1629674862225219, -0.16731159199816137]\n",
      "[-0.2946064042547414, -1.365049068075276]\n",
      "[-0.1889477406328619, -0.25519072955719535]\n",
      "[-0.7284666204968449, -1.156066127573264]\n",
      "[-1.0678972412049266, -0.7333364240459049]\n",
      "[-0.2781706971241109, -0.9924268560354325]\n",
      "[-1.4184864227481049, -1.3244946532393025]\n",
      "[-0.2615315640044731, -0.5273466276094104]\n",
      "[-1.1371012094942157, -0.89232162595638]\n",
      "[-0.021061677293004344, 0.7571699359511119]\n",
      "[-1.3181040662898917, -0.10552940026400082]\n",
      "[-0.27751863076818095, -0.7987786327212656]\n",
      "[1.3904240634927008, 0.5252922870556134]\n",
      "[0.855642559950903, -0.5861614741032056]\n",
      "[0.407396983364948, -0.8896292794596797]\n",
      "[1.455926146392263, 0.8460709879955979]\n",
      "[1.2344781954993063, -0.1447739964323027]\n",
      "[0.9881153543456622, -0.6322516354979834]\n",
      "[1.3005204481291184, -0.05344122037359478]\n",
      "[-0.3595394566824617, -0.44574623907122013]\n",
      "[0.0309852648074469, -1.3635458090584809]\n",
      "[-0.5980849544022584, -0.31408529657656015]\n",
      "[0.16943724450814512, -0.6616251048830312]\n",
      "[1.3722515210968975, -0.5450881745532541]\n",
      "[-0.7159183998486325, 0.7580820033197275]\n",
      "[1.4490658414730038, -0.47511058575010545]\n",
      "[-1.452376151516626, 0.5755351811735121]\n",
      "[-0.07041314979763547, 1.2043349819536195]\n",
      "[1.1858045316448047, 0.6098990251640237]\n",
      "[0.8619157048326791, 0.4472918283477383]\n",
      "[0.9962515938890708, 0.5148392344678214]\n",
      "[0.9383437419617868, 0.9824005052740321]\n",
      "[0.8038975330860101, 0.5910904031350199]\n",
      "[1.308743548236583, -0.16626702973179608]\n",
      "[-0.6565965485448909, 1.2641960689991216]\n",
      "[0.34032812621973196, -0.5904644025471548]\n",
      "[-0.018573985234726198, -0.4110024637700014]\n",
      "[0.6209040196096964, -0.8727410359575885]\n",
      "[-0.3117414613601599, 1.10974869751962]\n",
      "[0.15535556213044188, 0.47951526356074536]\n",
      "[0.19542070125480393, -1.3039181249998975]\n",
      "[-0.7211265578814582, 0.20970987205532854]\n",
      "[0.8467581258936514, -0.924445356853295]\n",
      "[0.578957446166898, 0.09882455202467488]\n",
      "[-0.1382216289202507, 1.313671106706138]\n",
      "[-1.3444116073729142, 1.3162779880240394]\n",
      "[-0.6778932112071434, 0.5405204262948464]\n",
      "[0.7770651439606695, 1.1514073249970438]\n",
      "[-0.23981379272616765, -0.15341550895030887]\n",
      "[-1.2545732957102707, 0.2154588507340751]\n",
      "[1.4342868333209071, -0.2285392293831181]\n",
      "[-1.0065552742207506, -0.5675824270506774]\n",
      "[-0.060100739480206444, 0.9241772224908362]\n",
      "[-0.4970923921352419, -0.7487715874503501]\n",
      "[-0.47759409623181437, -1.3367014194659788]\n",
      "[1.3306427316273188, 0.8272484153501249]\n",
      "[0.37604627266055735, 0.2368034077769452]\n",
      "[-1.3999689733074205, -0.5601616973411203]\n",
      "[-1.1173926279991369, 1.2573473632869216]\n",
      "[0.37855563532946235, -1.3026292226800118]\n",
      "[-0.6152496892974681, -0.35563354786448786]\n",
      "[-0.8006640479434416, 0.29872755976337473]\n",
      "[-0.3482399255586621, 0.8854940331303864]\n",
      "[-0.4811505753340999, 1.3127545567402858]\n",
      "[-0.5154189932090041, -0.922556047707649]\n",
      "[-1.29736658350632, 0.8682492712314307]\n",
      "[0.4120912069581002, -0.7311416933970629]\n",
      "[-0.16612705917827641, -0.7705425663812602]\n",
      "[-0.5649994257571781, -0.19245561555491975]\n",
      "[-0.5664352793172172, 1.1556657301145128]\n",
      "[-0.5739767565579084, -0.47129905318325904]\n",
      "[0.25931973735265723, 0.5349011230006897]\n",
      "[1.0055247893806527, 1.0761066165851196]\n",
      "[-0.8988842895503018, 1.2255006552024459]\n",
      "[0.5035804169414577, 0.5843447303438407]\n",
      "[-0.5065636965928524, 0.23523224665441145]\n",
      "[-0.2439141349058067, -1.0131600401212002]\n",
      "[-1.373423550368905, -0.8417823556075934]\n",
      "[-0.8091779693990183, 0.37176005273621904]\n",
      "[1.3577646869715898, -0.5054546712203778]\n",
      "[-0.9472664633523453, 1.4696341307474388]\n",
      "[-1.4099472339147718, -1.154432122206644]\n",
      "[0.25705917729531436, 0.7965982040742614]\n",
      "[-0.9065250169314248, -0.977560172551609]\n",
      "[-0.4805475209459473, 0.1635148654721139]\n",
      "[1.0286442621452045, 1.2319468505946594]\n",
      "[-0.36323172625446665, 0.8622422416138242]\n",
      "[-0.5847828658773675, -0.7795502013793443]\n",
      "[1.323485267019124, 1.4313055380960442]\n",
      "[1.1351635093452512, -1.303867441747487]\n",
      "[0.8846943495342385, -0.9249561235482685]\n",
      "[0.29864748782381767, 1.430944620880699]\n",
      "[0.3480840233115674, -0.932693507050676]\n",
      "[-0.5169581864661357, -1.340223074791004]\n",
      "[1.054507915115419, 1.4051529225129382]\n",
      "[-1.2557768944353191, -0.08799811919784828]\n",
      "[0.025841416152920793, 0.7539241138641999]\n",
      "[-0.004236671651325352, -0.10719816731664888]\n",
      "[0.5835290212176081, 0.6469496180657717]\n",
      "[-0.2971617883867266, 1.2635556710651024]\n",
      "[-0.8414211520205896, -0.8909985098522889]\n",
      "[-0.5820028910408279, 1.1661267886403865]\n",
      "[-0.37767793414303874, 0.1516559217443818]\n",
      "[-0.16648405375732356, -0.4452751450945982]\n",
      "[0.3633774594152115, -0.22169296925176996]\n",
      "[0.91351339588038, -0.5489387227665008]\n",
      "[-0.7986288011306927, 0.43606455793727417]\n",
      "[1.0278101675606872, 0.03837296843495697]\n",
      "[1.2798177576305325, -1.2047726708966222]\n",
      "[-0.8990802094245441, -0.9100610313913081]\n",
      "[0.9466943391073386, 0.5506179894234586]\n",
      "[1.4939871163189062, 1.49521529350428]\n",
      "[1.2371475903943652, -1.474398364795534]\n",
      "[0.849384762276165, -0.28856657566543675]\n",
      "[0.4659255224143872, -0.08398801861499927]\n",
      "[-1.052156570580614, -0.30748414484608566]\n",
      "[-0.07668524458133019, 0.04747605145730738]\n",
      "[0.6675310540437187, -0.11579658819750938]\n",
      "[-0.9364603438498161, 0.8103931980266372]\n",
      "[-0.15008419335758427, 0.17534045197302262]\n",
      "[-1.1149630776292399, 1.330062003533655]\n",
      "[1.0028966446517953, -0.4805332744384416]\n",
      "[-0.2898938485344895, 0.8359302138653084]\n",
      "[-1.4302804790233652, 0.8560734323905925]\n",
      "[1.357912637164981, -0.5092484153466477]\n",
      "[0.32351181448724997, 1.100834266637695]\n",
      "[-0.32809156037026854, 0.10347174226717293]\n",
      "[0.2085450357631924, -0.14539402040086769]\n",
      "[-1.1870604677151397, 0.1587203259237726]\n",
      "[-0.034160032268498064, -0.9399236843213722]\n",
      "[-0.6485471381420129, -0.8008817220232146]\n",
      "[-1.3276404581520203, 0.05559504056827169]\n",
      "[-0.26741629709813153, -1.0288936349095006]\n",
      "[-0.06524657287129565, -1.2937110277490418]\n",
      "[-1.1102031498301983, -0.8829689850712454]\n",
      "[-0.07565992715698666, 0.3111283460652392]\n",
      "[0.007425063478321725, 0.5545077873533168]\n",
      "[-1.0719240357190762, -1.308089871155114]\n",
      "[0.07756951441373205, 1.2309076168215811]\n",
      "[0.2283982568774694, 0.7118721326687041]\n",
      "[-0.13108012795190893, 0.6009496191733956]\n",
      "[0.3390825351349176, 0.9299542944843449]\n",
      "[1.199893860915374, 0.6997318587916332]\n",
      "[-0.9496670432719134, 0.20584579770715905]\n",
      "[-0.7809142272425783, 1.1116187756791462]\n",
      "[-0.6243312284352572, 1.2488890007155504]\n",
      "[-0.8482353931202784, -0.019537268326919932]\n",
      "[1.48594914455858, -1.2703990916446553]\n",
      "[-0.5219605920442328, -0.14719204981239642]\n",
      "[-0.11349753975753774, -1.2804135239377628]\n",
      "[-0.35653329617550145, 0.7378723114581813]\n",
      "[-1.4677879158272058, -1.1559518491678031]\n",
      "[0.7460280835087345, -0.04572228801197564]\n",
      "[-0.7731191728953675, 1.3500552722302896]\n",
      "[1.0246875992722777, -0.9882327130773101]\n",
      "[-0.6175660388733883, 0.10396149921670128]\n",
      "[0.7907671409370884, 0.5321494252961636]\n",
      "[-0.8499827001747726, -1.396665463760025]\n",
      "[0.5902270908897225, 1.009503423455143]\n",
      "[0.6492312996098488, 1.1910296403495955]\n",
      "[-1.3427542314334509, -1.4860028017610754]\n",
      "[1.2864616569064506, -0.37606588955023046]\n",
      "[-0.23495180842405183, 1.4678718748962867]\n",
      "[0.506848366480428, -0.838296444146069]\n",
      "[0.9913519992852677, -0.9963513376412206]\n",
      "[-1.1769485142314957, -0.5185756015178659]\n",
      "[-0.8786420538799309, 0.12510796029263527]\n",
      "[-0.858660039919198, -0.4302710222445172]\n",
      "[-0.5512793359462611, -0.3324400213487164]\n",
      "[0.9452546748174191, 0.44983498656547183]\n",
      "[-0.8443174344801122, -0.5953972540599454]\n",
      "[-1.1945592303753396, 0.10854459087386203]\n",
      "[-0.9856226685954598, 1.3771041131335027]\n",
      "[0.5889460978336358, 0.5337015671555712]\n",
      "[-0.5038603579551494, 0.40606035504601024]\n",
      "[1.0546626374059302, -0.05360886303677814]\n",
      "[0.25511074324499594, -0.35288580109865686]\n",
      "[0.2624056422254992, 1.4651425930848347]\n",
      "[1.1903382790995276, -0.5734541139812102]\n",
      "[0.35929868547744226, -1.320230950320762]\n",
      "[-1.044988243823917, -0.886844009711469]\n",
      "[0.2942255658332562, 1.3376294920681313]\n",
      "[-0.6656206700755958, 0.4308062148162173]\n",
      "[1.4327025133720053, 0.4441392752388986]\n",
      "[1.0408045366303575, -0.5061891821907072]\n",
      "[1.2198961731272524, 0.49501805726534753]\n",
      "[0.6585066591749498, 0.32418959303287664]\n",
      "[-0.17291732959935402, -1.4818720207076472]\n",
      "[-0.9226036581671195, 0.4031008778217262]\n",
      "[-1.2247218227309924, 0.2778919536362685]\n",
      "[-0.791069615466344, -1.2655064591860814]\n",
      "[0.665021297280556, -0.7652251253124303]\n",
      "[-0.6439413299466261, -0.15518642289059326]\n",
      "[0.8438667762541181, -1.2599520843249594]\n",
      "[-0.9967018856693771, -0.17587178745797472]\n",
      "[0.7809733932289138, 0.9588114236390033]\n",
      "[-0.3557420649961245, 1.0621266309149453]\n",
      "[0.285550084796496, -1.0416038732338222]\n",
      "[-0.10904629589958637, -0.13919068239869747]\n",
      "[-1.2841810509584666, -1.0900309522107983]\n",
      "[-0.9311225562353309, -1.4614971832561094]\n",
      "[-0.02563884695123342, 1.2770732138116694]\n",
      "[-0.38056530690109547, -0.03134665695255667]\n",
      "[-0.2736372451856828, -1.3835193069471616]\n",
      "[0.19682577615296193, -0.9173153989847559]\n",
      "[1.2392579857612565, 0.6667358804176451]\n",
      "[0.5654681854288399, 0.589366236128761]\n",
      "[0.7069926168052509, -0.7729413924129557]\n",
      "[0.39285814106223604, 0.5292767963168639]\n",
      "[-0.7160079045868898, -0.13358768945339583]\n",
      "[0.3064479808138709, 1.35533473631601]\n",
      "[0.8129165565737888, 0.43319217216095596]\n",
      "[0.25848128588823016, 1.2029869499880443]\n",
      "[-0.2311654202828497, 0.9892486950800894]\n",
      "[1.4030502930254034, 0.4754581798609543]\n",
      "[-0.26517302351156835, 1.1292014105093608]\n",
      "[0.40854074595745704, 0.8300733446523685]\n",
      "[0.7461902173502493, 1.290050597823193]\n",
      "[1.4610764794438782, 0.9491681342957152]\n",
      "[0.5889501218014868, 0.07488596626018684]\n",
      "[-0.9880972316175411, -0.37604583383202494]\n",
      "[-0.9540470055651574, 1.3454499343835913]\n",
      "[-0.9430858745960702, -1.3230538051594256]\n",
      "[-0.7219442505475779, 1.2068198667082686]\n",
      "[0.3732643673389131, 1.1050859757460723]\n",
      "[-0.36681438703801694, -0.6697133914173595]\n",
      "[-0.06630864399982217, 0.5184137767672596]\n",
      "[0.7553960894468514, -1.4783200249376385]\n",
      "[-1.2094744471221786, 0.06700363289832767]\n",
      "[1.4606905273063004, 0.7840919107013002]\n",
      "[-0.488910095295946, -0.21163913600407103]\n",
      "[1.4983354057794167, 0.9505415761380722]\n",
      "[-0.3646929053036334, -1.3282753681695822]\n",
      "[-1.1994679122473748, -0.1292422219244802]\n",
      "[1.1639116538696834, -1.0834109181386138]\n",
      "[-0.6615974094481334, 0.5977938641184508]\n",
      "[0.3550550867509443, 0.4766283155199824]\n",
      "[-0.9361951946512812, 1.4585442164109628]\n",
      "[-1.4501090876658866, -0.41938316359889916]\n",
      "[-0.5234244016275685, -0.1670815221914954]\n",
      "[0.33777703629345535, -1.2558923062309484]\n",
      "[1.2925335126248427, 1.460614390485115]\n",
      "[0.7028332289649217, -0.6184110803788796]\n",
      "[0.060163286542162187, 0.2156778749420183]\n",
      "[-1.116415936546213, 0.8904622812663736]\n",
      "[0.14623998076959555, 1.1243573308021508]\n",
      "[-1.1529640745631933, 0.4879263313263933]\n",
      "[0.7597575622247876, 0.47923530712520335]\n",
      "[0.6472954682086804, -1.0192941666617217]\n",
      "[0.7989264714797848, -0.838871895093285]\n",
      "[1.19253265121433, -1.1307056695488908]\n",
      "[0.6762432193448866, -1.2286747367186743]\n",
      "[1.2953398654454666, 0.7990121600891835]\n",
      "[-0.36896903268619363, 0.6523282023437575]\n",
      "[0.42630660798583664, 0.18569983466523876]\n",
      "[-0.829347492923723, -1.1529301041891464]\n",
      "[0.7217436565205562, 1.3116319519614361]\n",
      "[-0.3967889220844776, 1.0599909271308547]\n",
      "[-1.4949645256072526, -1.3143451901511898]\n",
      "[1.4395484944514592, -0.541071032629589]\n",
      "[0.8896959079721722, 0.05925414704701515]\n",
      "[-0.31406284848179267, 0.11487882999394872]\n",
      "[1.3286697260325449, 1.0116499636822391]\n",
      "[0.3043962407870475, -1.06238790421799]\n",
      "[0.6089004285859434, 0.2966409248144779]\n",
      "[-1.1296079619202195, 1.4905458133146747]\n",
      "[0.986061913126075, -0.01492342446382855]\n",
      "[1.443428385485936, -0.500566359921495]\n",
      "[0.6979743078596794, 0.931255956554526]\n",
      "[1.0962956870206906, -0.9629393028442833]\n",
      "[1.453168626465175, 0.47775093270189384]\n",
      "[0.14382872862262053, -0.48776955703413205]\n",
      "[0.7731425551629671, -0.3268107159773288]\n",
      "[0.5891289470284535, -0.9147234700372369]\n",
      "[-1.1072979497145434, 0.7567994398909237]\n",
      "[1.0494291618744005, 0.6287625947015139]\n",
      "[-1.087317121582842, 0.5878665778586649]\n",
      "[-0.8455905809024326, 0.745147552989164]\n",
      "[0.6778725353510966, 0.2270462908286115]\n",
      "[-1.0571836223478068, 1.3511944632835808]\n",
      "[1.2779560101702399, -1.211856804290775]\n",
      "[-1.3425836536881288, 1.4408302794866676]\n",
      "[1.409180920166559, 0.380917639789367]\n",
      "[-0.7774337366973284, -0.03412231871434468]\n",
      "[0.4583909007579141, -0.37388507777788194]\n",
      "[0.47555655441309086, 0.833192433349947]\n",
      "[-0.674351879231628, 0.45958642166372266]\n",
      "[-1.2520890283126036, -0.03234467711874878]\n",
      "[-1.430919716056053, 0.2189457264695167]\n",
      "[0.7360778844629206, 0.8830311430889144]\n",
      "[0.433789946945093, -0.19903056401692298]\n",
      "[-1.309505096515235, 1.2266415699320392]\n",
      "[0.9386038117276558, -1.440760834653753]\n",
      "[0.9365887760390561, -0.034310212792493466]\n",
      "[0.6412473727500645, 0.8702030774586049]\n",
      "[1.3970431311111682, 1.1928068947194381]\n",
      "[-0.9601873307230177, 0.16416530565692944]\n",
      "[-1.1135520284977327, -0.8813102993523965]\n",
      "[1.0543503184557421, -1.3949841614527185]\n",
      "[-0.40932107792177463, 0.13328145082898102]\n",
      "[-1.4997433070465087, -0.5982000668458732]\n",
      "[0.8484054720415952, 0.47747273446848393]\n",
      "[0.5853044833154089, 0.0679987798061179]\n",
      "[0.11462846049495812, -0.8704814831630073]\n",
      "[-0.7886989331975444, -0.93577904682605]\n",
      "[1.3722687840657235, 0.30643316102185736]\n",
      "[-1.1145236552706868, 0.3669382279071587]\n",
      "[-0.35465306081394266, 1.210979800596521]\n",
      "[-0.7374618200244233, -0.22396990790517668]\n",
      "[-1.2883258619255977, 0.6980246961727667]\n",
      "[-0.9221177388479196, -0.38357322148288464]\n",
      "[0.31483407685256903, -0.2409405822701498]\n",
      "[-0.19911860572676598, -1.4222704105671267]\n",
      "[-1.1261363283216173, -1.1700296025578847]\n",
      "[0.4205324669698063, -0.4115415459294902]\n",
      "[1.1065661117009227, -0.8227035938133272]\n",
      "[1.406320457657253, -0.3641029458094496]\n",
      "[-0.972805883143641, 0.684982244868098]\n",
      "[-0.031144199620025903, 0.08688035642132608]\n",
      "[0.15462669590981193, 0.3224008329003931]\n",
      "[1.3395309169264045, -0.3313100074081312]\n",
      "[1.4040008512604398, 0.09504641335468778]\n",
      "[-0.06941439377568415, -1.117283390632398]\n",
      "[-1.0335261525758446, -1.1208949206172645]\n",
      "[-1.3414061236729853, 0.676257818323228]\n",
      "[-0.7526651171248729, 0.32610897164591557]\n",
      "[1.4587388266772345, 0.8954066962450549]\n",
      "[-0.2167047518358829, 1.325031028355661]\n",
      "[-0.5844377062700262, 1.0737644229890915]\n",
      "[-0.5617892627735674, -1.2295782200691847]\n",
      "[1.3346008455820444, -1.0046606233272695]\n",
      "[0.16247932455515124, -0.021448400430077896]\n",
      "[-0.22804912901595875, 0.026047086695762278]\n",
      "[0.0450344611359057, 1.4938632773631997]\n",
      "[-0.28358564494773186, 0.3488598210405707]\n",
      "[0.6424802189688137, 0.607775141320932]\n",
      "[0.7169494553172759, 1.3526051697237556]\n",
      "[0.08433425465400735, 0.3275808254410917]\n",
      "[0.5235665052425569, 1.1457916966910013]\n",
      "[-1.2746328778479041, 1.018226805328998]\n",
      "[-0.2318331935515734, -0.3627157024185963]\n",
      "[1.242135525026839, -0.750704329496777]\n",
      "[-1.1464037979379729, -0.602466021110311]\n",
      "[0.7140771664196945, 0.20652583376217204]\n",
      "[1.2993343314335108, 0.42892090638419256]\n",
      "[-0.11082905771224416, 0.35324607450556256]\n",
      "[0.3465907453079642, -0.5143445961546008]\n",
      "[1.1705888298697826, -0.9415268808141035]\n",
      "[-0.023861642236759684, -1.2457686618917458]\n",
      "[-1.128472054456716, -0.03776353582194947]\n",
      "[-0.8217143013172149, -0.31392352191412165]\n",
      "[-0.9534538789892038, 0.9346315622958916]\n",
      "[1.0180723839854458, -1.0144970981804788]\n",
      "[-0.42228976152294306, 1.111542210934]\n",
      "[-1.3792310774248766, -0.31636198413992456]\n",
      "[-1.0190624967320678, -0.9030242275809682]\n",
      "[-0.702601139572435, -0.23671403179166117]\n",
      "[0.6429628758303965, -0.5253369044268899]\n",
      "[0.005575747623917771, 1.2706837521916596]\n",
      "[-1.1708016479534227, -1.176361245079794]\n",
      "[2.794272801587283e-06, 0.802154854337223]\n",
      "[-0.4735770054981474, 1.4293155803625321]\n",
      "[-0.6316001128653431, -0.042212268353666094]\n",
      "[-1.042512825222718, 0.03371950656608269]\n",
      "[1.0925004168643961, 1.4827711813365467]\n",
      "[-0.9047626225525255, 0.6193826969575191]\n",
      "[0.007001830885569049, -0.9564352514892299]\n",
      "[0.40343157534434093, -0.81184742330474]\n",
      "[1.4711963875333378, 1.2872949945824397]\n",
      "[-1.227193708769602, -1.3471339036445473]\n",
      "[0.39992992535511407, -0.8057170535227232]\n",
      "[0.0295910781712716, 0.43161946650569494]\n",
      "[-0.6583321777805968, -0.4469264586660504]\n",
      "[-1.3573308173920595, -1.3773326128601449]\n",
      "[-0.8640673469308698, -0.08382550745846329]\n",
      "[-0.9454799908638811, 1.3449845572848544]\n",
      "[-1.2093383371320172, -1.4590152498417757]\n",
      "[-0.5063647994271956, 0.7238763081290256]\n",
      "[0.08658619086549724, -0.3852231449279442]\n",
      "[-0.34785193009902926, 1.1615813994340343]\n",
      "[-1.1389369582897664, 0.2596843682601342]\n",
      "[-0.9286991985232943, 0.6139801616766256]\n",
      "[0.13973706854157952, -0.4713060937491864]\n",
      "[-0.8940026491830301, 0.6623083983437499]\n",
      "[0.15148704599447083, -0.7424234772118931]\n",
      "[1.2204445427733521, 1.4253784719259932]\n",
      "[0.6519776236436279, 1.2325475387899374]\n",
      "[1.2939969812134855, 0.01160828301798933]\n",
      "[0.5901186831478835, -1.1131972903835097]\n",
      "[0.8831711405323595, 0.5814100024891848]\n",
      "[0.554082837681543, 1.1107671599124598]\n",
      "[0.7521833742248645, -0.34754874045032436]\n",
      "[-0.6855174331309366, -0.9478009789377331]\n",
      "[0.5901652427508233, 1.1374650507113477]\n",
      "[0.6232620638738386, 0.07521960717815057]\n",
      "[0.624764113169491, 0.15645276276253295]\n",
      "[-0.7853496754502514, -1.3827279737677722]\n",
      "[1.2817438721575898, -0.6886954335857294]\n",
      "[-0.7529757770254555, 0.9702308001363065]\n",
      "[-0.4576143033947897, 0.315478607391237]\n",
      "[0.6163851518329917, 0.14782521718825792]\n",
      "[0.33444610152159626, -0.5260945785359753]\n",
      "[0.9717953582588539, -0.8421612218660862]\n",
      "[1.4148141149201652, 0.11216608414018703]\n",
      "[0.8415395598842474, -1.1806718024029839]\n",
      "[0.4614741561713478, 1.1100773653290337]\n",
      "[0.9505410889279444, -0.8380828874350409]\n",
      "[0.9231988830466866, 0.7586930929600464]\n",
      "[0.6788583718367716, -0.39407997991887833]\n",
      "[-0.9554593683915562, -0.9449159320682738]\n",
      "[-0.028444850220790796, 0.6884399767310909]\n",
      "[-1.0112440537232226, -0.966797192003596]\n",
      "[-1.2916376409637402, -1.2838539311350503]\n",
      "[1.4111563951336805, -1.199298604034478]\n",
      "[0.9239781799567162, 0.3098805494546131]\n",
      "[0.9796867448140394, 0.7903372682001546]\n",
      "[-0.7549711666229898, -1.2492133617179884]\n",
      "[-1.4595092879444267, 1.3990822883560394]\n",
      "[0.7083945308235737, -0.4848302486675933]\n",
      "[-0.058723708398526586, 0.1885537034062359]\n",
      "[-0.5047310409193849, -1.036460029099684]\n",
      "[0.38245755904047707, -1.1307734544305228]\n",
      "[-0.60978452632056, 0.03462724878915102]\n",
      "[1.2365008866260814, -1.4279973903296486]\n",
      "[0.4660937924723223, -0.8223468231776898]\n",
      "[1.1526717405360456, 0.9683546103897984]\n",
      "[-1.169593038606887, -1.1947912360027475]\n",
      "[0.3470903039066071, -1.144947088647779]\n",
      "[1.1867594728621875, 0.31351914594552577]\n",
      "[0.29883445459676095, 0.5382999351302802]\n",
      "[-0.5953086996505054, 0.9526876349822926]\n",
      "[1.248703066242876, 0.4851951458106747]\n",
      "[0.6339200466577011, -1.270891522120175]\n",
      "[-1.0540711556870335, 0.4675623658282104]\n",
      "[0.6640303909074676, 0.8566382820086011]\n",
      "[0.23352863849967287, 1.3787559433290602]\n",
      "[1.4843150480285825, -0.9543829910262956]\n",
      "[-0.22850379017095568, 0.5802625039111566]\n",
      "[-0.49960456479591286, 0.9064227851636018]\n",
      "[-0.24402110540853617, -0.008693116782295007]\n",
      "[0.9642125941093527, -0.3461182396795366]\n",
      "[0.2336293185485725, 0.5804968583127579]\n",
      "[-0.7944207930182793, -1.491401682720788]\n",
      "[0.1751234041286931, 1.3728473141847402]\n",
      "[-0.4519573965476782, 1.0462544973789702]\n",
      "[-0.6159081356140589, -1.0675792730915772]\n",
      "[1.2388617266955295, -0.7725077745898657]\n",
      "[-1.0865960616491184, 1.3861559561441998]\n",
      "[-1.4209593527885707, 1.3947395777264702]\n",
      "[0.48824196118728236, -1.278689113032224]\n",
      "[-1.4094428089211881, -0.40426734519129637]\n",
      "[0.20754946390691353, 0.941133776675795]\n",
      "[0.7306738154615249, 0.744321372973547]\n",
      "[-0.2654325502539261, -0.4879890283054047]\n",
      "[-0.6396927883192899, -1.0323379920422853]\n",
      "[0.7533987873847829, 0.009886268385100205]\n",
      "[0.5397106322998244, 1.1279295411921257]\n",
      "[1.2574506902411238, 0.005617312476797753]\n",
      "[-1.0295980884471327, 1.4193669876144046]\n",
      "[-1.124599931915073, -0.8644072696476636]\n",
      "[-0.9489186818337824, 0.7379872123000188]\n",
      "[0.9496765067970738, -0.09469171291404388]\n",
      "[0.9817610393569631, -1.0055269214211782]\n",
      "[-0.9158082320559123, -1.1747973537951695]\n",
      "[1.0398278236867116, -1.4158534205064943]\n",
      "[-1.3040424985011683, 0.29133226747014374]\n",
      "[0.15507413152737737, 0.41516688307826]\n",
      "[1.4299894400713464, 0.19439043950009038]\n",
      "[-1.3629581619490185, -0.5562591233876887]\n",
      "[-0.43005256909848555, -0.6527934605165047]\n",
      "[0.7555268121654084, 0.6770643745922436]\n",
      "[-1.2078604922148992, -0.2781403162365146]\n",
      "[0.9224829996018151, -1.0494400257538563]\n",
      "[0.25907461051968506, 1.0560812883989872]\n",
      "[-0.11068133088753718, 1.1556116184432668]\n",
      "[1.1532062042276676, 0.9224281016318439]\n",
      "[-1.0168589206021288, 1.391002077645508]\n",
      "[0.4541847450275811, 1.2906816103004561]\n",
      "[-0.48293787335958527, -0.4190509328960459]\n",
      "[1.1720397929719644, 0.8225250024245709]\n",
      "[0.3311616988527115, -1.2750051328983385]\n",
      "[-0.007431527285143069, 0.9141793328883145]\n",
      "[0.1414081573680117, 1.4068413555037163]\n",
      "[-1.217658017840806, -0.5588438994500572]\n",
      "[-0.6596480330114449, -0.4100152026108992]\n",
      "[0.8158215312825399, -0.7261677014944709]\n",
      "[1.1299736077050575, 0.4508762491679361]\n",
      "[0.20620034981352808, -1.3812220760403848]\n",
      "[1.0710028771985356, 1.251420349193769]\n",
      "[1.0345069309614279, 1.356134876168789]\n",
      "[0.017827289926088064, -0.7115177018029554]\n",
      "[0.3618411714754617, 0.4316003558872341]\n",
      "[0.9637051052033989, -1.4761711622499925]\n",
      "[-1.0253825879812155, -0.3021587389596734]\n",
      "[-0.11316428327968953, -1.2194906395166079]\n",
      "[1.2003795463954599, -0.1054410090494371]\n",
      "[1.2523810556429953, 1.2674722462209655]\n",
      "[-0.5138380885614858, -0.548145413195561]\n",
      "[0.606872515558111, -0.0713415939883939]\n",
      "[-1.0327766474664135, -0.09009736451103256]\n",
      "[-1.4060302379471645, 0.30323224010032845]\n",
      "[-0.4155217232653694, -0.2096707825684363]\n",
      "[1.1040618052246285, 1.357935028343269]\n",
      "[0.4070618788027529, -1.2492261497287922]\n",
      "[-0.6049895910819795, 0.63662010695236]\n",
      "[0.5089331990422319, -0.7216583225709585]\n",
      "[1.204925211411736, -0.4739425563059949]\n",
      "[-0.4521712226731709, -0.24269676622095915]\n",
      "[-1.0179325200858007, 0.5900702574130294]\n",
      "[-0.3325860986929605, -1.4702054732834897]\n",
      "[-1.2665738599883687, 0.5038874651153984]\n",
      "[1.4591038411148745, 1.3169071763982605]\n",
      "[-0.550454131941793, -1.0484811612255625]\n",
      "[1.0929040457995498, -1.159179371773821]\n",
      "[0.062075094631746985, -1.4889693262821748]\n",
      "[-1.122848384805924, -0.15201404752769188]\n",
      "[-0.8441316840266989, 1.4370959666592689]\n",
      "[-1.0016969159034634, -0.3673302855460956]\n",
      "[1.4152335154927127, 0.23050928760553413]\n",
      "[-1.4514261938196913, 1.1899647408790606]\n",
      "[0.5979514382585283, 0.44673503188151464]\n",
      "[-0.4433663376826229, 0.12740104852279677]\n",
      "[-1.1598600016605367, -0.9725585849846103]\n",
      "[0.2846754304168475, 0.1282886364134288]\n",
      "[0.5656519684258514, -0.18751898480712104]\n",
      "[1.275406790656211, 1.070991801453197]\n",
      "[-1.188563881301032, 0.44887375868320056]\n",
      "[-0.010785212741561079, 0.7551802759727617]\n",
      "[-0.16768993057247616, 0.24370074583300871]\n",
      "[-0.23807742718150204, -0.8313618873757068]\n",
      "[-0.9133192854447075, -0.09127727261443086]\n",
      "[1.24208795571209, -0.2611957734526644]\n",
      "[0.7234591706650377, -1.4771845950271905]\n",
      "[-0.649186731853877, 1.1388214824799112]\n",
      "[0.8854146281481765, -0.2558504267044186]\n",
      "[-0.2563300199953926, -1.453409805307236]\n",
      "[0.9501210343606004, 0.9601031707505605]\n",
      "[1.3774817788344795, 1.4784873745594846]\n",
      "[-0.9220187898814401, 0.43330307438934734]\n",
      "[0.2335608473964581, -1.113388606770522]\n",
      "[-0.9788481875556928, 1.2125141170201807]\n",
      "[-1.2012662281835484, 0.9035159228666934]\n",
      "[0.8528438819649553, 1.0290921798833876]\n",
      "[0.15871652571230754, 1.346100911253794]\n",
      "[-0.18773688350160156, 0.38668237857592613]\n",
      "[0.6227277415321577, 1.2617831820040912]\n",
      "[0.7270188719221018, -1.108355954660158]\n",
      "[-0.42563594460736587, -0.7808343473258008]\n",
      "[0.10625166089363658, -0.7642367468853457]\n",
      "[0.8111747561502396, 0.47777308639322635]\n",
      "[0.382314026872981, 0.41515970941181113]\n",
      "[-0.12261682911517413, 0.28768332576791167]\n",
      "[1.1838143657288183, -1.2216685769547206]\n",
      "[1.0149476500147383, -0.3275993741898602]\n",
      "[-1.2792720909450066, 1.377651519157352]\n",
      "[-0.3742368916486165, -0.5592451922546672]\n",
      "[-0.9605806924680999, -1.4695791251144223]\n",
      "[0.31996457699259206, -1.4056485790638522]\n",
      "[-0.04826702188888099, 0.34201498925669904]\n",
      "[0.7250904870294264, 1.2797495377419952]\n",
      "[-1.4308854747266715, 0.03523416282894387]\n",
      "[-1.155634629013262, -0.8491266437732218]\n",
      "[0.6832316970438148, 1.319544310716843]\n",
      "[1.3596880829029492, -0.4543398609440721]\n",
      "[0.7355833681451918, -0.012594883827969916]\n",
      "[-0.9208372849950236, -0.9811214536903105]\n",
      "[-0.6567517080484786, -0.32152222611990755]\n",
      "[-0.5652446113753369, 0.8822985784522848]\n",
      "[1.1485720004027575, -0.2287880346999367]\n",
      "[0.3687328869303861, 0.3218869503523223]\n",
      "[-0.3781185396486224, 0.39809540255386433]\n",
      "[-1.398719967348186, 0.03407043039195945]\n",
      "[0.9800592558961827, 0.4352939117784369]\n",
      "[-1.4101801488999288, -0.9602872920995849]\n",
      "[-0.4267664496902046, -1.282079006392118]\n",
      "[0.8385436605167289, -1.1330891845457334]\n",
      "[-0.5133918326994982, -0.10387011839145632]\n",
      "[0.18492175041664716, -0.34322735033301455]\n",
      "[-1.1912394189620308, -0.6658545944929357]\n",
      "[1.0797379166933512, -1.275527412281594]\n",
      "[0.7686036102892211, -0.546650115846221]\n",
      "[0.9081755763426629, -0.004047094729725309]\n",
      "[-1.1277219626430026, -0.9865808128990828]\n",
      "[0.22924145358656411, -0.6448892574495907]\n",
      "[1.4638642967785969, 1.234929430375364]\n",
      "[-0.29156763023864807, 1.1874885752827002]\n",
      "[0.4343269992531602, -1.2916376560205216]\n",
      "[0.6697610087915868, -0.6759793612989117]\n",
      "[0.16935060414552883, -0.5604760163913981]\n",
      "[0.5893708165876603, -0.13625477641813566]\n",
      "[-1.1357611601857327, -0.37828175117737617]\n",
      "[-1.3564972842010141, -1.468811918674385]\n",
      "[0.5627967355605965, -0.19295261294377042]\n",
      "[1.2068294542792883, -0.39336140119699525]\n",
      "[1.3023310681039373, 1.1040446173956466]\n",
      "[-1.167589208900853, 1.341434582418727]\n",
      "[0.33825189899566377, 0.9374565790494485]\n",
      "[-1.0867100227597386, -0.11791871220093775]\n",
      "[0.7591044809847389, 1.1633952375535745]\n",
      "[-0.15966077890466357, -1.1328800725542671]\n",
      "[0.4838069265359004, 1.4290483582140863]\n",
      "[-0.8225084448203587, -0.7085638992592251]\n",
      "[0.17554570366908795, 1.118616996162599]\n",
      "[-0.8823262968294681, -1.2659498138320955]\n",
      "[-1.4606156795360383, -0.8515935957100158]\n",
      "[-1.1863958461482047, -0.8740156259984805]\n",
      "[1.075376502723076, 0.7814638751234417]\n",
      "[-1.0380032245559923, 0.013534227885167338]\n",
      "[-0.4090686503296552, 1.4251940500534745]\n",
      "[0.8400631785438559, -0.9361395820534384]\n",
      "[-0.5785596605056244, 1.1094941402355345]\n",
      "[1.128588708650471, 0.7350779796436244]\n",
      "[-0.9389107018689066, -1.4142412511354592]\n",
      "[-0.7032638240234661, 1.2807831589200553]\n",
      "[-1.0481398612947466, 0.006571175847539745]\n",
      "[-0.6822333998282103, -1.206561907027638]\n",
      "[-0.23223488344404952, -0.6179823162529702]\n",
      "[0.08868826048332745, -0.0191513184021761]\n",
      "[0.43903457184756345, 1.3769151518735914]\n",
      "[-1.3929361274414398, -0.701465266076465]\n",
      "[-0.8206049528136787, 0.36066222264272585]\n",
      "[-1.19608718410384, 0.7017731180206384]\n",
      "[-0.8828838727393201, 0.8571829543316842]\n",
      "[0.28894019025516404, 0.7016468123295949]\n",
      "[0.6014136811074242, -0.06972501265054776]\n",
      "[-0.78414154417293, -0.5546625029718321]\n",
      "[1.199607665580876, -1.07449903423541]\n",
      "[-0.49783755047261313, -0.967454843795951]\n",
      "[0.5376088267623054, 1.0592690037876489]\n",
      "[0.24947657438382054, -0.03507797703403526]\n",
      "[0.9567793164564105, 0.20180019021137596]\n",
      "[0.0758075528550104, -0.9980857874082222]\n",
      "[-0.5861931859576863, 0.7085593864845636]\n",
      "[1.4693793552901235, -0.7279814631475094]\n",
      "[-1.4593168386574953, -0.4421208657070841]\n",
      "[0.8235788866267431, 1.070868481661254]\n",
      "[-1.1617167978747762, 0.5573524725282688]\n",
      "[1.4359123127978801, 1.068796572541943]\n",
      "[-0.006503305638477119, -0.7668965851310449]\n",
      "[-0.42174021438566944, 0.7330953573273264]\n",
      "[0.4162012586280326, 1.396359181566325]\n",
      "[1.1976641471473224, -0.15219195960465837]\n",
      "[-0.7040720006005318, 0.5371990877876813]\n",
      "[-0.24811714264899898, 1.4818311246390743]\n",
      "[0.06023319889237655, -0.47017667068157576]\n",
      "[-0.1349169783295152, 1.4044591067550831]\n",
      "[1.408409670181607, -0.0032189430169831112]\n",
      "[-1.049316744733166, 1.400014406959305]\n",
      "[-0.5890632013941229, -0.6352201387744437]\n",
      "[-1.377140718311251, -0.6509481036930398]\n",
      "[-0.5825354977304436, -0.20903151440049328]\n",
      "[-0.7456996112081681, -0.44934529337163065]\n",
      "[0.49597799685279176, 0.806656134741361]\n",
      "[-0.6879933146541363, 1.487742768221791]\n",
      "[-1.2578461850255276, -0.8434267036884275]\n",
      "[0.9351272660158632, 0.4111339461708252]\n",
      "[-1.2055839100547066, -0.7162172663168433]\n",
      "[0.19172283491081576, 0.5367696332022338]\n",
      "[0.5499635510368721, -0.9014800060535868]\n",
      "[-0.5968132025376837, -1.2432062186896622]\n",
      "[0.13749202750710032, -0.37210216859566314]\n",
      "[-1.084170374425395, -0.17429600594639671]\n",
      "[0.6377955158999336, -0.09486337704523273]\n",
      "[-0.26922412675729435, -1.416981184946933]\n",
      "[-0.2372441346549472, 0.7675693662595506]\n",
      "[-0.7720630337225851, 0.03662038683394675]\n",
      "[0.19672380114656463, -0.6199704396679399]\n",
      "[-0.2911736219358616, -1.4821414620546742]\n",
      "[-0.11933774115447626, -1.3369612972887066]\n",
      "[0.4496398219551647, -0.4995496363712917]\n",
      "[-0.05559629893467788, -0.5060772106577279]\n",
      "[0.5232389981483117, 0.7180902671132543]\n",
      "[-1.0675442987222394, 0.7212723560768017]\n",
      "[0.5270422840044229, 1.0567670871639732]\n",
      "[1.4674758896946432, -1.4806475980814509]\n",
      "[-1.1558734089029867, -1.4998928646812868]\n",
      "[-1.2094090898214414, -0.8871190375773531]\n",
      "[-0.16855237504734344, -1.3330405147512756]\n",
      "[1.4480887990603728, 0.9608128719388214]\n",
      "[0.9650593760481487, 0.5439613410636004]\n",
      "[-0.2029389035795699, 0.40859149444828624]\n",
      "[0.4723960885557954, -0.9876735245097803]\n",
      "[-0.07152480303198572, -0.6298914338026415]\n",
      "[-0.02110759092853809, 0.5030989782925248]\n",
      "[-1.1779924825438033, -0.24931059449552917]\n",
      "[-0.1287531602354388, 0.19262725240206846]\n",
      "[0.43532696330001164, 1.1796629203228228]\n",
      "[1.2211753060235129, 1.388389575614859]\n",
      "[-0.669287882541417, 1.4452610572795836]\n",
      "[0.009616863968524125, -0.45349775472542975]\n",
      "[-1.3117026871182724, 0.4677577425107966]\n",
      "[-0.4821267695840805, 0.6455469993948313]\n",
      "[0.7878227604577828, -0.5912103446540922]\n",
      "[0.43540201672340895, -0.37043179655324643]\n",
      "[0.22811686341092385, 1.2822367364238252]\n",
      "[-1.1117340915403804, -0.5277701633680144]\n",
      "[0.3524250722651092, -0.2886784434116638]\n",
      "[-1.0224609770244886, -1.210378676684328]\n",
      "[-0.07076098046468093, 0.7797278441086686]\n",
      "[0.6979411571235565, -0.7901484421171592]\n",
      "[1.1774185534734305, 0.7674416223165332]\n",
      "[0.3357108738381529, -1.1565786517243475]\n",
      "[0.7900558495742551, 0.31959990332932864]\n",
      "[-0.5365223562495188, 0.5961771782378023]\n",
      "[0.2213389848873366, -0.9007967145207983]\n",
      "[-0.6417320022248507, -0.8964217735345535]\n",
      "[0.9260166538507688, -0.9231125618662321]\n",
      "[0.5059747493909175, -0.8893811695298734]\n",
      "[-0.42131699380906684, -0.2759178898864607]\n",
      "[-0.94408693129507, 0.6899313470216901]\n",
      "[-0.011473591846148157, 0.9972087265731715]\n",
      "[-0.4436818430613312, 0.35543659105351]\n",
      "[-1.2985359630239444, -0.2174647534160905]\n",
      "[-1.265568581360749, 0.847162072000955]\n",
      "[-0.8082794833597765, 0.3044687555850598]\n",
      "[1.3218525563902364, 1.2668199873301798]\n",
      "[-1.2961415453454288, 1.1144200077175275]\n",
      "[0.2260676229312657, 1.05958564991712]\n",
      "[-0.30234102267075524, -1.3300554034275947]\n",
      "[-0.08706388018443723, 1.2521740120262042]\n",
      "[-0.4858642722352067, -0.7173566847925354]\n",
      "[-1.0821341156013315, 0.14126204289709854]\n",
      "[0.4900083820295227, 1.1348105384929887]\n"
     ]
    }
   ],
   "source": [
    "example_pop = toolbox.population(n=num_samples**NDIM)"
   ]
  },
  {
   "cell_type": "code",
   "execution_count": 54,
   "metadata": {
    "internals": {
     "frag_helper": "fragment_end",
     "frag_number": 11
    },
    "slideshow": {
     "slide_type": "-"
    }
   },
   "outputs": [],
   "source": [
    "for i, ind in enumerate(example_pop):\n",
    "    for j in range(len(flat)):\n",
    "        ind[j] = flat[j][i]"
   ]
  },
  {
   "cell_type": "code",
   "execution_count": 55,
   "metadata": {
    "internals": {
     "frag_helper": "fragment_end",
     "frag_number": 11,
     "slide_helper": "subslide_end"
    },
    "slide_helper": "slide_end",
    "slideshow": {
     "slide_type": "-"
    }
   },
   "outputs": [],
   "source": [
    "fitnesses = toolbox.map(toolbox.evaluate, example_pop)\n",
    "for ind, fit in zip(example_pop, fitnesses):\n",
    "    ind.fitness.values = fit"
   ]
  },
  {
   "cell_type": "markdown",
   "metadata": {
    "internals": {
     "frag_helper": "fragment_end",
     "frag_number": 11,
     "slide_type": "subslide"
    },
    "slideshow": {
     "slide_type": "slide"
    }
   },
   "source": [
    "We also need `a_given_individual`."
   ]
  },
  {
   "cell_type": "code",
   "execution_count": 56,
   "metadata": {
    "internals": {
     "frag_helper": "fragment_end",
     "frag_number": 11
    },
    "slideshow": {
     "slide_type": "-"
    }
   },
   "outputs": [
    {
     "name": "stdout",
     "output_type": "stream",
     "text": [
      "[1.3439927897719186, 1.2129715966433667]\n"
     ]
    }
   ],
   "source": [
    "a_given_individual = toolbox.population(n=1)[0]\n",
    "a_given_individual[0] = 0.5\n",
    "a_given_individual[1] = 0.5"
   ]
  },
  {
   "cell_type": "code",
   "execution_count": 57,
   "metadata": {
    "internals": {
     "frag_helper": "fragment_end",
     "frag_number": 11,
     "slide_helper": "subslide_end"
    },
    "slide_helper": "slide_end",
    "slideshow": {
     "slide_type": "-"
    }
   },
   "outputs": [],
   "source": [
    "a_given_individual.fitness.values = toolbox.evaluate(a_given_individual)"
   ]
  },
  {
   "cell_type": "markdown",
   "metadata": {
    "internals": {
     "frag_helper": "fragment_end",
     "frag_number": 11,
     "slide_type": "subslide"
    },
    "slideshow": {
     "slide_type": "slide"
    }
   },
   "source": [
    "Implementing the Pareto dominance relation between two individulas."
   ]
  },
  {
   "cell_type": "code",
   "execution_count": 58,
   "metadata": {
    "internals": {
     "frag_helper": "fragment_end",
     "frag_number": 11
    },
    "slideshow": {
     "slide_type": "-"
    }
   },
   "outputs": [],
   "source": [
    "def pareto_dominance(ind1,ind2):\n",
    "    'Returns `True` if `ind1` dominates `ind2`.'\n",
    "    extrictly_better = False\n",
    "    for item1 in ind1.fitness.values:\n",
    "        for item2 in ind2.fitness.values:\n",
    "            if item1 > item2:\n",
    "                return False\n",
    "            if not extrictly_better and item1 < item2:\n",
    "                extrictly_better = True\n",
    "    return extrictly_better"
   ]
  },
  {
   "cell_type": "markdown",
   "metadata": {
    "internals": {
     "frag_helper": "fragment_end",
     "frag_number": 11,
     "slide_helper": "subslide_end"
    },
    "slide_helper": "slide_end",
    "slideshow": {
     "slide_type": "-"
    }
   },
   "source": [
    "*Note:* Bear in mind that DEAP comes with a Pareto dominance relation that probably is more efficient than this implementation.\n",
    "```python\n",
    "def pareto_dominance(x,y):\n",
    "    return tools.emo.isDominated(x.fitness.values, y.fitness.values)\n",
    "```"
   ]
  },
  {
   "cell_type": "markdown",
   "metadata": {
    "internals": {
     "frag_helper": "fragment_end",
     "frag_number": 11,
     "slide_type": "subslide"
    },
    "slideshow": {
     "slide_type": "slide"
    }
   },
   "source": [
    "Lets compute the set of individuals that are `dominated` by `a_given_individual`, the ones that dominate it (its `dominators`) and the remaining ones."
   ]
  },
  {
   "cell_type": "code",
   "execution_count": 59,
   "metadata": {
    "internals": {
     "frag_helper": "fragment_end",
     "frag_number": 11,
     "slide_helper": "subslide_end"
    },
    "slide_helper": "subslide_end",
    "slideshow": {
     "slide_type": "-"
    }
   },
   "outputs": [],
   "source": [
    "dominated = [ind for ind in example_pop if pareto_dominance(a_given_individual, ind)]\n",
    "dominators = [ind for ind in example_pop if pareto_dominance(ind, a_given_individual)]\n",
    "others = [ind for ind in example_pop if not ind in dominated and not ind in dominators]"
   ]
  },
  {
   "cell_type": "code",
   "execution_count": 19,
   "metadata": {
    "internals": {
     "frag_helper": "fragment_end",
     "frag_number": 11,
     "slide_helper": "subslide_end",
     "slide_type": "subslide"
    },
    "slide_helper": "slide_end",
    "slideshow": {
     "slide_type": "subslide"
    }
   },
   "outputs": [],
   "source": [
    "def plot_dent():\n",
    "    'Plots the points in decision and objective spaces.'\n",
    "    plt.figure(figsize=(10,5))\n",
    "    plt.subplot(1,2,1)\n",
    "    for ind in dominators: plt.plot(ind[0], ind[1], 'r.')\n",
    "    for ind in dominated: plt.plot(ind[0], ind[1], 'g.')\n",
    "    for ind in others: plt.plot(ind[0], ind[1], 'k.', ms=3)\n",
    "    plt.plot(a_given_individual[0], a_given_individual[1], 'bo', ms=6);\n",
    "    plt.xlabel('$x_1$');plt.ylabel('$x_2$');\n",
    "    plt.title('Decision space');\n",
    "    plt.subplot(1,2,2)\n",
    "    for ind in dominators: plt.plot(ind.fitness.values[0], ind.fitness.values[1], 'r.', alpha=0.7)\n",
    "    for ind in dominated: plt.plot(ind.fitness.values[0], ind.fitness.values[1], 'g.', alpha=0.7)\n",
    "    for ind in others: plt.plot(ind.fitness.values[0], ind.fitness.values[1], 'k.', alpha=0.7, ms=3)\n",
    "    plt.plot(a_given_individual.fitness.values[0], a_given_individual.fitness.values[1], 'bo', ms=6);\n",
    "    plt.xlabel('$f_1(\\mathbf{x})$');plt.ylabel('$f_2(\\mathbf{x})$');\n",
    "    plt.xlim((0.5,3.6));plt.ylim((0.5,3.6));\n",
    "    plt.title('Objective space');\n",
    "    plt.tight_layout()"
   ]
  },
  {
   "cell_type": "markdown",
   "metadata": {
    "internals": {
     "frag_helper": "fragment_end",
     "frag_number": 11,
     "slide_type": "subslide"
    },
    "slideshow": {
     "slide_type": "slide"
    }
   },
   "source": [
    "Having `a_given_individual` (blue dot) we can now plot those that are dominated by it (in green), those that dominate it (in red) and those that are uncomparable."
   ]
  },
  {
   "cell_type": "code",
   "execution_count": 20,
   "metadata": {
    "internals": {
     "frag_helper": "fragment_end",
     "frag_number": 11,
     "slide_helper": "subslide_end"
    },
    "slide_helper": "slide_end",
    "slideshow": {
     "slide_type": "-"
    }
   },
   "outputs": [
    {
     "data": {
      "image/png": "[encoded data removed]",
      "text/plain": [
       "<Figure size 720x360 with 2 Axes>"
      ]
     },
     "metadata": {
      "image/png": {
       "height": 346,
       "width": 706
      }
     },
     "output_type": "display_data"
    }
   ],
   "source": [
    "plot_dent()"
   ]
  },
  {
   "cell_type": "markdown",
   "metadata": {
    "internals": {
     "frag_helper": "fragment_end",
     "frag_number": 11,
     "slide_type": "subslide"
    },
    "slideshow": {
     "slide_type": "slide"
    }
   },
   "source": [
    "Obtaining the nondominated front."
   ]
  },
  {
   "cell_type": "code",
   "execution_count": 21,
   "metadata": {
    "internals": {
     "frag_helper": "fragment_end",
     "frag_number": 11
    },
    "slideshow": {
     "slide_type": "-"
    }
   },
   "outputs": [],
   "source": [
    "non_dom = tools.sortNondominated(example_pop, k=len(example_pop), first_front_only=True)[0]"
   ]
  },
  {
   "cell_type": "code",
   "execution_count": 22,
   "metadata": {
    "internals": {
     "frag_helper": "fragment_end",
     "frag_number": 11,
     "slide_helper": "subslide_end"
    },
    "slide_helper": "slide_end",
    "slideshow": {
     "slide_type": "-"
    }
   },
   "outputs": [
    {
     "data": {
      "text/plain": [
       "Text(0.5, 1.0, 'Pareto-optimal front')"
      ]
     },
     "execution_count": 22,
     "metadata": {},
     "output_type": "execute_result"
    },
    {
     "data": {
      "image/png": "[encoded data removed]",
      "text/plain": [
       "<Figure size 360x360 with 1 Axes>"
      ]
     },
     "metadata": {
      "image/png": {
       "height": 320,
       "width": 318
      }
     },
     "output_type": "display_data"
    }
   ],
   "source": [
    "plt.figure(figsize=(5,5))\n",
    "for ind in example_pop:\n",
    "    plt.plot(ind.fitness.values[0], ind.fitness.values[1], 'k.', ms=3, alpha=0.5)\n",
    "for ind in non_dom:\n",
    "    plt.plot(ind.fitness.values[0], ind.fitness.values[1], 'bo', alpha=0.74, ms=5)\n",
    "plt.title('Pareto-optimal front')"
   ]
  },
  {
   "cell_type": "markdown",
   "metadata": {
    "internals": {
     "frag_helper": "fragment_end",
     "frag_number": 11,
     "slide_helper": "subslide_end",
     "slide_type": "subslide"
    },
    "slide_helper": "slide_end",
    "slideshow": {
     "slide_type": "slide"
    }
   },
   "source": [
    "# The Non-dominated Sorting Genetic Algorithm (NSGA-II)\n",
    "\n",
    "* NSGA-II algorithm is one of the pillars of the EMO field.\n",
    "    * Deb, K., Pratap, A., Agarwal, S., Meyarivan, T., *A fast and elitist multiobjective genetic algorithm: NSGA-II*, IEEE Transactions on Evolutionary Computation, vol.6, no.2, pp.182,197, Apr 2002 doi: [10.1109/4235.996017](http://dx.doi.org/10.1109/4235.996017).\n",
    "* Fitness assignment relies on the Pareto dominance relation:\n",
    "    1. Rank individuals according the dominance relations established between them. \n",
    "    2. Individuals with the same domination rank are then compared using a local crowding distance."
   ]
  },
  {
   "cell_type": "markdown",
   "metadata": {
    "internals": {
     "frag_helper": "fragment_end",
     "frag_number": 11,
     "slide_helper": "subslide_end",
     "slide_type": "subslide"
    },
    "slide_helper": "slide_end",
    "slideshow": {
     "slide_type": "slide"
    }
   },
   "source": [
    "## NSGA-II fitness in detail\n",
    "\n",
    "* The first step consists in classifying the individuals in a series of categories $\\mathcal{F}_1,\\ldots,\\mathcal{F}_L$. \n",
    "* Each of these categories store individuals that are only dominated by the elements of the previous categories,\n",
    "$$\n",
    "\\begin{array}{rl}\n",
    "\t\\forall \\vec{x}\\in\\set{F}_i: &\\exists \\vec{y}\\in\\set{F}_{i-1} \\text{ such that } \\vec{y}\\dom\\vec{x},\\text{ and }\\\\ \n",
    "\t                            &\\not\\exists\\vec{z}\\in \\set{P}_t\\setminus\\left( \\set{F}_1\\cup\\ldots\\cup\\set{F}_{i-1}\n",
    "\t                            \\right)\\text{ that }\\vec{z}\\dom\\vec{x}\\,;\n",
    "\\end{array}\n",
    "$$\n",
    "with $\\mathcal{F}_1$ equal to $\\mathcal{P}_t^\\ast$, the set of non-dominated individuals of $\\mathcal{P}_t$.\n",
    "\n",
    "* After all individuals are ranked a local crowding distance is assigned to them. \n",
    "* The use of this distance primes individuals more isolated with respect to others. "
   ]
  },
  {
   "cell_type": "markdown",
   "metadata": {
    "internals": {
     "frag_helper": "fragment_end",
     "frag_number": 11,
     "slide_helper": "subslide_end",
     "slide_type": "subslide"
    },
    "slide_helper": "slide_end",
    "slideshow": {
     "slide_type": "slide"
    }
   },
   "source": [
    "## Crowding distance\n",
    "\n",
    "The assignment process goes as follows,\n",
    "\n",
    "* for each category set $\\set{F}_l$, having $f_l=|\\set{F}_l|$,\n",
    "    * for each individual $\\vec{x}_i\\in\\set{F}_l$, set $d_{i}=0$.\n",
    "    * for each objective function $m=1,\\ldots,M$,\n",
    "        * $\\vec{I}=\\mathrm{sort}\\left(\\set{F}_l,m\\right)$ (generate index vector).\n",
    "        * $d_{I_1}^{(l)}=d_{I_{f_l}}^{(l)}=\\infty$.\n",
    "        * for $i=2,\\ldots,f_l-1$,\n",
    "            * Update the remaining distances as,\n",
    "                $$\n",
    "                d_i = d_i + \\frac{f_m\\left(\\vec{x}_{I_{i+1}}\\right)-f_m\\left(\\vec{x}_{I_{i+1}}\\right)}\n",
    "\t\t\t                   {f_m\\left(\\vec{x}_{I_{1}}\\right)-f_m\\left(\\vec{x}_{I_{f_l}}\\right)}\\,.\n",
    "                $$\n",
    "\n",
    "Here the $\\mathrm{sort}\\left(\\set{F},m\\right)$ function produces an ordered index vector $\\vec{I}$ with respect to objective function $m$. "
   ]
  },
  {
   "cell_type": "markdown",
   "metadata": {
    "internals": {
     "frag_helper": "fragment_end",
     "frag_number": 11,
     "slide_helper": "subslide_end",
     "slide_type": "subslide"
    },
    "slide_helper": "slide_end",
    "slideshow": {
     "slide_type": "slide"
    }
   },
   "source": [
    "Sorting the population by rank and distance.\n",
    "\n",
    "* Having the individual ranks and their local distances they are sorted using the crowded comparison operator, stated as: \n",
    "    * An individual $\\vec{x}_i$ _is better than_ $\\vec{x}_j$ if:\n",
    "        * $\\vec{x}_i$ has a better rank: $\\vec{x}_i\\in\\set{F}_k$, $\\vec{x}_j\\in\\set{F}_l$ and $k<l$, or;\n",
    "        * if $k=l$ and $d_i>d_j$.\n",
    "        \n",
    "**Now we have key element of the the non-dominated sorting GA.**"
   ]
  },
  {
   "cell_type": "markdown",
   "metadata": {
    "internals": {
     "frag_helper": "fragment_end",
     "frag_number": 11,
     "slide_helper": "subslide_end",
     "slide_type": "subslide"
    },
    "slide_helper": "slide_end",
    "slideshow": {
     "slide_type": "slide"
    }
   },
   "source": [
    "## Implementing NSGA-II\n",
    "\n",
    "We will deal with [DTLZ3](http://www.tik.ee.ethz.ch/sop/download/supplementary/testproblems/dtlz3/), which is a more difficult test problem.\n",
    "\n",
    "* DTLZ problems can be configured to have as many objectives as desired, but as we want to visualize results we will stick to two objectives.\n",
    "* DTLZ3 is a (more complex) version of [DTLZ2](http://www.tik.ee.ethz.ch/sop/download/supplementary/testproblems/dtlz2/).\n",
    "* The Pareto-optimal front of DTLZ3 lies in the first [orthant](http://en.wikipedia.org/wiki/Orthant) of a unit (radius 1) hypersphere located at the coordinate origin ($\\vec{0}$).\n",
    "* It has many local optima that run parallel to the global optima and render the optimization process more complicated.\n",
    "\n",
    "<div align='center'><img src='http://www.cs.cinvestav.mx/~emoobook/apendix-e/galeria4/dtlz3a.jpg' width=\"38%\" align='center'/>\n",
    "from Coello Coello, Lamont and Van Veldhuizen (2007) Evolutionary Algorithms for Solving Multi-Objective Problems, Second Edition. Springer [Appendix E](http://www.cs.cinvestav.mx/~emoobook/apendix-e/apendix-e.html).</div>"
   ]
  },
  {
   "cell_type": "markdown",
   "metadata": {
    "internals": {
     "frag_helper": "fragment_end",
     "frag_number": 11,
     "slide_type": "subslide"
    },
    "slideshow": {
     "slide_type": "slide"
    }
   },
   "source": [
    "New `toolbox` instance with the necessary components."
   ]
  },
  {
   "cell_type": "code",
   "execution_count": 23,
   "metadata": {
    "internals": {
     "frag_helper": "fragment_end",
     "frag_number": 11
    },
    "slideshow": {
     "slide_type": "-"
    }
   },
   "outputs": [],
   "source": [
    "toolbox = base.Toolbox()"
   ]
  },
  {
   "cell_type": "markdown",
   "metadata": {},
   "source": [
    "Define problem domain as $\\vec{x}\\in\\left[0,1\\right]^{30}$ and a two-objective DTLZ3 instance."
   ]
  },
  {
   "cell_type": "code",
   "execution_count": 24,
   "metadata": {
    "internals": {
     "frag_helper": "fragment_end",
     "frag_number": 11
    },
    "slideshow": {
     "slide_type": "-"
    }
   },
   "outputs": [],
   "source": [
    "NDIM = 30 \n",
    "BOUND_LOW, BOUND_UP = 0.0, 1.0\n",
    "toolbox.register(\"evaluate\", lambda ind: benchmarks.dtlz3(ind, 2))"
   ]
  },
  {
   "cell_type": "markdown",
   "metadata": {
    "internals": {
     "frag_helper": "fragment_end",
     "frag_number": 11
    },
    "slideshow": {
     "slide_type": "-"
    }
   },
   "source": [
    "Describing attributes, individuals and population and defining the selection, mating and mutation operators."
   ]
  },
  {
   "cell_type": "code",
   "execution_count": 25,
   "metadata": {
    "internals": {
     "frag_helper": "fragment_end",
     "frag_number": 11
    },
    "slideshow": {
     "slide_type": "-"
    }
   },
   "outputs": [],
   "source": [
    "toolbox.register(\"attr_float\", uniform, BOUND_LOW, BOUND_UP, NDIM)\n",
    "toolbox.register(\"individual\", tools.initIterate, creator.Individual, toolbox.attr_float)\n",
    "toolbox.register(\"population\", tools.initRepeat, list, toolbox.individual)\n",
    "toolbox.register(\"mate\", tools.cxSimulatedBinaryBounded, low=BOUND_LOW, up=BOUND_UP, eta=20.0)\n",
    "toolbox.register(\"mutate\", tools.mutPolynomialBounded, low=BOUND_LOW, up=BOUND_UP, eta=20.0, indpb=1.0/NDIM)\n",
    "toolbox.register(\"select\", tools.selNSGA2)"
   ]
  },
  {
   "cell_type": "markdown",
   "metadata": {
    "internals": {
     "frag_helper": "fragment_end",
     "frag_number": 11
    },
    "slideshow": {
     "slide_type": "-"
    }
   },
   "source": [
    "Let's also use the `toolbox` to store other configuration parameters of the algorithm. This will show itself usefull when performing massive experiments."
   ]
  },
  {
   "cell_type": "code",
   "execution_count": 26,
   "metadata": {
    "internals": {
     "frag_helper": "fragment_end",
     "frag_number": 11,
     "slide_helper": "subslide_end"
    },
    "slide_helper": "slide_end",
    "slideshow": {
     "slide_type": "-"
    }
   },
   "outputs": [],
   "source": [
    "toolbox.pop_size = 50\n",
    "toolbox.max_gen = 1000\n",
    "toolbox.mut_prob = 0.2"
   ]
  },
  {
   "cell_type": "markdown",
   "metadata": {
    "internals": {
     "frag_helper": "fragment_end",
     "frag_number": 11,
     "slide_type": "subslide"
    },
    "slideshow": {
     "slide_type": "slide"
    }
   },
   "source": [
    "## A compact NSGA-II implementation\n",
    "\n",
    "Storing all the required information in the `toolbox` and using DEAP's `algorithms.eaMuPlusLambda` function allows us to create a very compact -albeit not a 100% exact copy of the original- implementation of NSGA-II."
   ]
  },
  {
   "cell_type": "code",
   "execution_count": 27,
   "metadata": {
    "internals": {
     "frag_helper": "fragment_end",
     "frag_number": 11,
     "slide_helper": "subslide_end"
    },
    "slide_helper": "slide_end",
    "slideshow": {
     "slide_type": "-"
    }
   },
   "outputs": [],
   "source": [
    "def run_ea(toolbox, stats=None, verbose=False):\n",
    "    pop = toolbox.population(n=toolbox.pop_size)\n",
    "    pop = toolbox.select(pop, len(pop))\n",
    "    return algorithms.eaMuPlusLambda(pop, toolbox, mu=toolbox.pop_size, \n",
    "                                     lambda_=toolbox.pop_size, \n",
    "                                     cxpb=1-toolbox.mut_prob,\n",
    "                                     mutpb=toolbox.mut_prob, \n",
    "                                     stats=stats, \n",
    "                                     ngen=toolbox.max_gen, \n",
    "                                     verbose=verbose)"
   ]
  },
  {
   "cell_type": "markdown",
   "metadata": {
    "internals": {
     "frag_helper": "fragment_end",
     "frag_number": 11,
     "slide_type": "subslide"
    },
    "slideshow": {
     "slide_type": "slide"
    }
   },
   "source": [
    "## Running the algorithm"
   ]
  },
  {
   "cell_type": "markdown",
   "metadata": {
    "internals": {
     "frag_helper": "fragment_end",
     "frag_number": 11
    },
    "slideshow": {
     "slide_type": "-"
    }
   },
   "source": [
    "We are now ready to run our NSGA-II."
   ]
  },
  {
   "cell_type": "code",
   "execution_count": 28,
   "metadata": {
    "internals": {
     "frag_helper": "fragment_end",
     "frag_number": 11
    },
    "slideshow": {
     "slide_type": "-"
    }
   },
   "outputs": [
    {
     "name": "stdout",
     "output_type": "stream",
     "text": [
      "CPU times: user 7.74 s, sys: 26.2 ms, total: 7.77 s\n",
      "Wall time: 7.8 s\n"
     ]
    }
   ],
   "source": [
    "%time res,_ = run_ea(toolbox)"
   ]
  },
  {
   "cell_type": "markdown",
   "metadata": {
    "internals": {
     "frag_helper": "fragment_end",
     "frag_number": 11
    },
    "slideshow": {
     "slide_type": "-"
    }
   },
   "source": [
    "We can now get the Pareto fronts in the results (`res`)."
   ]
  },
  {
   "cell_type": "code",
   "execution_count": 29,
   "metadata": {
    "internals": {
     "frag_helper": "fragment_end",
     "frag_number": 11,
     "slide_helper": "subslide_end"
    },
    "slide_helper": "slide_end",
    "slideshow": {
     "slide_type": "-"
    }
   },
   "outputs": [],
   "source": [
    "fronts = tools.emo.sortLogNondominated(res, len(res))"
   ]
  },
  {
   "cell_type": "markdown",
   "metadata": {
    "internals": {
     "frag_helper": "fragment_end",
     "frag_number": 11,
     "slide_type": "subslide"
    },
    "slideshow": {
     "slide_type": "slide"
    }
   },
   "source": [
    "## Resulting Pareto fronts"
   ]
  },
  {
   "cell_type": "code",
   "execution_count": 30,
   "metadata": {
    "internals": {
     "frag_helper": "fragment_end",
     "frag_number": 11
    },
    "slideshow": {
     "slide_type": "-"
    }
   },
   "outputs": [
    {
     "data": {
      "image/png": "[encoded data removed]",
      "text/plain": [
       "<Figure size 288x288 with 1 Axes>"
      ]
     },
     "metadata": {
      "image/png": {
       "height": 268,
       "width": 276
      }
     },
     "output_type": "display_data"
    }
   ],
   "source": [
    "plot_colors = seaborn.color_palette(\"Set1\", n_colors=10)\n",
    "fig, ax = plt.subplots(1, figsize=(4,4))\n",
    "for i,inds in enumerate(fronts):\n",
    "    par = [toolbox.evaluate(ind) for ind in inds]\n",
    "    df = pd.DataFrame(par)\n",
    "    df.plot(ax=ax, kind='scatter', label='Front ' + str(i+1), \n",
    "                 x=df.columns[0], y=df.columns[1], \n",
    "                 color=plot_colors[i])\n",
    "plt.xlabel('$f_1(\\mathbf{x})$');plt.ylabel('$f_2(\\mathbf{x})$');"
   ]
  },
  {
   "cell_type": "markdown",
   "metadata": {
    "internals": {
     "frag_helper": "fragment_end",
     "frag_number": 11,
     "slide_helper": "subslide_end"
    },
    "slide_helper": "slide_end",
    "slideshow": {
     "slide_type": "-"
    }
   },
   "source": [
    "* It is better to make an animated plot of the evolution as it takes place."
   ]
  },
  {
   "cell_type": "markdown",
   "metadata": {
    "internals": {
     "frag_helper": "fragment_end",
     "frag_number": 11,
     "slide_type": "subslide"
    },
    "slideshow": {
     "slide_type": "slide"
    }
   },
   "source": [
    "## Animating the evolutionary process"
   ]
  },
  {
   "cell_type": "markdown",
   "metadata": {
    "internals": {
     "frag_helper": "fragment_end",
     "frag_number": 11
    },
    "slideshow": {
     "slide_type": "-"
    }
   },
   "source": [
    "We create a `stats` to store the individuals not only their objective function values."
   ]
  },
  {
   "cell_type": "code",
   "execution_count": 31,
   "metadata": {
    "internals": {
     "frag_helper": "fragment_end",
     "frag_number": 11
    },
    "slideshow": {
     "slide_type": "-"
    }
   },
   "outputs": [],
   "source": [
    "stats = tools.Statistics()\n",
    "stats.register(\"pop\", copy.deepcopy)"
   ]
  },
  {
   "cell_type": "code",
   "execution_count": 32,
   "metadata": {
    "internals": {
     "frag_helper": "fragment_end",
     "frag_number": 11
    },
    "slideshow": {
     "slide_type": "-"
    }
   },
   "outputs": [],
   "source": [
    "toolbox.max_gen = 1000 # we need more generations!"
   ]
  },
  {
   "cell_type": "markdown",
   "metadata": {
    "internals": {
     "frag_helper": "fragment_end",
     "frag_number": 11
    },
    "slideshow": {
     "slide_type": "-"
    }
   },
   "source": [
    "Re-run the algorithm to get the data necessary for plotting."
   ]
  },
  {
   "cell_type": "code",
   "execution_count": 33,
   "metadata": {
    "internals": {
     "frag_helper": "fragment_end",
     "frag_number": 11,
     "slide_helper": "subslide_end"
    },
    "slide_helper": "subslide_end",
    "slideshow": {
     "slide_type": "-"
    }
   },
   "outputs": [
    {
     "name": "stdout",
     "output_type": "stream",
     "text": [
      "CPU times: user 8.35 s, sys: 36.5 ms, total: 8.39 s\n",
      "Wall time: 8.43 s\n"
     ]
    }
   ],
   "source": [
    "%time res, logbook = run_ea(toolbox, stats=stats)"
   ]
  },
  {
   "cell_type": "code",
   "execution_count": 34,
   "metadata": {
    "internals": {
     "frag_helper": "fragment_end",
     "frag_number": 11,
     "slide_type": "subslide"
    },
    "slideshow": {
     "slide_type": "subslide"
    }
   },
   "outputs": [],
   "source": [
    "from matplotlib import animation\n",
    "from IPython.display import HTML"
   ]
  },
  {
   "cell_type": "code",
   "execution_count": 35,
   "metadata": {
    "internals": {
     "frag_helper": "fragment_end",
     "frag_number": 11,
     "slide_helper": "subslide_end"
    },
    "slide_helper": "slide_end",
    "slideshow": {
     "slide_type": "-"
    }
   },
   "outputs": [],
   "source": [
    "def animate(frame_index, logbook):\n",
    "    'Updates all plots to match frame _i_ of the animation.'\n",
    "    ax.clear()    \n",
    "    fronts = tools.emo.sortLogNondominated(logbook.select('pop')[frame_index], \n",
    "                                           len(logbook.select('pop')[frame_index]))\n",
    "    for i,inds in enumerate(fronts):\n",
    "        par = [toolbox.evaluate(ind) for ind in inds]\n",
    "        df = pd.DataFrame(par)\n",
    "        df.plot(ax=ax, kind='scatter', label='Front ' + str(i+1), \n",
    "                 x=df.columns[0], y=df.columns[1], alpha=0.47,\n",
    "                 color=plot_colors[i % len(plot_colors)])\n",
    "        \n",
    "    ax.set_title('$t=$' + str(frame_index))\n",
    "    ax.set_xlabel('$f_1(\\mathbf{x})$');ax.set_ylabel('$f_2(\\mathbf{x})$')\n",
    "    return []"
   ]
  },
  {
   "cell_type": "code",
   "execution_count": 36,
   "metadata": {
    "internals": {
     "frag_helper": "fragment_end",
     "frag_number": 11,
     "slide_helper": "subslide_end",
     "slide_type": "subslide"
    },
    "slide_helper": "slide_end",
    "slideshow": {
     "slide_type": "slide"
    }
   },
   "outputs": [],
   "source": [
    "fig = plt.figure(figsize=(4,4))\n",
    "ax = fig.gca()\n",
    "anim = animation.FuncAnimation(fig, lambda i: animate(i, logbook), \n",
    "                               frames=len(logbook), interval=60, \n",
    "                               blit=True)\n",
    "plt.close()"
   ]
  },
  {
   "cell_type": "code",
   "execution_count": 37,
   "metadata": {},
   "outputs": [
    {
     "ename": "RuntimeError",
     "evalue": "Requested MovieWriter (ffmpeg) not available",
     "output_type": "error",
     "traceback": [
      "\u001b[0;31m---------------------------------------------------------------------------\u001b[0m",
      "\u001b[0;31mRuntimeError\u001b[0m                              Traceback (most recent call last)",
      "\u001b[0;32m<ipython-input-37-f885f4acf935>\u001b[0m in \u001b[0;36m<module>\u001b[0;34m\u001b[0m\n\u001b[0;32m----> 1\u001b[0;31m \u001b[0mHTML\u001b[0m\u001b[0;34m(\u001b[0m\u001b[0manim\u001b[0m\u001b[0;34m.\u001b[0m\u001b[0mto_html5_video\u001b[0m\u001b[0;34m(\u001b[0m\u001b[0;34m)\u001b[0m\u001b[0;34m)\u001b[0m\u001b[0;34m\u001b[0m\u001b[0;34m\u001b[0m\u001b[0m\n\u001b[0m",
      "\u001b[0;32m/opt/anaconda3/lib/python3.8/site-packages/matplotlib/animation.py\u001b[0m in \u001b[0;36mto_html5_video\u001b[0;34m(self, embed_limit)\u001b[0m\n\u001b[1;32m   1330\u001b[0m                 \u001b[0;31m# We create a writer manually so that we can get the\u001b[0m\u001b[0;34m\u001b[0m\u001b[0;34m\u001b[0m\u001b[0;34m\u001b[0m\u001b[0m\n\u001b[1;32m   1331\u001b[0m                 \u001b[0;31m# appropriate size for the tag\u001b[0m\u001b[0;34m\u001b[0m\u001b[0;34m\u001b[0m\u001b[0;34m\u001b[0m\u001b[0m\n\u001b[0;32m-> 1332\u001b[0;31m                 \u001b[0mWriter\u001b[0m \u001b[0;34m=\u001b[0m \u001b[0mwriters\u001b[0m\u001b[0;34m[\u001b[0m\u001b[0mmpl\u001b[0m\u001b[0;34m.\u001b[0m\u001b[0mrcParams\u001b[0m\u001b[0;34m[\u001b[0m\u001b[0;34m'animation.writer'\u001b[0m\u001b[0;34m]\u001b[0m\u001b[0;34m]\u001b[0m\u001b[0;34m\u001b[0m\u001b[0;34m\u001b[0m\u001b[0m\n\u001b[0m\u001b[1;32m   1333\u001b[0m                 writer = Writer(codec='h264',\n\u001b[1;32m   1334\u001b[0m                                 \u001b[0mbitrate\u001b[0m\u001b[0;34m=\u001b[0m\u001b[0mmpl\u001b[0m\u001b[0;34m.\u001b[0m\u001b[0mrcParams\u001b[0m\u001b[0;34m[\u001b[0m\u001b[0;34m'animation.bitrate'\u001b[0m\u001b[0;34m]\u001b[0m\u001b[0;34m,\u001b[0m\u001b[0;34m\u001b[0m\u001b[0;34m\u001b[0m\u001b[0m\n",
      "\u001b[0;32m/opt/anaconda3/lib/python3.8/site-packages/matplotlib/animation.py\u001b[0m in \u001b[0;36m__getitem__\u001b[0;34m(self, name)\u001b[0m\n\u001b[1;32m    164\u001b[0m         \u001b[0;32mif\u001b[0m \u001b[0mself\u001b[0m\u001b[0;34m.\u001b[0m\u001b[0mis_available\u001b[0m\u001b[0;34m(\u001b[0m\u001b[0mname\u001b[0m\u001b[0;34m)\u001b[0m\u001b[0;34m:\u001b[0m\u001b[0;34m\u001b[0m\u001b[0;34m\u001b[0m\u001b[0m\n\u001b[1;32m    165\u001b[0m             \u001b[0;32mreturn\u001b[0m \u001b[0mself\u001b[0m\u001b[0;34m.\u001b[0m\u001b[0m_registered\u001b[0m\u001b[0;34m[\u001b[0m\u001b[0mname\u001b[0m\u001b[0;34m]\u001b[0m\u001b[0;34m\u001b[0m\u001b[0;34m\u001b[0m\u001b[0m\n\u001b[0;32m--> 166\u001b[0;31m         \u001b[0;32mraise\u001b[0m \u001b[0mRuntimeError\u001b[0m\u001b[0;34m(\u001b[0m\u001b[0;34mf\"Requested MovieWriter ({name}) not available\"\u001b[0m\u001b[0;34m)\u001b[0m\u001b[0;34m\u001b[0m\u001b[0;34m\u001b[0m\u001b[0m\n\u001b[0m\u001b[1;32m    167\u001b[0m \u001b[0;34m\u001b[0m\u001b[0m\n\u001b[1;32m    168\u001b[0m \u001b[0;34m\u001b[0m\u001b[0m\n",
      "\u001b[0;31mRuntimeError\u001b[0m: Requested MovieWriter (ffmpeg) not available"
     ]
    }
   ],
   "source": [
    "HTML(anim.to_html5_video())"
   ]
  },
  {
   "cell_type": "markdown",
   "metadata": {
    "internals": {
     "frag_helper": "fragment_end",
     "frag_number": 11,
     "slide_helper": "subslide_end"
    },
    "slide_helper": "slide_end",
    "slideshow": {
     "slide_type": "-"
    }
   },
   "source": [
    "Here it is clearly visible how the algorithm \"jumps\" from one local-optimum to a better one as evolution takes place."
   ]
  },
  {
   "cell_type": "markdown",
   "metadata": {
    "internals": {
     "frag_helper": "fragment_end",
     "frag_number": 11,
     "slide_helper": "subslide_end",
     "slide_type": "subslide"
    },
    "slide_helper": "slide_end",
    "slideshow": {
     "slide_type": "slide"
    }
   },
   "source": [
    "# MOP benchmark problem toolkits\n",
    "\n",
    "Each problem instance is meant to test the algorithms with regard with a given feature: local optima, convexity, discontinuity, bias, or a combination of them.\n",
    "\n",
    "* [*ZDT1-6*](http://www.tik.ee.ethz.ch/sop/download/supplementary/testproblems/): Two-objective problems with a fixed number of decision variables.\n",
    "     * E. Zitzler, K. Deb, and L. Thiele. Comparison of Multiobjective Evolutionary Algorithms: Empirical Results. Evolutionary Computation, 8(2):173-195, 2000. ([pdf](http://www.tik.ee.ethz.ch/sop/publicationListFiles/zdt2000a.pdf))\n",
    "* [*DTLZ1-7*](http://www.tik.ee.ethz.ch/sop/download/supplementary/testproblems/): $m$-objective problems with $n$ variables.\n",
    "     * K. Deb, L. Thiele, M. Laumanns and E. Zitzler. Scalable Multi-Objective Optimization Test Problems. CEC 2002, p. 825 - 830, IEEE Press, 2002. ([pdf](http://www.tik.ee.ethz.ch/sop/publicationListFiles/dtlz2002a.pdf))"
   ]
  },
  {
   "cell_type": "markdown",
   "metadata": {
    "internals": {
     "frag_helper": "fragment_end",
     "frag_number": 11,
     "slide_helper": "subslide_end",
     "slide_type": "subslide"
    },
    "slide_helper": "slide_end",
    "slideshow": {
     "slide_type": "slide"
    }
   },
   "source": [
    "* [*CEC'09*](http://dces.essex.ac.uk/staff/zhang/moeacompetition09.htm): Two- and three- objective problems that very complex Pareto sets.\n",
    "    * Zhang, Q., Zhou, A., Zhao, S., & Suganthan, P. N. (2009). Multiobjective optimization test instances for the CEC 2009 special session and competition. In 2009 IEEE Congress on Evolutionary Computation (pp. 1–30). ([pdf](http://dces.essex.ac.uk/staff/zhang/MOEAcompetition/cec09testproblem0904.pdf.pdf))\n",
    "* [*WFG1-9*](http://www.wfg.csse.uwa.edu.au/publications.html#toolkit): $m$-objective problems with $n$ variables, very complex.\n",
    "    * Huband, S., Hingston, P., Barone, L., & While, L. (2006). A review of multiobjective test problems and a scalable test problem toolkit. IEEE Transactions on Evolutionary Computation, 10(5), 477–506. doi:10.1109/TEVC.2005.861417"
   ]
  },
  {
   "cell_type": "markdown",
   "metadata": {
    "internals": {
     "frag_helper": "fragment_end",
     "frag_number": 11,
     "slide_type": "subslide"
    },
    "slideshow": {
     "slide_type": "slide"
    }
   },
   "source": [
    "How does our NSGA-II behaves when faced with different benchmark problems?"
   ]
  },
  {
   "cell_type": "code",
   "execution_count": null,
   "metadata": {
    "internals": {
     "frag_helper": "fragment_end",
     "frag_number": 11,
     "slide_helper": "subslide_end"
    },
    "slide_helper": "slide_end",
    "slideshow": {
     "slide_type": "-"
    }
   },
   "outputs": [],
   "source": [
    "problem_instances = {'ZDT1': benchmarks.zdt1, 'ZDT2': benchmarks.zdt2,\n",
    "                     'ZDT3': benchmarks.zdt3, 'ZDT4': benchmarks.zdt4,\n",
    "                     'DTLZ1': lambda ind: benchmarks.dtlz1(ind,2),\n",
    "                     'DTLZ2': lambda ind: benchmarks.dtlz2(ind,2),\n",
    "                     'DTLZ3': lambda ind: benchmarks.dtlz3(ind,2),\n",
    "                     'DTLZ4': lambda ind: benchmarks.dtlz4(ind,2, 100),\n",
    "                     'DTLZ5': lambda ind: benchmarks.dtlz5(ind,2),\n",
    "                     'DTLZ6': lambda ind: benchmarks.dtlz6(ind,2),\n",
    "                     'DTLZ7': lambda ind: benchmarks.dtlz7(ind,2)}"
   ]
  },
  {
   "cell_type": "code",
   "execution_count": null,
   "metadata": {
    "internals": {
     "frag_helper": "fragment_end",
     "frag_number": 11,
     "slide_type": "subslide"
    },
    "slideshow": {
     "slide_type": "slide"
    }
   },
   "outputs": [],
   "source": [
    "toolbox.max_gen = 1000\n",
    "\n",
    "stats = tools.Statistics(lambda ind: ind.fitness.values)\n",
    "stats.register(\"obj_vals\", np.copy)\n",
    "\n",
    "def run_problem(toolbox, problem):\n",
    "    toolbox.register('evaluate', problem)\n",
    "    return run_ea(toolbox, stats=stats)"
   ]
  },
  {
   "cell_type": "markdown",
   "metadata": {
    "internals": {
     "frag_helper": "fragment_end",
     "frag_number": 11
    },
    "slideshow": {
     "slide_type": "-"
    }
   },
   "source": [
    "Running NSGA-II solving all problems. Now it takes longer."
   ]
  },
  {
   "cell_type": "code",
   "execution_count": null,
   "metadata": {
    "internals": {
     "frag_helper": "fragment_end",
     "frag_number": 91,
     "slide_helper": "subslide_end"
    },
    "slide_helper": "slide_end",
    "slideshow": {
     "slide_type": "fragment"
    }
   },
   "outputs": [],
   "source": [
    "%time results = {problem: run_problem(toolbox, problem_instances[problem]) for problem in problem_instances}"
   ]
  },
  {
   "cell_type": "markdown",
   "metadata": {
    "internals": {
     "frag_helper": "fragment_end",
     "frag_number": 91,
     "slide_type": "subslide"
    },
    "slideshow": {
     "slide_type": "slide"
    }
   },
   "source": [
    "Creating this animation takes more programming effort."
   ]
  },
  {
   "cell_type": "code",
   "execution_count": null,
   "metadata": {
    "internals": {
     "frag_helper": "fragment_end",
     "frag_number": 91,
     "slide_helper": "subslide_end"
    },
    "slide_helper": "slide_end",
    "slideshow": {
     "slide_type": "-"
    }
   },
   "outputs": [],
   "source": [
    "class MultiProblemAnimation:\n",
    "    def init(self, fig, results):\n",
    "        self.results = results\n",
    "        self.axs = [fig.add_subplot(3,4,i+1) for i in range(len(results))]\n",
    "        self.plots =[]\n",
    "        for i, problem in enumerate(sorted(results)):\n",
    "            (res, logbook) = self.results[problem]\n",
    "            pop = pd.DataFrame(data=logbook.select('obj_vals')[0])\n",
    "            plot = self.axs[i].plot(pop[0], pop[1], 'b.', alpha=0.47)[0]\n",
    "            self.plots.append(plot)\n",
    "        fig.tight_layout()\n",
    "            \n",
    "    def animate(self, t):\n",
    "        'Updates all plots to match frame _i_ of the animation.'\n",
    "        for i, problem in enumerate(sorted(results)):\n",
    "            #self.axs[i].clear()\n",
    "            (res, logbook) = self.results[problem]\n",
    "            pop = pd.DataFrame(data=logbook.select('obj_vals')[t])\n",
    "            self.plots[i].set_data(pop[0], pop[1])\n",
    "            self.axs[i].set_title(problem + '; $t=' + str(t)+'$') \n",
    "            self.axs[i].set_xlim((0, max(1,pop.max()[0])))\n",
    "            self.axs[i].set_ylim((0, max(1,pop.max()[1])))\n",
    "        return self.axs"
   ]
  },
  {
   "cell_type": "code",
   "execution_count": null,
   "metadata": {
    "internals": {
     "frag_helper": "fragment_end",
     "frag_number": 91,
     "slide_type": "subslide"
    },
    "slideshow": {
     "slide_type": "slide"
    }
   },
   "outputs": [],
   "source": [
    "mpa = MultiProblemAnimation()"
   ]
  },
  {
   "cell_type": "code",
   "execution_count": null,
   "metadata": {
    "internals": {
     "frag_helper": "fragment_end",
     "frag_number": 91,
     "slide_helper": "subslide_end"
    },
    "slide_helper": "slide_end",
    "slideshow": {
     "slide_type": "-"
    }
   },
   "outputs": [],
   "source": [
    "fig = plt.figure(figsize=(14,6))\n",
    "anim = animation.FuncAnimation(fig, mpa.animate, init_func=mpa.init(fig,results), \n",
    "                               frames=toolbox.max_gen, interval=60, blit=True)\n",
    "plt.close()"
   ]
  },
  {
   "cell_type": "code",
   "execution_count": null,
   "metadata": {},
   "outputs": [],
   "source": [
    "HTML(anim.to_html5_video())"
   ]
  },
  {
   "cell_type": "markdown",
   "metadata": {
    "internals": {
     "frag_helper": "fragment_end",
     "frag_number": 91,
     "slide_helper": "subslide_end"
    },
    "slide_helper": "slide_end",
    "slideshow": {
     "slide_type": "-"
    }
   },
   "source": [
    "* It is interesting how the algorithm deals with each problem: clearly some problems are harder than others.\n",
    "* In some cases it \"hits\" the Pareto front and then slowly explores it.\n",
    "\n",
    "**Read more about this in the class materials.**"
   ]
  },
  {
   "cell_type": "markdown",
   "metadata": {
    "internals": {
     "frag_helper": "fragment_end",
     "frag_number": 91,
     "slide_helper": "subslide_end",
     "slide_type": "subslide"
    },
    "slide_helper": "slide_end",
    "slideshow": {
     "slide_type": "slide"
    }
   },
   "source": [
    "# Experiment design and reporting results\n",
    "\n",
    "* Watching an animation of an EMO algorithm solve a problem is certainly fun. \n",
    "* It also allows us to understand many particularities of the problem being solved.\n",
    "* But, as [Carlos Coello](http://delta.cs.cinvestav.mx/~ccoello/) would say, we are *not* in an art appreciation class.\n",
    "* We should follow the key concepts provided by the [scientific method](http://en.wikipedia.org/wiki/Scientific_method).\n",
    "* I urge you to study the [experimental design](http://en.wikipedia.org/wiki/Design_of_experiments) topic in depth as it is an essential knowledge.\n",
    "\n",
    "**Evolutionary algorithms are stochastic algorithms, therefore their results must be assessed by repeating experiments until you reach an statistically valid conclusion.** "
   ]
  },
  {
   "cell_type": "markdown",
   "metadata": {
    "internals": {
     "frag_helper": "fragment_end",
     "frag_number": 91,
     "slide_helper": "subslide_end",
     "slide_type": "subslide"
    },
    "slide_helper": "slide_end",
    "slideshow": {
     "slide_type": "slide"
    }
   },
   "source": [
    "## An illustrative simple/sample experiment\n",
    "\n",
    "Let's make a relatively simple but very important experiment:\n",
    "\n",
    "* **Question**: In our NSGA-II applied to a two-objective DTLZ3 problem: Is it more important to have a big population and let the algorithm run for a few iterations or is better to have a small population and let the algorithm run for larger number of iterations.\n",
    "* **Procedure**: We must perform an experiment testing different population sizes and maximum number of iterations while keeping the other parameters constant."
   ]
  },
  {
   "cell_type": "markdown",
   "metadata": {
    "internals": {
     "frag_helper": "fragment_end",
     "frag_number": 91,
     "slide_helper": "subslide_end",
     "slide_type": "subslide"
    },
    "slide_helper": "slide_end",
    "slideshow": {
     "slide_type": "slide"
    }
   },
   "source": [
    "### Notation\n",
    "\n",
    "As usual we need to establish some notation:\n",
    "\n",
    "* *Multi-objective problem* (or just *problem*): A multi-objective optimization problem, as defined above.\n",
    "* *MOEA*: An evolutionary computation method used to solve multi-objective problems.\n",
    "* *Experiment*: a combination of problem and MOEA and a set of values of their parameters.\n",
    "* *Experiment run*: The result of running an experiment.\n",
    "* We will use `toolbox` instances to define experiments. "
   ]
  },
  {
   "cell_type": "markdown",
   "metadata": {
    "internals": {
     "frag_helper": "fragment_end",
     "frag_number": 91,
     "slide_type": "subslide"
    },
    "slideshow": {
     "slide_type": "slide"
    }
   },
   "source": [
    "We start by creating a `toolbox` that will contain the configuration that will be shared across all experiments."
   ]
  },
  {
   "cell_type": "code",
   "execution_count": null,
   "metadata": {
    "internals": {
     "frag_helper": "fragment_end",
     "frag_number": 91
    },
    "slideshow": {
     "slide_type": "-"
    }
   },
   "outputs": [],
   "source": [
    "toolbox = base.Toolbox()"
   ]
  },
  {
   "cell_type": "code",
   "execution_count": null,
   "metadata": {
    "internals": {
     "frag_helper": "fragment_end",
     "frag_number": 91,
     "slide_helper": "subslide_end"
    },
    "slide_helper": "slide_end",
    "slideshow": {
     "slide_type": "-"
    }
   },
   "outputs": [],
   "source": [
    "BOUND_LOW, BOUND_UP = 0.0, 1.0\n",
    "NDIM = 30\n",
    "# the explanation of this... a few lines bellow\n",
    "def eval_helper(ind):\n",
    "    return benchmarks.dtlz3(ind, 2)\n",
    "\n",
    "toolbox.register(\"evaluate\", eval_helper)"
   ]
  },
  {
   "cell_type": "code",
   "execution_count": null,
   "metadata": {
    "internals": {
     "frag_helper": "fragment_end",
     "frag_number": 91,
     "slide_helper": "subslide_end",
     "slide_type": "subslide"
    },
    "slide_helper": "slide_end",
    "slideshow": {
     "slide_type": "slide"
    }
   },
   "outputs": [],
   "source": [
    "def uniform(low, up, size=None):\n",
    "    try:\n",
    "        return [random.uniform(a, b) for a, b in zip(low, up)]\n",
    "    except TypeError:\n",
    "        return [random.uniform(a, b) for a, b in zip([low] * size, [up] * size)]\n",
    "\n",
    "toolbox.register(\"attr_float\", uniform, BOUND_LOW, BOUND_UP, NDIM)\n",
    "toolbox.register(\"individual\", tools.initIterate, creator.Individual, toolbox.attr_float)\n",
    "toolbox.register(\"population\", tools.initRepeat, list, toolbox.individual)\n",
    "\n",
    "toolbox.register(\"mate\", tools.cxSimulatedBinaryBounded, low=BOUND_LOW, up=BOUND_UP, eta=20.0)\n",
    "toolbox.register(\"mutate\", tools.mutPolynomialBounded, low=BOUND_LOW, up=BOUND_UP, eta=20.0, indpb=1.0/NDIM)\n",
    "\n",
    "toolbox.register(\"select\", tools.selNSGA2)\n",
    "\n",
    "toolbox.mut_prob = 0.15"
   ]
  },
  {
   "cell_type": "markdown",
   "metadata": {
    "internals": {
     "frag_helper": "fragment_end",
     "frag_number": 91,
     "slide_type": "subslide"
    },
    "slideshow": {
     "slide_type": "slide"
    }
   },
   "source": [
    "We add a `experiment_name` to `toolbox` that we will fill up later on. Here $n\\mathrm{pop}$ denotes the population size and $t_\\mathrm{max}$ the max. number of iterations."
   ]
  },
  {
   "cell_type": "code",
   "execution_count": null,
   "metadata": {
    "internals": {
     "frag_helper": "fragment_end",
     "frag_number": 91
    },
    "slideshow": {
     "slide_type": "-"
    }
   },
   "outputs": [],
   "source": [
    "experiment_name = \"$n_\\mathrm{{pop}}={0};\\ t_\\mathrm{{max}}={1}$\""
   ]
  },
  {
   "cell_type": "code",
   "execution_count": null,
   "metadata": {},
   "outputs": [],
   "source": [
    "total_evals = 500"
   ]
  },
  {
   "cell_type": "markdown",
   "metadata": {
    "internals": {
     "frag_helper": "fragment_end",
     "frag_number": 91
    },
    "slideshow": {
     "slide_type": "-"
    }
   },
   "source": [
    "We can now replicate this toolbox instance and then modify the mutation probabilities."
   ]
  },
  {
   "cell_type": "code",
   "execution_count": null,
   "metadata": {
    "internals": {
     "frag_helper": "fragment_end",
     "frag_number": 91
    },
    "slideshow": {
     "slide_type": "-"
    }
   },
   "outputs": [],
   "source": [
    "pop_sizes = (10,50,100)"
   ]
  },
  {
   "cell_type": "code",
   "execution_count": null,
   "metadata": {},
   "outputs": [],
   "source": [
    "toolboxes=list([copy.deepcopy(toolbox) for _ in range(len(pop_sizes))])"
   ]
  },
  {
   "cell_type": "markdown",
   "metadata": {
    "internals": {
     "frag_helper": "fragment_end",
     "frag_number": 91,
     "slide_helper": "subslide_end"
    },
    "slide_helper": "slide_end",
    "slideshow": {
     "slide_type": "-"
    }
   },
   "source": [
    "Now `toolboxes` is a list of copies of the same toolbox. One for each experiment configuration (population size)."
   ]
  },
  {
   "cell_type": "markdown",
   "metadata": {
    "internals": {
     "frag_helper": "fragment_end",
     "frag_number": 91,
     "slide_type": "subslide"
    },
    "slideshow": {
     "slide_type": "slide"
    }
   },
   "source": [
    "...but we still have to set the population sizes in the elements of `toolboxes`."
   ]
  },
  {
   "cell_type": "code",
   "execution_count": null,
   "metadata": {
    "internals": {
     "frag_helper": "fragment_end",
     "frag_number": 91
    },
    "slideshow": {
     "slide_type": "-"
    }
   },
   "outputs": [],
   "source": [
    "for pop_size, toolbox in zip(pop_sizes, toolboxes):\n",
    "    toolbox.pop_size = pop_size\n",
    "    toolbox.max_gen = total_evals // pop_size\n",
    "    toolbox.experiment_name = experiment_name.format(toolbox.pop_size, toolbox.max_gen)"
   ]
  },
  {
   "cell_type": "code",
   "execution_count": null,
   "metadata": {
    "internals": {
     "frag_helper": "fragment_end",
     "frag_number": 114,
     "slide_helper": "subslide_end"
    },
    "slide_helper": "slide_end",
    "slideshow": {
     "slide_type": "fragment"
    }
   },
   "outputs": [],
   "source": [
    "for toolbox in toolboxes:\n",
    "    print(toolbox.experiment_name, toolbox.pop_size, toolbox.max_gen)"
   ]
  },
  {
   "cell_type": "markdown",
   "metadata": {
    "internals": {
     "frag_helper": "fragment_end",
     "frag_number": 114,
     "slide_type": "subslide"
    },
    "slideshow": {
     "slide_type": "slide"
    }
   },
   "source": [
    "## Experiment design\n",
    "\n",
    "As we are dealing with stochastic methods their results should be reported relying on an statistical analysis.\n",
    "\n",
    "* A given  experiment (a `toolbox` instance in our case) should be repeated a *sufficient* amount of times. \n",
    "* In theory, the more runs the better, but how much in enough? In practice, we could say that about *30* runs is enough.\n",
    "* The non-dominated fronts produced by each experiment run should be compared to each other. \n",
    "* We have seen in class that a number of *performance indicators*, like the *hypervolume*, *additive* and *multiplicative epsilon indicators*, among others, have been proposed for that task.\n",
    "* We can use statistical visualizations like [box plots](http://en.wikipedia.org/wiki/Box_plot) or [violin plots](http://en.wikipedia.org/wiki/Violin_plot) to make a visual assessment of the indicator values produced in each run.\n",
    "* We must apply a set of [statistical hypothesis tests](http://en.wikipedia.org/wiki/Statistical_hypothesis_testing) in order to reach an statistically valid judgment of the results of an algorithms. \n",
    "\n",
    "\n",
    "_Note_: I personally like the number [42](http://en.wikipedia.org/wiki/42_%28number%29) as it is the [answer to The Ultimate Question of Life, the Universe, and Everything](http://en.wikipedia.org/wiki/Phrases_from_The_Hitchhiker%27s_Guide_to_the_Galaxy#Answer_to_the_Ultimate_Question_of_Life.2C_the_Universe.2C_and_Everything_.2842.29)."
   ]
  },
  {
   "cell_type": "code",
   "execution_count": null,
   "metadata": {
    "internals": {
     "frag_helper": "fragment_end",
     "frag_number": 114,
     "slide_helper": "subslide_end"
    },
    "slide_helper": "slide_end",
    "slideshow": {
     "slide_type": "-"
    }
   },
   "outputs": [],
   "source": [
    "number_of_runs = 42"
   ]
  },
  {
   "cell_type": "markdown",
   "metadata": {
    "internals": {
     "frag_helper": "fragment_end",
     "frag_number": 114,
     "slide_helper": "subslide_end",
     "slide_type": "subslide"
    },
    "slide_helper": "slide_end",
    "slideshow": {
     "slide_type": "slide"
    }
   },
   "source": [
    "### Running experiments in parallel \n",
    "As we are now solving more demanding problems it would be nice to make our algorithms to run in parallel and profit from modern multi-core CPUs.\n",
    "\n",
    "* In DEAP it is very simple to parallelize an algorithm (if it has been properly programmed) by providing a parallel `map()` function via the `toolbox`.\n",
    "* Local parallelization can be achieved using Python's [`multiprocessing`](https://docs.python.org/2/library/multiprocessing.html) or [`concurrent.futures`](https://docs.python.org/3/library/concurrent.futures.html) modules.\n",
    "* Cluster parallelization can be achieved using IPython Parallel or [SCOOP](http://en.wikipedia.org/wiki/Python_SCOOP_%28software%29)."
   ]
  },
  {
   "cell_type": "markdown",
   "metadata": {
    "internals": {
     "frag_helper": "fragment_end",
     "frag_number": 114,
     "slide_type": "subslide"
    },
    "slideshow": {
     "slide_type": "slide"
    }
   },
   "source": [
    "### Progress feedback\n",
    "\n",
    "* Another issue with these long experiments has to do being patient.\n",
    "* A little bit of feedback on the experiment execution would be cool.\n",
    "* We can use the integer progress bar from [IPython widgets](http://nbviewer.ipython.org/github/jvns/ipython/blob/master/examples/Interactive%20Widgets/Index.ipynb) and report every time an experiment run is finished."
   ]
  },
  {
   "cell_type": "code",
   "execution_count": null,
   "metadata": {
    "internals": {
     "frag_helper": "fragment_end",
     "frag_number": 114
    },
    "slideshow": {
     "slide_type": "-"
    }
   },
   "outputs": [],
   "source": [
    "from ipywidgets import IntProgress\n",
    "from IPython.display import display"
   ]
  },
  {
   "cell_type": "markdown",
   "metadata": {
    "internals": {
     "frag_helper": "fragment_end",
     "frag_number": 114,
     "slide_type": "subslide"
    },
    "slideshow": {
     "slide_type": "slide"
    }
   },
   "source": [
    "### A side-effect of using process-based parallelization\n",
    "\n",
    "Process-based parallelization based on `multiprocessing` requires that the parameters passed to `map()` be [pickleable](https://docs.python.org/3.4/library/pickle.html).\n",
    "\n",
    "* The direct consequence is that `lambda` functions can not be directly used. \n",
    "* This is will certainly ruin the party to all `lambda` fans out there! *-me included*.\n",
    "* Hence we need to write some wrapper functions instead.\n",
    "* But, that wrapper function can take care of filtering out dominated individuals in the results."
   ]
  },
  {
   "cell_type": "code",
   "execution_count": null,
   "metadata": {
    "internals": {
     "frag_helper": "fragment_end",
     "frag_number": 114,
     "slide_helper": "subslide_end"
    },
    "slide_helper": "slide_end",
    "slideshow": {
     "slide_type": "-"
    }
   },
   "outputs": [],
   "source": [
    "def run_algo_wrapper(toolbox):\n",
    "    result, _ = run_ea(toolbox)\n",
    "    local_pareto_set = tools.emo.sortLogNondominated(result, len(result), first_front_only=True)\n",
    "    return local_pareto_set"
   ]
  },
  {
   "cell_type": "markdown",
   "metadata": {
    "internals": {
     "frag_helper": "fragment_end",
     "frag_number": 114,
     "slide_type": "subslide"
    },
    "slideshow": {
     "slide_type": "slide"
    }
   },
   "source": [
    "# All set! Run the experiments..."
   ]
  },
  {
   "cell_type": "code",
   "execution_count": null,
   "metadata": {},
   "outputs": [],
   "source": [
    "%%time\n",
    "import concurrent.futures\n",
    "progress_bar = IntProgress(description=\"000/000\", max=len(toolboxes)*number_of_runs)\n",
    "display(progress_bar)\n",
    "\n",
    "results = {toolbox.experiment_name:[] for toolbox in toolboxes}\n",
    "with concurrent.futures.ProcessPoolExecutor() as executor:\n",
    "    # Submit all the tasks...\n",
    "    futures = {executor.submit(run_algo_wrapper, toolbox): toolbox\n",
    "               for _ in range(number_of_runs)\n",
    "               for toolbox in toolboxes}\n",
    "    \n",
    "    # ...and wait for them to finish.\n",
    "    for future in concurrent.futures.as_completed(futures):\n",
    "        tb = futures[future]\n",
    "        results[tb.experiment_name].append(future.result())\n",
    "        progress_bar.value +=1\n",
    "        progress_bar.description = \"%03d/%03d:\" % (progress_bar.value, progress_bar.max)"
   ]
  },
  {
   "cell_type": "markdown",
   "metadata": {
    "internals": {
     "frag_helper": "fragment_end",
     "frag_number": 114
    },
    "slideshow": {
     "slide_type": "-"
    }
   },
   "source": [
    "This is not a perfect implementation but... works!"
   ]
  },
  {
   "cell_type": "markdown",
   "metadata": {
    "internals": {
     "frag_helper": "fragment_end",
     "frag_number": 114
    },
    "slideshow": {
     "slide_type": "-"
    }
   },
   "source": [
    "As running the experiments sometimes takes a long time it is a good practice to store the results."
   ]
  },
  {
   "cell_type": "code",
   "execution_count": null,
   "metadata": {
    "internals": {
     "frag_helper": "fragment_end",
     "frag_number": 114
    },
    "slideshow": {
     "slide_type": "-"
    }
   },
   "outputs": [],
   "source": [
    "import pickle"
   ]
  },
  {
   "cell_type": "code",
   "execution_count": null,
   "metadata": {
    "internals": {
     "frag_helper": "fragment_end",
     "frag_number": 114
    },
    "slideshow": {
     "slide_type": "-"
    }
   },
   "outputs": [],
   "source": [
    "pickle.dump(results, open('nsga_ii_dtlz3-results.pickle', 'wb'))"
   ]
  },
  {
   "cell_type": "markdown",
   "metadata": {
    "internals": {
     "frag_helper": "fragment_end",
     "frag_number": 131
    },
    "slideshow": {
     "slide_type": "fragment"
    }
   },
   "source": [
    "In case you need it, this file is included in the github repository.\n",
    "\n",
    "To load the results we would just have to:"
   ]
  },
  {
   "cell_type": "code",
   "execution_count": null,
   "metadata": {
    "internals": {
     "frag_helper": "fragment_end",
     "frag_number": 131,
     "slide_helper": "subslide_end"
    },
    "slide_helper": "slide_end",
    "slideshow": {
     "slide_type": "-"
    }
   },
   "outputs": [],
   "source": [
    "# loaded_results = pickle.load(open('nsga_ii_dtlz3-results.pickle', 'rb'))\n",
    "# results = loaded_results #  <-- uncomment if needed"
   ]
  },
  {
   "cell_type": "markdown",
   "metadata": {
    "internals": {
     "frag_helper": "fragment_end",
     "frag_number": 131,
     "slide_type": "subslide"
    },
    "slideshow": {
     "slide_type": "slide"
    }
   },
   "source": [
    "`results` is a dictionary, but a pandas `DataFrame` is a more handy container for the results."
   ]
  },
  {
   "cell_type": "code",
   "execution_count": null,
   "metadata": {
    "internals": {
     "frag_helper": "fragment_end",
     "frag_number": 131,
     "slide_helper": "subslide_end"
    },
    "slide_helper": "slide_end",
    "slideshow": {
     "slide_type": "-"
    }
   },
   "outputs": [],
   "source": [
    "res = pd.DataFrame(results)"
   ]
  },
  {
   "cell_type": "markdown",
   "metadata": {
    "internals": {
     "frag_helper": "fragment_end",
     "frag_number": 131,
     "slide_type": "subslide"
    },
    "slideshow": {
     "slide_type": "slide"
    }
   },
   "source": [
    "Headers may come out unsorted. Let's fix that first. "
   ]
  },
  {
   "cell_type": "code",
   "execution_count": null,
   "metadata": {
    "internals": {
     "frag_helper": "fragment_end",
     "frag_number": 131,
     "slide_helper": "subslide_end"
    },
    "slide_helper": "subslide_end",
    "slideshow": {
     "slide_type": "-"
    }
   },
   "outputs": [],
   "source": [
    "res.head()"
   ]
  },
  {
   "cell_type": "code",
   "execution_count": null,
   "metadata": {
    "internals": {
     "frag_helper": "fragment_end",
     "frag_number": 131,
     "slide_type": "subslide"
    },
    "slideshow": {
     "slide_type": "subslide"
    }
   },
   "outputs": [],
   "source": [
    "res = res.reindex_axis([toolbox.experiment_name for toolbox in toolboxes], axis=1)"
   ]
  },
  {
   "cell_type": "code",
   "execution_count": null,
   "metadata": {
    "internals": {
     "frag_helper": "fragment_end",
     "frag_number": 131,
     "slide_helper": "subslide_end"
    },
    "slide_helper": "slide_end",
    "slideshow": {
     "slide_type": "-"
    }
   },
   "outputs": [],
   "source": [
    "res.head()"
   ]
  },
  {
   "cell_type": "markdown",
   "metadata": {
    "internals": {
     "frag_helper": "fragment_end",
     "frag_number": 131,
     "slide_type": "subslide"
    },
    "slideshow": {
     "slide_type": "slide"
    }
   },
   "source": [
    "## A first glace at the results"
   ]
  },
  {
   "cell_type": "code",
   "execution_count": null,
   "metadata": {
    "internals": {
     "frag_helper": "fragment_end",
     "frag_number": 131
    },
    "slideshow": {
     "slide_type": "-"
    }
   },
   "outputs": [],
   "source": [
    "a = res.applymap(lambda pop: [toolbox.evaluate(ind) for ind in pop])\n",
    "plt.figure(figsize=(11,3))\n",
    "for i, col in enumerate(a.columns):\n",
    "    plt.subplot(1, len(a.columns), i+1)\n",
    "    for pop in a[col]:\n",
    "        x = pd.DataFrame(data=pop)\n",
    "        plt.scatter(x[0], x[1], marker='.', alpha=0.5)\n",
    "    plt.title(col)   "
   ]
  },
  {
   "cell_type": "markdown",
   "metadata": {
    "internals": {
     "frag_helper": "fragment_end",
     "frag_number": 131,
     "slide_helper": "subslide_end"
    },
    "slide_helper": "slide_end",
    "slideshow": {
     "slide_type": "-"
    }
   },
   "source": [
    "The local Pareto-optimal fronts are clearly visible!"
   ]
  },
  {
   "cell_type": "markdown",
   "metadata": {
    "internals": {
     "frag_helper": "fragment_end",
     "frag_number": 131,
     "slide_helper": "subslide_end",
     "slide_type": "subslide"
    },
    "slide_helper": "slide_end",
    "slideshow": {
     "slide_type": "slide"
    }
   },
   "source": [
    "## Calculating performance indicators\n",
    "\n",
    "* As already mentioned, we need to evaluate the quality of the solutions produced in every execution of the algorithm. \n",
    "* We will use the hypervolumne indicator for that.\n",
    "* Larger hypervolume values are better.\n",
    "* We already filtered each population a leave only the non-dominated individuals."
   ]
  },
  {
   "cell_type": "markdown",
   "metadata": {
    "internals": {
     "frag_helper": "fragment_end",
     "frag_number": 131,
     "slide_type": "subslide"
    },
    "slideshow": {
     "slide_type": "slide"
    }
   },
   "source": [
    "Calculating the *reference point*: a point that is **“worst”** than any other individual in every objective."
   ]
  },
  {
   "cell_type": "code",
   "execution_count": null,
   "metadata": {
    "internals": {
     "frag_helper": "fragment_end",
     "frag_number": 131
    },
    "slideshow": {
     "slide_type": "-"
    }
   },
   "outputs": [],
   "source": [
    "def calculate_reference(results, epsilon=0.1):\n",
    "    alldata = np.concatenate(np.concatenate(results.values))\n",
    "    obj_vals = [toolbox.evaluate(ind) for ind in alldata]\n",
    "    return np.max(obj_vals, axis=0) + epsilon"
   ]
  },
  {
   "cell_type": "code",
   "execution_count": null,
   "metadata": {
    "internals": {
     "frag_helper": "fragment_end",
     "frag_number": 145
    },
    "slideshow": {
     "slide_type": "fragment"
    }
   },
   "outputs": [],
   "source": [
    "reference = calculate_reference(res)"
   ]
  },
  {
   "cell_type": "code",
   "execution_count": null,
   "metadata": {
    "internals": {
     "frag_helper": "fragment_end",
     "frag_number": 145,
     "slide_helper": "subslide_end"
    },
    "slide_helper": "slide_end",
    "slideshow": {
     "slide_type": "-"
    }
   },
   "outputs": [],
   "source": [
    "reference"
   ]
  },
  {
   "cell_type": "markdown",
   "metadata": {
    "internals": {
     "frag_helper": "fragment_end",
     "frag_number": 145,
     "slide_type": "subslide"
    },
    "slideshow": {
     "slide_type": "slide"
    }
   },
   "source": [
    "We can now compute the hypervolume of the Pareto-optimal fronts yielded by each algorithm run."
   ]
  },
  {
   "cell_type": "code",
   "execution_count": null,
   "metadata": {
    "internals": {
     "frag_helper": "fragment_end",
     "frag_number": 145
    },
    "slideshow": {
     "slide_type": "-"
    }
   },
   "outputs": [],
   "source": [
    "import deap.benchmarks.tools as bt"
   ]
  },
  {
   "cell_type": "code",
   "execution_count": null,
   "metadata": {
    "internals": {
     "frag_helper": "fragment_end",
     "frag_number": 145
    },
    "slideshow": {
     "slide_type": "-"
    }
   },
   "outputs": [],
   "source": [
    "hypervols = res.applymap(lambda pop: bt.hypervolume(pop, reference))"
   ]
  },
  {
   "cell_type": "code",
   "execution_count": null,
   "metadata": {
    "internals": {
     "frag_helper": "fragment_end",
     "frag_number": 150,
     "slide_helper": "subslide_end"
    },
    "slide_helper": "slide_end",
    "slideshow": {
     "slide_type": "fragment"
    }
   },
   "outputs": [],
   "source": [
    "hypervols.head()"
   ]
  },
  {
   "cell_type": "markdown",
   "metadata": {
    "internals": {
     "frag_helper": "fragment_end",
     "frag_number": 150,
     "slide_type": "subslide"
    },
    "slideshow": {
     "slide_type": "slide"
    }
   },
   "source": [
    "## How can we interpret the indicators?"
   ]
  },
  {
   "cell_type": "markdown",
   "metadata": {
    "internals": {
     "frag_helper": "fragment_end",
     "frag_number": 152
    },
    "slideshow": {
     "slide_type": "fragment"
    }
   },
   "source": [
    "### Option A: Tabular form"
   ]
  },
  {
   "cell_type": "code",
   "execution_count": null,
   "metadata": {
    "internals": {
     "frag_helper": "fragment_end",
     "frag_number": 152,
     "slide_helper": "subslide_end"
    },
    "slide_helper": "slide_end",
    "slideshow": {
     "slide_type": "-"
    }
   },
   "outputs": [],
   "source": [
    "hypervols.describe()"
   ]
  },
  {
   "cell_type": "markdown",
   "metadata": {
    "internals": {
     "frag_helper": "fragment_end",
     "frag_number": 152,
     "slide_type": "subslide"
    },
    "slideshow": {
     "slide_type": "slide"
    }
   },
   "source": [
    "### Option B: Visualization"
   ]
  },
  {
   "cell_type": "code",
   "execution_count": null,
   "metadata": {
    "internals": {
     "frag_helper": "fragment_end",
     "frag_number": 152,
     "slide_helper": "subslide_end"
    },
    "slide_helper": "slide_end",
    "slideshow": {
     "slide_type": "-"
    }
   },
   "outputs": [],
   "source": [
    "fig = plt.figure(figsize=(11,4))\n",
    "plt.subplot(121, title='Violin plots of NSGA-II with $P_{\\mathrm{mut}}$')\n",
    "seaborn.violinplot(data=hypervols, palette='Set2')\n",
    "plt.ylabel('Hypervolume'); plt.xlabel('Configuration')\n",
    "plt.subplot(122, title='Box plots of NSGA-II with $P_{\\mathrm{mut}}$')\n",
    "seaborn.boxplot(data=hypervols, palette='Set2')\n",
    "plt.ylabel('Hypervolume'); plt.xlabel('Configuration');\n",
    "plt.tight_layout()"
   ]
  },
  {
   "cell_type": "markdown",
   "metadata": {
    "internals": {
     "frag_helper": "fragment_end",
     "frag_number": 152,
     "slide_type": "subslide"
    },
    "slideshow": {
     "slide_type": "slide"
    }
   },
   "source": [
    "## Option C: Statistical hypothesis test"
   ]
  },
  {
   "cell_type": "markdown",
   "metadata": {
    "internals": {
     "frag_helper": "fragment_end",
     "frag_number": 152,
     "slide_helper": "subslide_end"
    },
    "slide_helper": "slide_end",
    "slideshow": {
     "slide_type": "-"
    }
   },
   "source": [
    "* Choosing the correct statistical test is essential to properly report the results.\n",
    "* [Nonparametric statistics](http://en.wikipedia.org/wiki/Nonparametric_statistics) can lend a helping hand.\n",
    "* [Parametric statistics](http://en.wikipedia.org/wiki/Parametric_statistics) could be a better choice in some cases. \n",
    "* Parametric statistics require that *all* data follow a known distribution (frequently a normal one).\n",
    "* Some tests -like the [normality test](http://en.wikipedia.org/wiki/Normality_test)- can be apply to verify that data meet the parametric stats requirements.\n",
    "* In my experience that is very unlikely that all your EMO result meet those characteristics."
   ]
  },
  {
   "cell_type": "markdown",
   "metadata": {
    "internals": {
     "frag_helper": "fragment_end",
     "frag_number": 152,
     "slide_type": "subslide"
    },
    "slideshow": {
     "slide_type": "slide"
    }
   },
   "source": [
    "We start by writing a function that helps us tabulate the results of the application of an statistical hypothesis test."
   ]
  },
  {
   "cell_type": "code",
   "execution_count": null,
   "metadata": {
    "internals": {
     "frag_helper": "fragment_end",
     "frag_number": 152
    },
    "slideshow": {
     "slide_type": "-"
    }
   },
   "outputs": [],
   "source": [
    "import itertools\n",
    "import scipy.stats as stats"
   ]
  },
  {
   "cell_type": "code",
   "execution_count": null,
   "metadata": {
    "internals": {
     "frag_helper": "fragment_end",
     "frag_number": 152,
     "slide_helper": "subslide_end"
    },
    "slide_helper": "slide_end",
    "slideshow": {
     "slide_type": "-"
    }
   },
   "outputs": [],
   "source": [
    "def compute_stat_matrix(data, stat_func, alpha=0.05):\n",
    "    '''A function that applies `stat_func` to all combinations of columns in `data`.\n",
    "    Returns a squared matrix with the p-values'''\n",
    "    p_values = pd.DataFrame(columns=data.columns, index=data.columns)\n",
    "    for a,b in itertools.combinations(data.columns,2):\n",
    "        s,p = stat_func(data[a], data[b]) \n",
    "        p_values[a].ix[b] = p\n",
    "        p_values[b].ix[a] = p\n",
    "    return p_values"
   ]
  },
  {
   "cell_type": "markdown",
   "metadata": {
    "internals": {
     "frag_helper": "fragment_end",
     "frag_number": 152,
     "slide_type": "subslide"
    },
    "slideshow": {
     "slide_type": "slide"
    }
   },
   "source": [
    "The [Kruskal-Wallis H-test](http://docs.scipy.org/doc/scipy-0.14.0/reference/generated/scipy.stats.kruskal.html) tests the null hypothesis that the population median of all of the groups are equal.\n",
    "\n",
    "* It is a non-parametric version of [ANOVA](http://en.wikipedia.org/wiki/Analysis_of_variance). \n",
    "* The test works on 2 or more independent samples, which may have different sizes. \n",
    "* Note that rejecting the null hypothesis does not indicate which of the groups differs. \n",
    "* Post-hoc comparisons between groups are required to determine which groups are different."
   ]
  },
  {
   "cell_type": "code",
   "execution_count": null,
   "metadata": {
    "internals": {
     "frag_helper": "fragment_end",
     "frag_number": 163
    },
    "slideshow": {
     "slide_type": "fragment"
    }
   },
   "outputs": [],
   "source": [
    "stats.kruskal(*[hypervols[col] for col in hypervols.columns])"
   ]
  },
  {
   "cell_type": "markdown",
   "metadata": {
    "internals": {
     "frag_helper": "fragment_end",
     "frag_number": 163,
     "slide_helper": "subslide_end"
    },
    "slide_helper": "slide_end",
    "slideshow": {
     "slide_type": "-"
    }
   },
   "source": [
    "We now can assert that the results are not the same but which ones are different or similar to the others the others?"
   ]
  },
  {
   "cell_type": "markdown",
   "metadata": {
    "internals": {
     "frag_helper": "fragment_end",
     "frag_number": 163,
     "slide_helper": "subslide_end",
     "slide_type": "subslide"
    },
    "slide_helper": "slide_end",
    "slideshow": {
     "slide_type": "slide"
    }
   },
   "source": [
    "In case that the null hypothesis of the Kruskal-Wallis is rejected the Conover–Inman procedure (Conover, 1999, pp. 288-290) can be applied in a pairwise manner in order to determine if the results of one algorithm were significantly better than those of the other.\n",
    "\n",
    "* Conover, W. J. (1999). *Practical Nonparametric Statistics*. John Wiley & Sons, New York, 3rd edition.\n",
    "\n",
    "_Note_: If you want to get an extended summary of this method check out my [PhD thesis](http://lmarti.com/pubs). "
   ]
  },
  {
   "cell_type": "code",
   "execution_count": null,
   "metadata": {
    "internals": {
     "frag_helper": "fragment_end",
     "frag_number": 163,
     "slide_helper": "subslide_end",
     "slide_type": "subslide"
    },
    "slide_helper": "slide_end",
    "slideshow": {
     "slide_type": "slide"
    }
   },
   "outputs": [],
   "source": [
    "def conover_inman_procedure(data, alpha=0.05):\n",
    "    num_runs = len(data)\n",
    "    num_algos = len(data.columns)\n",
    "    N = num_runs*num_algos\n",
    "\n",
    "    _,p_value = stats.kruskal(*[data[col] for col in data.columns])\n",
    "    \n",
    "    ranked =  stats.rankdata(np.concatenate([data[col] for col in data.columns]))\n",
    "    \n",
    "    ranksums = []\n",
    "    for i in range(num_algos):\n",
    "        ranksums.append(np.sum(ranked[num_runs*i:num_runs*(i+1)]))\n",
    "\n",
    "    S_sq = (np.sum(ranked**2) - N*((N+1)**2)/4)/(N-1)\n",
    "\n",
    "    right_side = stats.t.cdf(1-(alpha/2), N-num_algos) * \\\n",
    "                 math.sqrt((S_sq*((N-1-p_value)/(N-1)))*2/num_runs)\n",
    "    \n",
    "    res = pd.DataFrame(columns=data.columns, index=data.columns)\n",
    "\n",
    "    for i,j in itertools.combinations(np.arange(num_algos),2):\n",
    "        res[res.columns[i]].ix[j] = abs(ranksums[i] - ranksums[j]/num_runs) > right_side\n",
    "        res[res.columns[j]].ix[i] = abs(ranksums[i] - ranksums[j]/num_runs) > right_side\n",
    "    return res"
   ]
  },
  {
   "cell_type": "code",
   "execution_count": null,
   "metadata": {
    "internals": {
     "frag_helper": "fragment_end",
     "frag_number": 163,
     "slide_type": "subslide"
    },
    "slideshow": {
     "slide_type": "slide"
    }
   },
   "outputs": [],
   "source": [
    "conover_inman_procedure(hypervols)"
   ]
  },
  {
   "cell_type": "markdown",
   "metadata": {
    "internals": {
     "frag_helper": "fragment_end",
     "frag_number": 163,
     "slide_helper": "subslide_end"
    },
    "slide_helper": "slide_end",
    "slideshow": {
     "slide_type": "-"
    }
   },
   "source": [
    "We now know in what cases the difference is sufficient as to say that one result is better than the other."
   ]
  },
  {
   "cell_type": "markdown",
   "metadata": {
    "internals": {
     "frag_helper": "fragment_end",
     "frag_number": 163,
     "slide_type": "subslide"
    },
    "slideshow": {
     "slide_type": "slide"
    }
   },
   "source": [
    "Another alternative is the [Friedman test](http://en.wikipedia.org/wiki/Friedman_test).\n",
    "\n",
    "* Its null hypothesis that repeated measurements of the same individuals have the same distribution. \n",
    "* It is often used to test for consistency among measurements obtained in different ways. \n",
    "    * For example, if two measurement techniques are used on the same set of individuals, the Friedman test can be used to determine if the two measurement techniques are consistent."
   ]
  },
  {
   "cell_type": "code",
   "execution_count": null,
   "metadata": {
    "internals": {
     "frag_helper": "fragment_end",
     "frag_number": 163,
     "slide_helper": "subslide_end"
    },
    "slide_helper": "slide_end",
    "slideshow": {
     "slide_type": "-"
    }
   },
   "outputs": [],
   "source": [
    "measurements = [list(hypervols[col]) for col in hypervols.columns]\n",
    "stats.friedmanchisquare(*measurements)"
   ]
  },
  {
   "cell_type": "markdown",
   "metadata": {
    "internals": {
     "frag_helper": "fragment_end",
     "frag_number": 163,
     "slide_type": "subslide"
    },
    "slideshow": {
     "slide_type": "slide"
    }
   },
   "source": [
    "[Mann–Whitney U test](http://en.wikipedia.org/wiki/Mann%E2%80%93Whitney_U_test) (also called the Mann–Whitney–Wilcoxon (MWW), Wilcoxon rank-sum test (WRS), or Wilcoxon–Mann–Whitney test) is a nonparametric test of the null hypothesis that two populations are the same against an alternative hypothesis, especially that a particular population tends to have larger values than the other.\n",
    "\n",
    "It has greater efficiency than the $t$-test on non-normal distributions, such as a mixture of normal distributions, and it is nearly as efficient as the $t$-test on normal distributions."
   ]
  },
  {
   "cell_type": "code",
   "execution_count": null,
   "metadata": {
    "internals": {
     "frag_helper": "fragment_end",
     "frag_number": 172,
     "slide_helper": "subslide_end"
    },
    "slide_helper": "slide_end",
    "slideshow": {
     "slide_type": "fragment"
    }
   },
   "outputs": [],
   "source": [
    "raw_p_values=compute_stat_matrix(hypervols, stats.mannwhitneyu)\n",
    "raw_p_values"
   ]
  },
  {
   "cell_type": "markdown",
   "metadata": {
    "internals": {
     "frag_helper": "fragment_end",
     "frag_number": 172,
     "slide_helper": "subslide_end",
     "slide_type": "subslide"
    },
    "slide_helper": "slide_end",
    "slideshow": {
     "slide_type": "slide"
    }
   },
   "source": [
    "The [familywise error rate](http://en.wikipedia.org/wiki/Familywise_error_rate) (FWER) is the probability of making one or more false discoveries, or [type I errors](http://en.wikipedia.org/wiki/Type_I_and_type_II_errors), among all the hypotheses when performing multiple hypotheses tests.\n",
    "\n",
    "_Example_: When performing a test, there is a $\\alpha$ chance of making a type I error. If we make $m$ tests, then the probability of making one type I error is $m\\alpha$. Therefore, if an $\\alpha=0.05$ is used and 5 pairwise comparisons are made, we will have a $5\\times0.05 = 0.25$ chance of making a type I error.\n",
    "\n",
    "* FWER procedures (such as the [Bonferroni correction](http://en.wikipedia.org/wiki/Bonferroni_correction)) exert a more stringent control over false discovery compared to False discovery rate controlling procedures. \n",
    "* FWER controlling seek to reduce the probability of even one false discovery, as opposed to the expected proportion of false discoveries. \n",
    "* Thus, FDR procedures have greater power at the cost of increased rates of type I errors, i.e., rejecting the null hypothesis of no effect when it should be accepted."
   ]
  },
  {
   "cell_type": "markdown",
   "metadata": {
    "internals": {
     "frag_helper": "fragment_end",
     "frag_number": 172,
     "slide_type": "subslide"
    },
    "slideshow": {
     "slide_type": "slide"
    }
   },
   "source": [
    "One of these corrections is the [Šidák correction](http://en.wikipedia.org/wiki/%C5%A0id%C3%A1k_correction) as it is less conservative than the [Bonferroni correction](http://en.wikipedia.org/wiki/Bonferroni_correction):\n",
    "$$\\alpha_{SID} = 1-(1-\\alpha)^\\frac{1}{m},$$\n",
    "where $m$ is the number of tests.\n",
    "\n",
    "* In our case $m$ is the number of combinations of algorithm configurations taken two at a time,\n",
    "$$\n",
    "m = {\\mathtt{number\\_of\\_experiments} \\choose 2}.\n",
    "$$\n",
    "* There are other corrections that can be used."
   ]
  },
  {
   "cell_type": "code",
   "execution_count": null,
   "metadata": {
    "internals": {
     "frag_helper": "fragment_end",
     "frag_number": 172,
     "slide_helper": "subslide_end"
    },
    "slide_helper": "slide_end",
    "slideshow": {
     "slide_type": "-"
    }
   },
   "outputs": [],
   "source": [
    "from scipy.misc import comb\n",
    "alpha=0.05\n",
    "alpha_sid = 1 - (1-alpha)**(1/comb(len(hypervols.columns), 2))\n",
    "alpha_sid"
   ]
  },
  {
   "cell_type": "markdown",
   "metadata": {
    "internals": {
     "frag_helper": "fragment_end",
     "frag_number": 172,
     "slide_type": "subslide"
    },
    "slideshow": {
     "slide_type": "slide"
    }
   },
   "source": [
    "Let's apply the corrected alpha to `raw_p_values`. If we have a cell with a `True` value that means that those two results are the same."
   ]
  },
  {
   "cell_type": "code",
   "execution_count": null,
   "metadata": {
    "internals": {
     "frag_helper": "fragment_end",
     "frag_number": 172,
     "slide_helper": "subslide_end"
    },
    "slide_helper": "slide_end",
    "slideshow": {
     "slide_type": "-"
    }
   },
   "outputs": [],
   "source": [
    "raw_p_values.applymap(lambda value: value <= alpha_sid)"
   ]
  },
  {
   "cell_type": "markdown",
   "metadata": {
    "internals": {
     "frag_helper": "fragment_end",
     "frag_number": 172,
     "slide_helper": "subslide_end",
     "slide_type": "subslide"
    },
    "slide_helper": "slide_end",
    "slideshow": {
     "slide_type": "slide"
    }
   },
   "source": [
    "## Further -and highly recommended- reading\n",
    "\n",
    "* Cohen, P. R. (1995). _Empirical Methods for Artificial Intelligence_ (Vol. 139). Cambridge: MIT press. [link](http://mitpress.mit.edu/books/empirical-methods-artificial-intelligence)\n",
    "* Bartz-Beielstein, Thomas (2006). _Experimental Research in Evolutionary Computation: The New Experimentalism_. Springer [link](http://link.springer.com/book/10.1007%2F3-540-32027-X)\n",
    "* García, S., & Herrera, F. (2008). _An Extension on “Statistical Comparisons of Classifiers over Multiple Data Sets” for all Pairwise Comparisons_. Journal of Machine Learning Research, 9, 2677–2694. [pdf](http://www.jmlr.org/papers/v9/garcia08a.html)"
   ]
  },
  {
   "cell_type": "markdown",
   "metadata": {
    "internals": {
     "frag_helper": "fragment_end",
     "frag_number": 172,
     "slide_type": "subslide"
    },
    "slideshow": {
     "slide_type": "slide"
    }
   },
   "source": [
    "# Final remarks\n",
    "\n"
   ]
  },
  {
   "cell_type": "markdown",
   "metadata": {
    "internals": {
     "frag_helper": "fragment_end",
     "frag_number": 172,
     "slide_helper": "subslide_end"
    },
    "slide_helper": "slide_end",
    "slideshow": {
     "slide_type": "-"
    }
   },
   "source": [
    "In this class/notebook we have seen some key elements:\n",
    "\n",
    "1. The Pareto dominance relation in action.\n",
    "2. The NSGA-II algorithm.\n",
    "3. Some of the existing MOP benchmarks. \n",
    "4. How to perform experiments and draw statistically valid conclusions from them.\n",
    "\n",
    "Bear in mind that:\n",
    "\n",
    "* When working in EMO topics problems like those of the CEC'09 or WFG toolkits are usually involved.\n",
    "* The issue of devising a proper experiment design and interpreting the results is a fundamental one.\n",
    "* The experimental setup presented here can be used with little modifications to single-objective optimization and even to other machine learning or stochastic algorithms."
   ]
  },
  {
   "cell_type": "markdown",
   "metadata": {},
   "source": [
    "<hr/>\n",
    "<div class=\"container-fluid\">\n",
    "  <div class='well'>\n",
    "      <div class=\"row\">\n",
    "          <div class=\"col-md-3\" align='center'>\n",
    "              <img align='center'alt=\"Creative Commons License\" style=\"border-width:0\" src=\"https://i.creativecommons.org/l/by-nc-sa/4.0/88x31.png\"/>\n",
    "          </div>\n",
    "          <div class=\"col-md-9\">\n",
    "              This work is licensed under a [Creative Commons Attribution-NonCommercial-ShareAlike 4.0 International License](http://creativecommons.org/licenses/by-nc-sa/4.0/).\n",
    "          </div>\n",
    "      </div>\n",
    "  </div>\n",
    "</div>"
   ]
  },
  {
   "cell_type": "code",
   "execution_count": null,
   "metadata": {},
   "outputs": [],
   "source": [
    "# To install run: pip install version_information\n",
    "%load_ext version_information\n",
    "%version_information scipy, numpy, matplotlib, seaborn, deap"
   ]
  },
  {
   "cell_type": "code",
   "execution_count": null,
   "metadata": {},
   "outputs": [],
   "source": [
    "# this code is here for cosmetic reasons\n",
    "from IPython.core.display import HTML\n",
    "from urllib.request import urlopen\n",
    "HTML(urlopen('https://raw.githubusercontent.com/lmarti/jupyter_custom/master/custom.include').read().decode('utf-8'))"
   ]
  },
  {
   "cell_type": "markdown",
   "metadata": {
    "collapsed": true
   },
   "source": [
    " "
   ]
  }
 ],
 "metadata": {
  "kernelspec": {
   "display_name": "Python 3",
   "language": "python",
   "name": "python3"
  },
  "language_info": {
   "codemirror_mode": {
    "name": "ipython",
    "version": 3
   },
   "file_extension": ".py",
   "mimetype": "text/x-python",
   "name": "python",
   "nbconvert_exporter": "python",
   "pygments_lexer": "ipython3",
   "version": "3.8.8"
  },
  "notify_time": "30",
  "widgets": {
   "state": {
    "fd0fbdf2f74c4fcfbc639df8f8988531": {
     "views": [
      {
       "cell_index": 117
      }
     ]
    }
   },
   "version": "1.2.0"
  }
 },
 "nbformat": 4,
 "nbformat_minor": 1
}
