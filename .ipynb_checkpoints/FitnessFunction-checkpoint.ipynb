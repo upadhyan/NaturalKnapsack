{
 "cells": [
  {
   "cell_type": "code",
   "execution_count": 2,
   "metadata": {},
   "outputs": [],
   "source": [
    "import pandas as pd\n",
    "import numpy as np"
   ]
  },
  {
   "cell_type": "code",
   "execution_count": 31,
   "metadata": {},
   "outputs": [],
   "source": [
    "def row_profit(profit_matrix, row):\n",
    "    row.shape = [1, row.shape[0]]\n",
    "    combo = row.T @ row\n",
    "    result = profit_matrix * combo\n",
    "    return result.sum()\n",
    "def fitness_function(profit_matrix, solution):\n",
    "    def row_wrapper(row):\n",
    "        return row_profit(profit_matrix, row)\n",
    "    result = np.apply_along_axis(row_wrapper, axis = 1, arr = solution)\n",
    "    return result.sum()"
   ]
  },
  {
   "cell_type": "code",
   "execution_count": 32,
   "metadata": {},
   "outputs": [
    {
     "data": {
      "text/plain": [
       "6"
      ]
     },
     "execution_count": 32,
     "metadata": {},
     "output_type": "execute_result"
    }
   ],
   "source": [
    "profit = np.array([[1,2,3],[0,1,2],[0,0,1]])\n",
    "row = np.array([[1,0,1], [0,1,0]])\n",
    "fitness_function(profit, row)"
   ]
  }
 ],
 "metadata": {
  "kernelspec": {
   "display_name": "Python 3",
   "language": "python",
   "name": "python3"
  },
  "language_info": {
   "codemirror_mode": {
    "name": "ipython",
    "version": 3
   },
   "file_extension": ".py",
   "mimetype": "text/x-python",
   "name": "python",
   "nbconvert_exporter": "python",
   "pygments_lexer": "ipython3",
   "version": "3.7.3"
  }
 },
 "nbformat": 4,
 "nbformat_minor": 2
}
