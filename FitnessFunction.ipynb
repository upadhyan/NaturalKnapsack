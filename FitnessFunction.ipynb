{
 "cells": [
  {
   "cell_type": "code",
   "execution_count": 4,
   "metadata": {},
   "outputs": [],
   "source": [
    "import pandas as pd\n",
    "import numpy as np"
   ]
  },
  {
   "cell_type": "code",
   "execution_count": 5,
   "metadata": {},
   "outputs": [],
   "source": [
    "def row_profit(profit_matrix, row):\n",
    "    row.shape = [1, row.shape[0]]\n",
    "    combo = row.T @ row\n",
    "    result = profit_matrix * combo\n",
    "    return result.sum()\n",
    "def fitness_function(profit_matrix, solution):\n",
    "    def row_wrapper(row):\n",
    "        return row_profit(profit_matrix, row)\n",
    "    result = np.apply_along_axis(row_wrapper, axis = 1, arr = solution)\n",
    "    return result.sum()"
   ]
  },
  {
   "cell_type": "code",
   "execution_count": 41,
   "metadata": {},
   "outputs": [],
   "source": [
    "def feature_transform(integer_representation,m):\n",
    "    n = len(integer_representation)\n",
    "    if max(integer_representation) > m:\n",
    "        raise ValueError(\"One of the Items is in a Knapsack that does not exist. The knapsack value is greater than the number of knapsacks\")\n",
    "    if min(integer_representation) < 0:\n",
    "        raise ValueError(\"One of the items is in a negative knapsack, which doesn't make sense\")\n",
    "    binary_matrix = np.zeros((m,n))\n",
    "    for i in range(n):\n",
    "        if not integer_representation[i] == 0:\n",
    "            binary_matrix[integer_representation[i]-1, i] = 1\n",
    "    return binary_matrix\n",
    "def feature_revert(binary_matrix):\n",
    "    n = binary_matrix.shape[1]\n",
    "    m = binary_matrix.shape[0]\n",
    "    sol = [0] * binary_matrix.shape[1]\n",
    "    result = (binary_matrix.T @ np.arange(1,m+1)).astype(int)\n",
    "    return result.tolist()"
   ]
  },
  {
   "cell_type": "code",
   "execution_count": 43,
   "metadata": {},
   "outputs": [
    {
     "data": {
      "text/plain": [
       "[0, 2, 3, 7, 8, 12]"
      ]
     },
     "execution_count": 43,
     "metadata": {},
     "output_type": "execute_result"
    }
   ],
   "source": [
    "integer_rep = [0,2,3,7,8,12]\n",
    "\n",
    "feature_revert(feature_transform(integer_rep, 15))\n"
   ]
  },
  {
   "cell_type": "code",
   "execution_count": 3,
   "metadata": {},
   "outputs": [
    {
     "data": {
      "text/plain": [
       "6"
      ]
     },
     "execution_count": 3,
     "metadata": {},
     "output_type": "execute_result"
    }
   ],
   "source": [
    "profit = np.array([[1,2,3],[0,1,2],[0,0,1]])\n",
    "row = np.array([[1,0,1], [0,1,0]])\n",
    "fitness_function(profit, row)"
   ]
  }
 ],
 "metadata": {
  "kernelspec": {
   "display_name": "Python 3",
   "language": "python",
   "name": "python3"
  },
  "language_info": {
   "codemirror_mode": {
    "name": "ipython",
    "version": 3
   },
   "file_extension": ".py",
   "mimetype": "text/x-python",
   "name": "python",
   "nbconvert_exporter": "python",
   "pygments_lexer": "ipython3",
   "version": "3.7.3"
  }
 },
 "nbformat": 4,
 "nbformat_minor": 2
}
