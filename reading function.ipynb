{
 "cells": [
  {
   "cell_type": "code",
   "execution_count": 78,
   "id": "e94d8bd2",
   "metadata": {},
   "outputs": [
    {
     "name": "stdout",
     "output_type": "stream",
     "text": [
      "r_100_25_1\n",
      "\n"
     ]
    }
   ],
   "source": [
    "import re\n",
    "\n",
    "# function to split a line into objects by whitespaces\n",
    "def ws_split(lst):\n",
    "    lst = re.split(r'\\s+', lst)\n",
    "    lst.pop()        #remove first empty character\n",
    "    lst.pop(0)       #remove last empty character\n",
    "    return lst\n",
    "\n",
    "def instance_read(instance):\n",
    "    with open(instance) as f:\n",
    "        lines = f.readlines()\n",
    "    d = dict();\n",
    "    d['ref'] = lines[0]\n",
    "    d['num_of_vars'] = int(lines[1])\n",
    "    d['profits'] = ws_split(lines[2])\n",
    "    d['combinations'] = [ws_split(i) for i in lines[3:int(num_of_vars)+2]]\n",
    "    d['constraint_type'] = lines[int(num_of_vars)+3]\n",
    "    d['capacity'] = lines[int(num_of_vars)+4]\n",
    "    d['weights'] = ws_split(lines[int(num_of_vars)+5])\n",
    "    \n",
    "    return d\n",
    "\n",
    "\n",
    "####\n",
    "# available keys: ref (instance reference) \n",
    "# num_of_vars (n)\n",
    "# profits (p_i)\n",
    "# combinations (p_ij)\n",
    "# constraint_type\n",
    "# capacity (C_k)\n",
    "# weights (w_i)\n",
    "####\n",
    "\n",
    "print(instance_read('jeu_100_25_1.txt').get(\"ref\"))"
   ]
  }
 ],
 "metadata": {
  "kernelspec": {
   "display_name": "Python 3",
   "language": "python",
   "name": "python3"
  },
  "language_info": {
   "codemirror_mode": {
    "name": "ipython",
    "version": 3
   },
   "file_extension": ".py",
   "mimetype": "text/x-python",
   "name": "python",
   "nbconvert_exporter": "python",
   "pygments_lexer": "ipython3",
   "version": "3.8.8"
  }
 },
 "nbformat": 4,
 "nbformat_minor": 5
}
